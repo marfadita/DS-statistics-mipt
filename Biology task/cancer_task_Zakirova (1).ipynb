{
  "cells": [
    {
      "cell_type": "markdown",
      "id": "e0a0d588",
      "metadata": {
        "id": "e0a0d588"
      },
      "source": [
        "# <a href=\"https://mipt-stats.gitlab.io/courses/ad_mipt.html\">Phystech@DataScience</a>\n",
        "## Профильное задание № 2 для направления биология.\n",
        "\n",
        "**Правила:**\n",
        "\n",
        "* Выполненную работу нужно отправить телеграм-боту, адрес которого будет указан на странице курса до конца недели. Обращаем ваше внимание, что в боте необходимо заранее зарегистрироваться и дождаться подтверждения.\n",
        "* Дедлайн **15 мая в 23:00**. После дедлайна работы не принимаются кроме случаев наличия уважительной причины.\n",
        "* Прислать нужно ноутбук в формате `ipynb` \n",
        "* Решения, размещенные на каких-либо интернет-ресурсах не принимаются. Публикация решения может быть приравнена к предоставлении возможности списать.\n",
        "* Для выполнения задания используйте этот ноутбук в качествие основы, ничего не удаляя из него.\n",
        "\n",
        "-----"
      ]
    },
    {
      "cell_type": "markdown",
      "source": [
        "**Работа Закировой Марфы, Б06-907**"
      ],
      "metadata": {
        "id": "u2R4rsBSyfdG"
      },
      "id": "u2R4rsBSyfdG"
    },
    {
      "cell_type": "code",
      "execution_count": 1,
      "id": "ad036f1a",
      "metadata": {
        "id": "ad036f1a",
        "colab": {
          "base_uri": "https://localhost:8080/"
        },
        "outputId": "e94128b6-c982-4f96-88cd-aac3faa5003a"
      },
      "outputs": [
        {
          "output_type": "stream",
          "name": "stdout",
          "text": [
            "Requirement already satisfied: pingouin in /usr/local/lib/python3.7/dist-packages (0.5.1)\n",
            "Requirement already satisfied: statsmodels>=0.13 in /usr/local/lib/python3.7/dist-packages (from pingouin) (0.13.2)\n",
            "Requirement already satisfied: pandas-flavor>=0.2.0 in /usr/local/lib/python3.7/dist-packages (from pingouin) (0.2.0)\n",
            "Requirement already satisfied: scipy>=1.7 in /usr/local/lib/python3.7/dist-packages (from pingouin) (1.7.3)\n",
            "Requirement already satisfied: scikit-learn in /usr/local/lib/python3.7/dist-packages (from pingouin) (1.0.2)\n",
            "Requirement already satisfied: tabulate in /usr/local/lib/python3.7/dist-packages (from pingouin) (0.8.9)\n",
            "Requirement already satisfied: outdated in /usr/local/lib/python3.7/dist-packages (from pingouin) (0.2.1)\n",
            "Requirement already satisfied: numpy>=1.19 in /usr/local/lib/python3.7/dist-packages (from pingouin) (1.21.6)\n",
            "Requirement already satisfied: matplotlib>=3.0.2 in /usr/local/lib/python3.7/dist-packages (from pingouin) (3.2.2)\n",
            "Requirement already satisfied: seaborn>=0.11 in /usr/local/lib/python3.7/dist-packages (from pingouin) (0.11.2)\n",
            "Requirement already satisfied: pandas>=1.0 in /usr/local/lib/python3.7/dist-packages (from pingouin) (1.3.5)\n",
            "Requirement already satisfied: pyparsing!=2.0.4,!=2.1.2,!=2.1.6,>=2.0.1 in /usr/local/lib/python3.7/dist-packages (from matplotlib>=3.0.2->pingouin) (3.0.8)\n",
            "Requirement already satisfied: cycler>=0.10 in /usr/local/lib/python3.7/dist-packages (from matplotlib>=3.0.2->pingouin) (0.11.0)\n",
            "Requirement already satisfied: python-dateutil>=2.1 in /usr/local/lib/python3.7/dist-packages (from matplotlib>=3.0.2->pingouin) (2.8.2)\n",
            "Requirement already satisfied: kiwisolver>=1.0.1 in /usr/local/lib/python3.7/dist-packages (from matplotlib>=3.0.2->pingouin) (1.4.2)\n",
            "Requirement already satisfied: typing-extensions in /usr/local/lib/python3.7/dist-packages (from kiwisolver>=1.0.1->matplotlib>=3.0.2->pingouin) (4.2.0)\n",
            "Requirement already satisfied: pytz>=2017.3 in /usr/local/lib/python3.7/dist-packages (from pandas>=1.0->pingouin) (2022.1)\n",
            "Requirement already satisfied: xarray in /usr/local/lib/python3.7/dist-packages (from pandas-flavor>=0.2.0->pingouin) (0.18.2)\n",
            "Requirement already satisfied: six>=1.5 in /usr/local/lib/python3.7/dist-packages (from python-dateutil>=2.1->matplotlib>=3.0.2->pingouin) (1.15.0)\n",
            "Requirement already satisfied: packaging>=21.3 in /usr/local/lib/python3.7/dist-packages (from statsmodels>=0.13->pingouin) (21.3)\n",
            "Requirement already satisfied: patsy>=0.5.2 in /usr/local/lib/python3.7/dist-packages (from statsmodels>=0.13->pingouin) (0.5.2)\n",
            "Requirement already satisfied: littleutils in /usr/local/lib/python3.7/dist-packages (from outdated->pingouin) (0.2.2)\n",
            "Requirement already satisfied: requests in /usr/local/lib/python3.7/dist-packages (from outdated->pingouin) (2.23.0)\n",
            "Requirement already satisfied: idna<3,>=2.5 in /usr/local/lib/python3.7/dist-packages (from requests->outdated->pingouin) (2.10)\n",
            "Requirement already satisfied: certifi>=2017.4.17 in /usr/local/lib/python3.7/dist-packages (from requests->outdated->pingouin) (2021.10.8)\n",
            "Requirement already satisfied: chardet<4,>=3.0.2 in /usr/local/lib/python3.7/dist-packages (from requests->outdated->pingouin) (3.0.4)\n",
            "Requirement already satisfied: urllib3!=1.25.0,!=1.25.1,<1.26,>=1.21.1 in /usr/local/lib/python3.7/dist-packages (from requests->outdated->pingouin) (1.24.3)\n",
            "Requirement already satisfied: joblib>=0.11 in /usr/local/lib/python3.7/dist-packages (from scikit-learn->pingouin) (1.1.0)\n",
            "Requirement already satisfied: threadpoolctl>=2.0.0 in /usr/local/lib/python3.7/dist-packages (from scikit-learn->pingouin) (3.1.0)\n",
            "Requirement already satisfied: setuptools>=40.4 in /usr/local/lib/python3.7/dist-packages (from xarray->pandas-flavor>=0.2.0->pingouin) (57.4.0)\n"
          ]
        }
      ],
      "source": [
        "import numpy as np\n",
        "import pandas as pd\n",
        "import matplotlib.pyplot as plt\n",
        "import seaborn as sns\n",
        "import scipy.stats as sps\n",
        "!pip3 install pingouin\n",
        "import pingouin as pg\n",
        "from statsmodels.sandbox.stats.multicomp import multipletests\n",
        "from sklearn.linear_model import LinearRegression\n",
        "\n",
        "from statsmodels.stats import multitest, multicomp\n",
        "import statsmodels.formula.api as smf\n",
        "\n",
        "import math\n",
        "from scipy.special import logit\n",
        "\n",
        "sns.set(font_scale=1.3)"
      ]
    },
    {
      "cell_type": "markdown",
      "id": "e8992f0c",
      "metadata": {
        "id": "e8992f0c"
      },
      "source": [
        "Рак — весьма распространенное заболевание, поражающее многоклеточных животных. Причины развития онкологии могут быть весьма разнообразными, однако все они сводятся к соматическим мутациям в клетках. \n",
        "\n",
        "Кажется вполне очевидным тот факт, что увеличение числа клеток в организме должно привести к увеличению вероятности развития рака, если учесть, что каждое деление клетки несет в себе риск возникновения мутаций. Более того, организмы с большей продолжительностью жизни также должны быть больше подвержены раку (так как у клеток больше времени накопления мутаций). Действительно, среди людей и собак более крупные особи более склонны к развитию рака, чем более мелкие. Точно так же пожилой возраст является одним из наиболее влиятельных канцерогенных факторов у видов, у которых этиология рака хорошо изучена.\n",
        "\n",
        "Однако, подобная зависимость не наблюдается в других таксонах. В 1977 году Ричард Пето сформалировал так называемый [парадокс Пето](https://ru.wikipedia.org/wiki/Парадокс_Пето), согласно которому заболеваемость раком не зависит от количества клеток в организме и продолжительности жизни. До недавнего времени это эмпирическое правило не было подтверждено комплексными исследованиями. В конце 2021 года в Nature была опубликована статья под названием [Cancer risk across mammals](https://www.nature.com/articles/s41586-021-04224-5), в которой ученые провели статистический анализ риска заболевания раком среди млекопитающих. Попробуем провести подобное исследование.\n",
        "\n",
        "Загрузим данные с [github](https://github.com/OrsolyaVincze/VinczeEtal2021Nature). Скачайте файл `Data.csv`."
      ]
    },
    {
      "cell_type": "code",
      "execution_count": 2,
      "id": "177376b6",
      "metadata": {
        "id": "177376b6"
      },
      "outputs": [],
      "source": [
        "df = pd.read_csv('data.csv')"
      ]
    },
    {
      "cell_type": "code",
      "execution_count": 3,
      "id": "9c70e0f8",
      "metadata": {
        "id": "9c70e0f8",
        "colab": {
          "base_uri": "https://localhost:8080/",
          "height": 206
        },
        "outputId": "9f642f18-c00f-4aa5-dcf2-053a9876a239"
      },
      "outputs": [
        {
          "output_type": "execute_result",
          "data": {
            "text/plain": [
              "   Unnamed: 0              Species         order  FemaleMeanMass  \\\n",
              "0           1     Acinonyx_jubatus     Carnivora       39.906168   \n",
              "1           2  Addax_nasomaculatus  Artiodactyla      102.281106   \n",
              "2           3   Aepyceros_melampus  Artiodactyla       42.373844   \n",
              "3           4      Ailurus_fulgens     Carnivora        5.921639   \n",
              "4           5          Alces_alces  Artiodactyla      292.792354   \n",
              "\n",
              "   MaleMeanMass       CMR       ICM      lifeexp  Sample  Deaths  Neoplasia  \\\n",
              "0     45.193976  0.035556  0.041555  3533.859621    1560     649          8   \n",
              "1    118.985007  0.035714  0.061624  3127.886214     762     336          3   \n",
              "2     53.925686  0.057325  0.141182  2465.892908    1007     537          9   \n",
              "3      6.029143  0.070707  0.073361  3580.261306    1068     421          7   \n",
              "4    397.025427  0.000000  0.000000  2103.783182     246     147          0   \n",
              "\n",
              "   knownDeaths  Animal  Vertebrate  Invertebrate  Fish  Herptile  Bird  Mammal  \n",
              "0          225     1.0         1.0           0.0   0.0       0.0   0.0     1.0  \n",
              "1           84     0.0         0.0           0.0   0.0       0.0   0.0     0.0  \n",
              "2          157     0.0         0.0           0.0   0.0       0.0   0.0     0.0  \n",
              "3           99     0.0         0.0           0.0   0.0       0.0   0.0     0.0  \n",
              "4           33     0.0         0.0           0.0   0.0       0.0   0.0     0.0  "
            ],
            "text/html": [
              "\n",
              "  <div id=\"df-a974a334-37f4-4237-a5d6-dd36b2c349a7\">\n",
              "    <div class=\"colab-df-container\">\n",
              "      <div>\n",
              "<style scoped>\n",
              "    .dataframe tbody tr th:only-of-type {\n",
              "        vertical-align: middle;\n",
              "    }\n",
              "\n",
              "    .dataframe tbody tr th {\n",
              "        vertical-align: top;\n",
              "    }\n",
              "\n",
              "    .dataframe thead th {\n",
              "        text-align: right;\n",
              "    }\n",
              "</style>\n",
              "<table border=\"1\" class=\"dataframe\">\n",
              "  <thead>\n",
              "    <tr style=\"text-align: right;\">\n",
              "      <th></th>\n",
              "      <th>Unnamed: 0</th>\n",
              "      <th>Species</th>\n",
              "      <th>order</th>\n",
              "      <th>FemaleMeanMass</th>\n",
              "      <th>MaleMeanMass</th>\n",
              "      <th>CMR</th>\n",
              "      <th>ICM</th>\n",
              "      <th>lifeexp</th>\n",
              "      <th>Sample</th>\n",
              "      <th>Deaths</th>\n",
              "      <th>Neoplasia</th>\n",
              "      <th>knownDeaths</th>\n",
              "      <th>Animal</th>\n",
              "      <th>Vertebrate</th>\n",
              "      <th>Invertebrate</th>\n",
              "      <th>Fish</th>\n",
              "      <th>Herptile</th>\n",
              "      <th>Bird</th>\n",
              "      <th>Mammal</th>\n",
              "    </tr>\n",
              "  </thead>\n",
              "  <tbody>\n",
              "    <tr>\n",
              "      <th>0</th>\n",
              "      <td>1</td>\n",
              "      <td>Acinonyx_jubatus</td>\n",
              "      <td>Carnivora</td>\n",
              "      <td>39.906168</td>\n",
              "      <td>45.193976</td>\n",
              "      <td>0.035556</td>\n",
              "      <td>0.041555</td>\n",
              "      <td>3533.859621</td>\n",
              "      <td>1560</td>\n",
              "      <td>649</td>\n",
              "      <td>8</td>\n",
              "      <td>225</td>\n",
              "      <td>1.0</td>\n",
              "      <td>1.0</td>\n",
              "      <td>0.0</td>\n",
              "      <td>0.0</td>\n",
              "      <td>0.0</td>\n",
              "      <td>0.0</td>\n",
              "      <td>1.0</td>\n",
              "    </tr>\n",
              "    <tr>\n",
              "      <th>1</th>\n",
              "      <td>2</td>\n",
              "      <td>Addax_nasomaculatus</td>\n",
              "      <td>Artiodactyla</td>\n",
              "      <td>102.281106</td>\n",
              "      <td>118.985007</td>\n",
              "      <td>0.035714</td>\n",
              "      <td>0.061624</td>\n",
              "      <td>3127.886214</td>\n",
              "      <td>762</td>\n",
              "      <td>336</td>\n",
              "      <td>3</td>\n",
              "      <td>84</td>\n",
              "      <td>0.0</td>\n",
              "      <td>0.0</td>\n",
              "      <td>0.0</td>\n",
              "      <td>0.0</td>\n",
              "      <td>0.0</td>\n",
              "      <td>0.0</td>\n",
              "      <td>0.0</td>\n",
              "    </tr>\n",
              "    <tr>\n",
              "      <th>2</th>\n",
              "      <td>3</td>\n",
              "      <td>Aepyceros_melampus</td>\n",
              "      <td>Artiodactyla</td>\n",
              "      <td>42.373844</td>\n",
              "      <td>53.925686</td>\n",
              "      <td>0.057325</td>\n",
              "      <td>0.141182</td>\n",
              "      <td>2465.892908</td>\n",
              "      <td>1007</td>\n",
              "      <td>537</td>\n",
              "      <td>9</td>\n",
              "      <td>157</td>\n",
              "      <td>0.0</td>\n",
              "      <td>0.0</td>\n",
              "      <td>0.0</td>\n",
              "      <td>0.0</td>\n",
              "      <td>0.0</td>\n",
              "      <td>0.0</td>\n",
              "      <td>0.0</td>\n",
              "    </tr>\n",
              "    <tr>\n",
              "      <th>3</th>\n",
              "      <td>4</td>\n",
              "      <td>Ailurus_fulgens</td>\n",
              "      <td>Carnivora</td>\n",
              "      <td>5.921639</td>\n",
              "      <td>6.029143</td>\n",
              "      <td>0.070707</td>\n",
              "      <td>0.073361</td>\n",
              "      <td>3580.261306</td>\n",
              "      <td>1068</td>\n",
              "      <td>421</td>\n",
              "      <td>7</td>\n",
              "      <td>99</td>\n",
              "      <td>0.0</td>\n",
              "      <td>0.0</td>\n",
              "      <td>0.0</td>\n",
              "      <td>0.0</td>\n",
              "      <td>0.0</td>\n",
              "      <td>0.0</td>\n",
              "      <td>0.0</td>\n",
              "    </tr>\n",
              "    <tr>\n",
              "      <th>4</th>\n",
              "      <td>5</td>\n",
              "      <td>Alces_alces</td>\n",
              "      <td>Artiodactyla</td>\n",
              "      <td>292.792354</td>\n",
              "      <td>397.025427</td>\n",
              "      <td>0.000000</td>\n",
              "      <td>0.000000</td>\n",
              "      <td>2103.783182</td>\n",
              "      <td>246</td>\n",
              "      <td>147</td>\n",
              "      <td>0</td>\n",
              "      <td>33</td>\n",
              "      <td>0.0</td>\n",
              "      <td>0.0</td>\n",
              "      <td>0.0</td>\n",
              "      <td>0.0</td>\n",
              "      <td>0.0</td>\n",
              "      <td>0.0</td>\n",
              "      <td>0.0</td>\n",
              "    </tr>\n",
              "  </tbody>\n",
              "</table>\n",
              "</div>\n",
              "      <button class=\"colab-df-convert\" onclick=\"convertToInteractive('df-a974a334-37f4-4237-a5d6-dd36b2c349a7')\"\n",
              "              title=\"Convert this dataframe to an interactive table.\"\n",
              "              style=\"display:none;\">\n",
              "        \n",
              "  <svg xmlns=\"http://www.w3.org/2000/svg\" height=\"24px\"viewBox=\"0 0 24 24\"\n",
              "       width=\"24px\">\n",
              "    <path d=\"M0 0h24v24H0V0z\" fill=\"none\"/>\n",
              "    <path d=\"M18.56 5.44l.94 2.06.94-2.06 2.06-.94-2.06-.94-.94-2.06-.94 2.06-2.06.94zm-11 1L8.5 8.5l.94-2.06 2.06-.94-2.06-.94L8.5 2.5l-.94 2.06-2.06.94zm10 10l.94 2.06.94-2.06 2.06-.94-2.06-.94-.94-2.06-.94 2.06-2.06.94z\"/><path d=\"M17.41 7.96l-1.37-1.37c-.4-.4-.92-.59-1.43-.59-.52 0-1.04.2-1.43.59L10.3 9.45l-7.72 7.72c-.78.78-.78 2.05 0 2.83L4 21.41c.39.39.9.59 1.41.59.51 0 1.02-.2 1.41-.59l7.78-7.78 2.81-2.81c.8-.78.8-2.07 0-2.86zM5.41 20L4 18.59l7.72-7.72 1.47 1.35L5.41 20z\"/>\n",
              "  </svg>\n",
              "      </button>\n",
              "      \n",
              "  <style>\n",
              "    .colab-df-container {\n",
              "      display:flex;\n",
              "      flex-wrap:wrap;\n",
              "      gap: 12px;\n",
              "    }\n",
              "\n",
              "    .colab-df-convert {\n",
              "      background-color: #E8F0FE;\n",
              "      border: none;\n",
              "      border-radius: 50%;\n",
              "      cursor: pointer;\n",
              "      display: none;\n",
              "      fill: #1967D2;\n",
              "      height: 32px;\n",
              "      padding: 0 0 0 0;\n",
              "      width: 32px;\n",
              "    }\n",
              "\n",
              "    .colab-df-convert:hover {\n",
              "      background-color: #E2EBFA;\n",
              "      box-shadow: 0px 1px 2px rgba(60, 64, 67, 0.3), 0px 1px 3px 1px rgba(60, 64, 67, 0.15);\n",
              "      fill: #174EA6;\n",
              "    }\n",
              "\n",
              "    [theme=dark] .colab-df-convert {\n",
              "      background-color: #3B4455;\n",
              "      fill: #D2E3FC;\n",
              "    }\n",
              "\n",
              "    [theme=dark] .colab-df-convert:hover {\n",
              "      background-color: #434B5C;\n",
              "      box-shadow: 0px 1px 3px 1px rgba(0, 0, 0, 0.15);\n",
              "      filter: drop-shadow(0px 1px 2px rgba(0, 0, 0, 0.3));\n",
              "      fill: #FFFFFF;\n",
              "    }\n",
              "  </style>\n",
              "\n",
              "      <script>\n",
              "        const buttonEl =\n",
              "          document.querySelector('#df-a974a334-37f4-4237-a5d6-dd36b2c349a7 button.colab-df-convert');\n",
              "        buttonEl.style.display =\n",
              "          google.colab.kernel.accessAllowed ? 'block' : 'none';\n",
              "\n",
              "        async function convertToInteractive(key) {\n",
              "          const element = document.querySelector('#df-a974a334-37f4-4237-a5d6-dd36b2c349a7');\n",
              "          const dataTable =\n",
              "            await google.colab.kernel.invokeFunction('convertToInteractive',\n",
              "                                                     [key], {});\n",
              "          if (!dataTable) return;\n",
              "\n",
              "          const docLinkHtml = 'Like what you see? Visit the ' +\n",
              "            '<a target=\"_blank\" href=https://colab.research.google.com/notebooks/data_table.ipynb>data table notebook</a>'\n",
              "            + ' to learn more about interactive tables.';\n",
              "          element.innerHTML = '';\n",
              "          dataTable['output_type'] = 'display_data';\n",
              "          await google.colab.output.renderOutput(dataTable, element);\n",
              "          const docLink = document.createElement('div');\n",
              "          docLink.innerHTML = docLinkHtml;\n",
              "          element.appendChild(docLink);\n",
              "        }\n",
              "      </script>\n",
              "    </div>\n",
              "  </div>\n",
              "  "
            ]
          },
          "metadata": {},
          "execution_count": 3
        }
      ],
      "source": [
        "df.head()"
      ]
    },
    {
      "cell_type": "markdown",
      "id": "2ff23a95",
      "metadata": {
        "id": "2ff23a95"
      },
      "source": [
        "Посмотрите, какие есть столбцы в таблице."
      ]
    },
    {
      "cell_type": "code",
      "execution_count": 4,
      "id": "d7c3c4d5",
      "metadata": {
        "id": "d7c3c4d5",
        "colab": {
          "base_uri": "https://localhost:8080/"
        },
        "outputId": "667199b2-5418-4e2f-a98d-3c5ac5073f11"
      },
      "outputs": [
        {
          "output_type": "execute_result",
          "data": {
            "text/plain": [
              "Index(['Species', 'order', 'FemaleMeanMass', 'MaleMeanMass', 'CMR', 'ICM',\n",
              "       'lifeexp', 'Sample', 'Deaths', 'Neoplasia', 'knownDeaths', 'Animal',\n",
              "       'Vertebrate', 'Invertebrate', 'Fish', 'Herptile', 'Bird', 'Mammal'],\n",
              "      dtype='object')"
            ]
          },
          "metadata": {},
          "execution_count": 4
        }
      ],
      "source": [
        "df.drop('Unnamed: 0', axis=1, inplace=True)  # удаляем лишний столбец\n",
        "df.columns"
      ]
    },
    {
      "cell_type": "markdown",
      "id": "14fd43a9",
      "metadata": {
        "id": "14fd43a9"
      },
      "source": [
        "Для каждого вида приведена следующая информация:\n",
        "* Species - научное название вида.\n",
        "* order - отряд.\n",
        "* FemaleMeanMass - средняя масса тела взрослых самок (кг).\n",
        "* MaleMeanMass  - средняя масса тела взрослых самцов (кг).\n",
        "* CMR - риск смертности от рака у взрослых особей (Cancer mortality risk). Переменная принимает значение от 0 до 1.\n",
        "* ICM - частота смерти от рака у взрослых особей (Incidence of cancer mortality). Переменная принимает значение от 0 до 1.\n",
        "* lifeexp - средняя продолжительность жизни после полового созревания, т.е. оставшаяся продолжительность жизни (в днях).\n",
        "* Sample - общее число особей, принадлежащих к данному виду, в базе данных.\n",
        "* Deaths - общее число смертей среди данного вида в базе данных.\n",
        "* Neoplasia\t- общее число случаев неоплазии, зарегистрированных у данного вида, которые можно считать существенной причиной смерти животного.\n",
        "* knownDeaths - общее количество умерших особей, чьи патологоанатомические записи (т.е. наиболее вероятные причины смерти) были выявлены и внесены в базу данных животноводства.\n",
        "* Animal - присутствие животных (1) или отсутствие (0) в рационе. \n",
        "* Vertebrate - наличие (1) или отсутствие (0) позвоночных в рационе.\n",
        "* Invertebrate\t- наличие (1) или отсутствие (0) непозвоночных в рационе.\n",
        "* Fish - наличие (1) или отсутствие (0) рыбы в рационе.\n",
        "* Herptile\t- наличие (1) или отсутствие (0) рептилий в рационе.\n",
        "* Bird - наличие (1) или отсутствие (0) птицы в рационе.\n",
        "* Mammal - наличие (1) или отсутствие (0) млекопитающих в рационе."
      ]
    },
    {
      "cell_type": "markdown",
      "id": "0bb80d20",
      "metadata": {
        "id": "0bb80d20"
      },
      "source": [
        "Рассмотрим две метрики, представленные исследователями:\n",
        "- Cancer mortality risk (CMR) - это отношение числа смертей, ассоциированных с раком, к общему числу смертей с доступными патологоанатомическими записями. Однако эта метрика не учитывает живых индивидов, страдающих от рака. Для учета этого факта была введена другая метрика:\n",
        "- Incidence of cancer mortality (ICM) - метрика, призванная учесть \"усечение распределения слева\" (т.е. учет организмов с раком, но еще не попавших в выборку) и \"усечение справа\" (учет больных раком особей, смерть которых еще не наступила). Для вычисления ICM используется оценщик Каплана-Мейера (Kaplan–Meier estimator), который представляет собой непараметрическую статистику, используемую для оценки функции выживаемости на основе данных о продолжительности жизни."
      ]
    },
    {
      "cell_type": "markdown",
      "id": "bb27ad51",
      "metadata": {
        "id": "bb27ad51"
      },
      "source": [
        "Для дальнейшего анализа добавим столбец `bodyMass` со средней массой особи каждого вида как среднее масс самок и самцов. Переведем продолжительность жизни в года."
      ]
    },
    {
      "cell_type": "code",
      "execution_count": 5,
      "id": "b1ca6c53",
      "metadata": {
        "id": "b1ca6c53"
      },
      "outputs": [],
      "source": [
        "df['bodyMass'] = (df['FemaleMeanMass'] + df['MaleMeanMass'])/2\n",
        "df.lifeexp /= 365"
      ]
    },
    {
      "cell_type": "markdown",
      "id": "90454101",
      "metadata": {
        "id": "90454101"
      },
      "source": [
        "### Задача 1. Зависимость риска рака от принадлежности к отряду"
      ]
    },
    {
      "cell_type": "markdown",
      "id": "07d0a320",
      "metadata": {
        "id": "07d0a320"
      },
      "source": [
        "В исследовании использовались две метрики для оценки смертности от рака: `CRM` и `ICM`. По смыслу они кажутся очень похожими. Постройте график, по осям которого отложены значения CRM и ICM для каждого вида. Для этого удобно воспользоваться функцией библиотеки seaborn `jointplot`. Уберите строки, в которых есть NaN хотя бы в одном из этих двух столбцов. Посчитайте коэффициент(-ы) корреляции (Пирсона/Спирмена/Кендалла). Поясните, почему вы выбрали тот или иной коэффициент(-ы). Сделайте вывод.\n",
        "\n",
        "*Совет: воспользуйтесь логарифмическими координатами.*"
      ]
    },
    {
      "cell_type": "code",
      "execution_count": 6,
      "id": "c7f153ac",
      "metadata": {
        "id": "c7f153ac",
        "colab": {
          "base_uri": "https://localhost:8080/",
          "height": 147
        },
        "outputId": "cf26924c-e994-4fdc-9f11-a189b6884a7e"
      },
      "outputs": [
        {
          "output_type": "stream",
          "name": "stderr",
          "text": [
            "/usr/local/lib/python3.7/dist-packages/pandas/core/arraylike.py:364: RuntimeWarning: divide by zero encountered in log\n",
            "  result = getattr(ufunc, method)(*inputs, **kwargs)\n"
          ]
        },
        {
          "output_type": "execute_result",
          "data": {
            "text/plain": [
              "         Коэфф. корреляции       p-value\n",
              "Спирмен              0.929  7.829067e-75\n",
              "Кендалл              0.792  3.423093e-49"
            ],
            "text/html": [
              "\n",
              "  <div id=\"df-fb932a18-9c88-468e-a224-c78fdbf4009f\">\n",
              "    <div class=\"colab-df-container\">\n",
              "      <div>\n",
              "<style scoped>\n",
              "    .dataframe tbody tr th:only-of-type {\n",
              "        vertical-align: middle;\n",
              "    }\n",
              "\n",
              "    .dataframe tbody tr th {\n",
              "        vertical-align: top;\n",
              "    }\n",
              "\n",
              "    .dataframe thead th {\n",
              "        text-align: right;\n",
              "    }\n",
              "</style>\n",
              "<table border=\"1\" class=\"dataframe\">\n",
              "  <thead>\n",
              "    <tr style=\"text-align: right;\">\n",
              "      <th></th>\n",
              "      <th>Коэфф. корреляции</th>\n",
              "      <th>p-value</th>\n",
              "    </tr>\n",
              "  </thead>\n",
              "  <tbody>\n",
              "    <tr>\n",
              "      <th>Спирмен</th>\n",
              "      <td>0.929</td>\n",
              "      <td>7.829067e-75</td>\n",
              "    </tr>\n",
              "    <tr>\n",
              "      <th>Кендалл</th>\n",
              "      <td>0.792</td>\n",
              "      <td>3.423093e-49</td>\n",
              "    </tr>\n",
              "  </tbody>\n",
              "</table>\n",
              "</div>\n",
              "      <button class=\"colab-df-convert\" onclick=\"convertToInteractive('df-fb932a18-9c88-468e-a224-c78fdbf4009f')\"\n",
              "              title=\"Convert this dataframe to an interactive table.\"\n",
              "              style=\"display:none;\">\n",
              "        \n",
              "  <svg xmlns=\"http://www.w3.org/2000/svg\" height=\"24px\"viewBox=\"0 0 24 24\"\n",
              "       width=\"24px\">\n",
              "    <path d=\"M0 0h24v24H0V0z\" fill=\"none\"/>\n",
              "    <path d=\"M18.56 5.44l.94 2.06.94-2.06 2.06-.94-2.06-.94-.94-2.06-.94 2.06-2.06.94zm-11 1L8.5 8.5l.94-2.06 2.06-.94-2.06-.94L8.5 2.5l-.94 2.06-2.06.94zm10 10l.94 2.06.94-2.06 2.06-.94-2.06-.94-.94-2.06-.94 2.06-2.06.94z\"/><path d=\"M17.41 7.96l-1.37-1.37c-.4-.4-.92-.59-1.43-.59-.52 0-1.04.2-1.43.59L10.3 9.45l-7.72 7.72c-.78.78-.78 2.05 0 2.83L4 21.41c.39.39.9.59 1.41.59.51 0 1.02-.2 1.41-.59l7.78-7.78 2.81-2.81c.8-.78.8-2.07 0-2.86zM5.41 20L4 18.59l7.72-7.72 1.47 1.35L5.41 20z\"/>\n",
              "  </svg>\n",
              "      </button>\n",
              "      \n",
              "  <style>\n",
              "    .colab-df-container {\n",
              "      display:flex;\n",
              "      flex-wrap:wrap;\n",
              "      gap: 12px;\n",
              "    }\n",
              "\n",
              "    .colab-df-convert {\n",
              "      background-color: #E8F0FE;\n",
              "      border: none;\n",
              "      border-radius: 50%;\n",
              "      cursor: pointer;\n",
              "      display: none;\n",
              "      fill: #1967D2;\n",
              "      height: 32px;\n",
              "      padding: 0 0 0 0;\n",
              "      width: 32px;\n",
              "    }\n",
              "\n",
              "    .colab-df-convert:hover {\n",
              "      background-color: #E2EBFA;\n",
              "      box-shadow: 0px 1px 2px rgba(60, 64, 67, 0.3), 0px 1px 3px 1px rgba(60, 64, 67, 0.15);\n",
              "      fill: #174EA6;\n",
              "    }\n",
              "\n",
              "    [theme=dark] .colab-df-convert {\n",
              "      background-color: #3B4455;\n",
              "      fill: #D2E3FC;\n",
              "    }\n",
              "\n",
              "    [theme=dark] .colab-df-convert:hover {\n",
              "      background-color: #434B5C;\n",
              "      box-shadow: 0px 1px 3px 1px rgba(0, 0, 0, 0.15);\n",
              "      filter: drop-shadow(0px 1px 2px rgba(0, 0, 0, 0.3));\n",
              "      fill: #FFFFFF;\n",
              "    }\n",
              "  </style>\n",
              "\n",
              "      <script>\n",
              "        const buttonEl =\n",
              "          document.querySelector('#df-fb932a18-9c88-468e-a224-c78fdbf4009f button.colab-df-convert');\n",
              "        buttonEl.style.display =\n",
              "          google.colab.kernel.accessAllowed ? 'block' : 'none';\n",
              "\n",
              "        async function convertToInteractive(key) {\n",
              "          const element = document.querySelector('#df-fb932a18-9c88-468e-a224-c78fdbf4009f');\n",
              "          const dataTable =\n",
              "            await google.colab.kernel.invokeFunction('convertToInteractive',\n",
              "                                                     [key], {});\n",
              "          if (!dataTable) return;\n",
              "\n",
              "          const docLinkHtml = 'Like what you see? Visit the ' +\n",
              "            '<a target=\"_blank\" href=https://colab.research.google.com/notebooks/data_table.ipynb>data table notebook</a>'\n",
              "            + ' to learn more about interactive tables.';\n",
              "          element.innerHTML = '';\n",
              "          dataTable['output_type'] = 'display_data';\n",
              "          await google.colab.output.renderOutput(dataTable, element);\n",
              "          const docLink = document.createElement('div');\n",
              "          docLink.innerHTML = docLinkHtml;\n",
              "          element.appendChild(docLink);\n",
              "        }\n",
              "      </script>\n",
              "    </div>\n",
              "  </div>\n",
              "  "
            ]
          },
          "metadata": {},
          "execution_count": 6
        }
      ],
      "source": [
        "index_to_drop = df.index[df[['CMR','ICM']].isna().sum(axis = 1) != 0]\n",
        "df = df.drop(index_to_drop)\n",
        "\n",
        "df2 = df.copy()\n",
        "df2['log(CMR)'], df2['log(ICM)'] = np.log(df['CMR']), np.log(df['ICM'])\n",
        "\n",
        "spearman = sps.spearmanr(df['CMR'], df['ICM']) \n",
        "kendall = sps.kendalltau(df['CMR'], df['ICM'])\n",
        "pd.DataFrame({'Коэфф. корреляции': np.round([spearman[0], kendall[0]],3), 'p-value': multipletests([spearman[1],kendall[1]], method = 'holm')[1]}, index = ['Спирмен', 'Кендалл']) \n",
        " "
      ]
    },
    {
      "cell_type": "code",
      "execution_count": 7,
      "id": "47ba4145",
      "metadata": {
        "id": "47ba4145",
        "colab": {
          "base_uri": "https://localhost:8080/",
          "height": 458
        },
        "outputId": "e8df352a-8d26-4cf6-ae1b-05072976e106"
      },
      "outputs": [
        {
          "output_type": "execute_result",
          "data": {
            "text/plain": [
              "<seaborn.axisgrid.JointGrid at 0x7f93cafa0d90>"
            ]
          },
          "metadata": {},
          "execution_count": 7
        },
        {
          "output_type": "display_data",
          "data": {
            "text/plain": [
              "<Figure size 432x432 with 3 Axes>"
            ],
            "image/png": "[encoded data removed]"
          },
          "metadata": {
            "needs_background": "light"
          }
        }
      ],
      "source": [
        "sns.jointplot(x= 'log(CMR)', y='log(ICM)', data=df2, kind=\"scatter\")"
      ]
    },
    {
      "cell_type": "markdown",
      "id": "ac59ec23",
      "metadata": {
        "id": "ac59ec23"
      },
      "source": [
        "**Вывод:** \n",
        "\n",
        "**Посчитаем коэффициенты корреляции Спирмена и Кендалла, не Пирсона, так как последний предполагает наличие линейной зависимости между данными из нормального распределения, что может не выполняться.** \n",
        "\n",
        "**Заметим что если**\n",
        "\n",
        "$y = f(x)$\n",
        "\n",
        "\n",
        "$log(y) = log(f(x))  = F(x)$\n",
        "\n",
        "**то есть при логарифмировании зависимость сохраняется, а в силу монотонности логарифма не меняется тип зависимости.**\n",
        "\n",
        "**Для обоих проверок корреляции получилось большое значение коэффициента, что говорит о том, что значения CMR и ICM лежат на монотонной кривой, гипотеза о независимости отвергается. Этот факт подтверждается графически.**"
      ]
    },
    {
      "cell_type": "markdown",
      "id": "30b6224e",
      "metadata": {
        "id": "30b6224e"
      },
      "source": [
        "Посмотрите, какие отряды представлены в данных и сколько видов животных в них. Создайте список отрядов, представленных двумя видами и больше."
      ]
    },
    {
      "cell_type": "code",
      "execution_count": 8,
      "id": "6b68e6ac",
      "metadata": {
        "id": "6b68e6ac",
        "colab": {
          "base_uri": "https://localhost:8080/"
        },
        "outputId": "fa30110b-f849-40e6-808e-ea6017728f59"
      },
      "outputs": [
        {
          "output_type": "stream",
          "name": "stdout",
          "text": [
            "Отряды: ['Carnivora' 'Artiodactyla' 'Primates' 'Diprotodontia' 'Rodentia'\n",
            " 'Chiroptera' 'Dasyuromorphia' 'Afrosoricida' 'Perissodactyla'\n",
            " 'Macroscelidea' 'Hyracoidea' 'Scandentia']\n",
            "Число видов: 172\n",
            "Отряды, представленные 2 видами и больше: ['Carnivora', 'Artiodactyla', 'Primates', 'Diprotodontia', 'Rodentia', 'Chiroptera', 'Perissodactyla']\n"
          ]
        }
      ],
      "source": [
        "print(f'Отряды: {df.order.unique()}')\n",
        "print(f'Число видов: {df.Species.unique().shape[0]}')\n",
        "\n",
        "orders2 = []\n",
        "for order in df['order'].unique():\n",
        "  if df[df['order'] == order]['Species'].unique().shape[0] >=2:\n",
        "    orders2.append(order)\n",
        "print(f'Отряды, представленные 2 видами и больше: {orders2}')"
      ]
    },
    {
      "cell_type": "markdown",
      "id": "a9fdc743",
      "metadata": {
        "id": "a9fdc743"
      },
      "source": [
        "Визуализируйте данные, построив `violinplot` с распределением CMR (дальше будем рассматривать только эту метрику) для каждого отряда. Постройте все на одной `matplotlib`-фигуре, а также визуализируйте на violinplot точки из выборок. Подпишите отряды и число видов, представляющих их. Какие можно сделать предварительные выводы?"
      ]
    },
    {
      "cell_type": "code",
      "execution_count": 9,
      "id": "7d053905",
      "metadata": {
        "id": "7d053905",
        "colab": {
          "base_uri": "https://localhost:8080/",
          "height": 623
        },
        "outputId": "cc39bc78-616e-4263-f427-a0c34cd73283"
      },
      "outputs": [
        {
          "output_type": "display_data",
          "data": {
            "text/plain": [
              "<Figure size 1800x720 with 1 Axes>"
            ],
            "image/png": "[encoded data removed]"
          },
          "metadata": {
            "needs_background": "light"
          }
        }
      ],
      "source": [
        "plt.figure(figsize=(25,10))\n",
        "sns.violinplot(y=\"CMR\", x ='order', data=df, palette=\"Set3\")\n",
        "plt.scatter(y=\"CMR\", x ='order', data=df, color = 'grey')\n",
        "plt.ylim((-0.1, 0.6))\n",
        "plt.show()"
      ]
    },
    {
      "cell_type": "markdown",
      "id": "4aec09f2",
      "metadata": {
        "id": "4aec09f2"
      },
      "source": [
        "**Вывод:** \n",
        "\n",
        "\n",
        "**Есть набор отрядов, данных по которым так мало, что и плот нормально не построится $⇒$ о распределении ничего предположить не можем, например Dasyuromotphia представлена одной точкой. В целом распределния между отрядами различаются, но среднее значение CMR в большинстве своем зажато в интервале (0,0.1), квантили в (0, 0.2).**"
      ]
    },
    {
      "cell_type": "markdown",
      "id": "c67f8813",
      "metadata": {
        "id": "c67f8813"
      },
      "source": [
        "Теперь посмотрим на статистическую значимость этих различий между отрядами. \n",
        "\n",
        "Проведите однофакторный дисперсионный анализ (oneway ANOVA) с помощью критерия Фишера `scipy.stats.f_oneway` или критерия Краскела-Уоллиса `scipy.stats.kruskal`. Какой из критериев применим для наших данных? Проверьте гипотезу о равенстве дисперсий данных с помощью критерия Бартлетта `scipy.stats.bartlett` или критерия Левена `scipy.stats.levene` (про критерий Левена можно прочитать [здесь](https://en.wikipedia.org/wiki/Levene%27s_test)). Какой можно сделать вывод?"
      ]
    },
    {
      "cell_type": "code",
      "execution_count": null,
      "id": "8a22353f",
      "metadata": {
        "id": "8a22353f"
      },
      "outputs": [],
      "source": [
        "#help(sps.f_oneway)"
      ]
    },
    {
      "cell_type": "code",
      "execution_count": null,
      "id": "d9972b29",
      "metadata": {
        "id": "d9972b29"
      },
      "outputs": [],
      "source": [
        "# help(sps.kruskal)"
      ]
    },
    {
      "cell_type": "code",
      "execution_count": null,
      "id": "9c238fac",
      "metadata": {
        "scrolled": true,
        "id": "9c238fac"
      },
      "outputs": [],
      "source": [
        "# help(sps.bartlett)"
      ]
    },
    {
      "cell_type": "code",
      "execution_count": null,
      "id": "718a174e",
      "metadata": {
        "scrolled": true,
        "id": "718a174e"
      },
      "outputs": [],
      "source": [
        "# help(sps.levene)"
      ]
    },
    {
      "cell_type": "code",
      "execution_count": 10,
      "id": "d9372b41",
      "metadata": {
        "id": "d9372b41",
        "colab": {
          "base_uri": "https://localhost:8080/"
        },
        "outputId": "42949338-64f8-447a-ed65-3e38f99dac84"
      },
      "outputs": [
        {
          "output_type": "stream",
          "name": "stdout",
          "text": [
            "Краскела-Уоллиса: 0.0\n",
            "Левена: 0.009\n"
          ]
        }
      ],
      "source": [
        "orders = df['order'].unique()\n",
        "cmr_data = [[] for _ in range(orders.shape[0])]\n",
        "\n",
        "for i, order in enumerate(orders):\n",
        "  cmr_data[i] = df[df['order'] == order]['CMR']\n",
        "\n",
        "p_vals = multipletests([sps.kruskal(*cmr_data)[1], sps.levene(*cmr_data)[1]], method = 'holm')[1]\n",
        "print(f'Краскела-Уоллиса: {np.round(p_vals[0],3)}')\n",
        "print(f'Левена: {np.round(p_vals[1],3)}')"
      ]
    },
    {
      "cell_type": "markdown",
      "source": [
        "**Проверим для отрядов представленных в более чем двух видах:**"
      ],
      "metadata": {
        "id": "ALlfuRNC1Z4I"
      },
      "id": "ALlfuRNC1Z4I"
    },
    {
      "cell_type": "code",
      "source": [
        "cmr_data2 = [[] for _ in range(len(orders2))]\n",
        "\n",
        "for i, order in enumerate(orders2):\n",
        "  cmr_data2[i] = df[df['order'] == order]['CMR']\n",
        "  p_vals2 = multipletests([sps.kruskal(*cmr_data)[1], sps.levene(*cmr_data)[1]], method = 'holm')[1]\n",
        "print(f'Краскела-Уоллиса: {np.round(p_vals2[0],3)}')\n",
        "print(f'Левена: {np.round(p_vals2[1],3)}')"
      ],
      "metadata": {
        "colab": {
          "base_uri": "https://localhost:8080/"
        },
        "id": "_415_pgC1HQ8",
        "outputId": "3570c2fa-b653-46e0-c860-a5d198b9ba34"
      },
      "id": "_415_pgC1HQ8",
      "execution_count": 18,
      "outputs": [
        {
          "output_type": "stream",
          "name": "stdout",
          "text": [
            "Краскела-Уоллиса: 0.0\n",
            "Левена: 0.009\n"
          ]
        }
      ]
    },
    {
      "cell_type": "markdown",
      "id": "9bd282d4",
      "metadata": {
        "id": "9bd282d4"
      },
      "source": [
        "**Вывод:** \n",
        "\n",
        "**Критерий Фишера параметрический для нормальных выборок, по KDE видно что не все распределения похожи на нормальное. Воспользуемся критерием Краскера - Уоллиса, непараметрическим. Гипотеза о равенстве средних значений CMR среди всех видов отвергается, что в приницпе было понятно и по ящикам с усами.**\n",
        "\n",
        "**Для проверки равенства дисперсий воспользуемся критерием Левена, так как считается, что он менее чувствителен к отклонениям от нормальности. Аналогично получаем отвержение гипотезы о равенстве дисперсий.**"
      ]
    },
    {
      "cell_type": "markdown",
      "id": "71f9d464",
      "metadata": {
        "id": "71f9d464"
      },
      "source": [
        "Теперь можно провести post hoc анализ. Необходимо вычислить, между какими выборками существуют значимые различия.\n",
        "Для этого создайте список всех возможных пар отрядов, в которых количество видов не меньше двух. Посчитайте с помощью t-критерия (буква t означает, что в критерии используется распределение Стьюдента) p-value для всех возможных пар. Занесите результаты в таблицу, указав помимо p-value разницу средних между отрядами и результат проверки гипотезы о равенстве средних. Не забудьте про МПГ. Какой метод лучше использовать в данном случае?\n",
        "\n",
        "*Подсказка: какой из t-критериев здесь стоит использовать? См.  лекцию 11.*"
      ]
    },
    {
      "cell_type": "markdown",
      "source": [
        "**Ничего о равенстве дисперсий для каждой пары выборок не знаем $⇒$ для проверки равенства средних воспользуемся t-критерием Аспина - Уэлша. Проверку FWER делаем с помошью метода Холма, так как проверяемые случаи зависимы для смежных пар.**"
      ],
      "metadata": {
        "id": "CCFDlmagWOyS"
      },
      "id": "CCFDlmagWOyS"
    },
    {
      "cell_type": "code",
      "source": [
        "import itertools\n",
        "pairs =[list(pair) for pair in itertools.combinations(orders2, 2)]\n",
        "\n",
        "table = pd.DataFrame({'pairs': 0, 'p-vals': 0, '(mean1-mean2)': 0, 'statistics': 0}, index =[0])\n",
        "for pair in pairs:\n",
        "  sample1, sample2  = df[df['order'] == pair[0]]['CMR'], df[df['order'] == pair[1]]['CMR']\n",
        "  test = sps.ttest_ind(sample1, sample2, equal_var=False)\n",
        "  newline = {}\n",
        "  newline = {'pairs': pair, 'p-vals': test[1], '(mean1-mean2)': np.mean(sample1) - np.mean(sample2), 'statistics': test[0]}\n",
        "  table = table.append(newline, ignore_index=True)\n",
        "\n",
        "table=table.drop([0])\n",
        "table['p-vals'] =  multipletests(table['p-vals'].to_numpy(), method = 'holm')[1]\n",
        "table"
      ],
      "metadata": {
        "id": "Pc5ormThxuWK",
        "colab": {
          "base_uri": "https://localhost:8080/",
          "height": 708
        },
        "outputId": "1223adf4-b369-4b13-c201-df572c076003"
      },
      "id": "Pc5ormThxuWK",
      "execution_count": 47,
      "outputs": [
        {
          "output_type": "execute_result",
          "data": {
            "text/plain": [
              "                              pairs        p-vals  (mean1-mean2)  statistics\n",
              "1         [Carnivora, Artiodactyla]  8.817852e-08       0.082181    7.048430\n",
              "2             [Carnivora, Primates]  1.358058e-02       0.051258    3.552062\n",
              "3        [Carnivora, Diprotodontia]  1.000000e+00       0.049796    1.905961\n",
              "4             [Carnivora, Rodentia]  4.424489e-01       0.047034    2.413312\n",
              "5           [Carnivora, Chiroptera]  1.000000e+00       0.047013    1.728697\n",
              "6       [Carnivora, Perissodactyla]  1.000000e+00       0.056052    1.732919\n",
              "7          [Artiodactyla, Primates]  8.628011e-02      -0.030923   -2.988512\n",
              "8     [Artiodactyla, Diprotodontia]  1.000000e+00      -0.032385   -1.343062\n",
              "9          [Artiodactyla, Rodentia]  9.533955e-01      -0.035147   -2.105502\n",
              "10       [Artiodactyla, Chiroptera]  1.000000e+00      -0.035169   -1.391886\n",
              "11   [Artiodactyla, Perissodactyla]  1.000000e+00      -0.026130   -0.849980\n",
              "12        [Primates, Diprotodontia]  1.000000e+00      -0.001462   -0.057186\n",
              "13             [Primates, Rodentia]  1.000000e+00      -0.004224   -0.225501\n",
              "14           [Primates, Chiroptera]  1.000000e+00      -0.004246   -0.159263\n",
              "15       [Primates, Perissodactyla]  1.000000e+00       0.004793    0.150276\n",
              "16        [Diprotodontia, Rodentia]  1.000000e+00      -0.002762   -0.096155\n",
              "17      [Diprotodontia, Chiroptera]  1.000000e+00      -0.002784   -0.080863\n",
              "18  [Diprotodontia, Perissodactyla]  1.000000e+00       0.006255    0.161960\n",
              "19           [Rodentia, Chiroptera]  1.000000e+00      -0.000021   -0.000718\n",
              "20       [Rodentia, Perissodactyla]  1.000000e+00       0.009018    0.261526\n",
              "21     [Chiroptera, Perissodactyla]  1.000000e+00       0.009039    0.229688"
            ],
            "text/html": [
              "\n",
              "  <div id=\"df-ae08d5be-2c3e-433e-a96d-44353629cd46\">\n",
              "    <div class=\"colab-df-container\">\n",
              "      <div>\n",
              "<style scoped>\n",
              "    .dataframe tbody tr th:only-of-type {\n",
              "        vertical-align: middle;\n",
              "    }\n",
              "\n",
              "    .dataframe tbody tr th {\n",
              "        vertical-align: top;\n",
              "    }\n",
              "\n",
              "    .dataframe thead th {\n",
              "        text-align: right;\n",
              "    }\n",
              "</style>\n",
              "<table border=\"1\" class=\"dataframe\">\n",
              "  <thead>\n",
              "    <tr style=\"text-align: right;\">\n",
              "      <th></th>\n",
              "      <th>pairs</th>\n",
              "      <th>p-vals</th>\n",
              "      <th>(mean1-mean2)</th>\n",
              "      <th>statistics</th>\n",
              "    </tr>\n",
              "  </thead>\n",
              "  <tbody>\n",
              "    <tr>\n",
              "      <th>1</th>\n",
              "      <td>[Carnivora, Artiodactyla]</td>\n",
              "      <td>8.817852e-08</td>\n",
              "      <td>0.082181</td>\n",
              "      <td>7.048430</td>\n",
              "    </tr>\n",
              "    <tr>\n",
              "      <th>2</th>\n",
              "      <td>[Carnivora, Primates]</td>\n",
              "      <td>1.358058e-02</td>\n",
              "      <td>0.051258</td>\n",
              "      <td>3.552062</td>\n",
              "    </tr>\n",
              "    <tr>\n",
              "      <th>3</th>\n",
              "      <td>[Carnivora, Diprotodontia]</td>\n",
              "      <td>1.000000e+00</td>\n",
              "      <td>0.049796</td>\n",
              "      <td>1.905961</td>\n",
              "    </tr>\n",
              "    <tr>\n",
              "      <th>4</th>\n",
              "      <td>[Carnivora, Rodentia]</td>\n",
              "      <td>4.424489e-01</td>\n",
              "      <td>0.047034</td>\n",
              "      <td>2.413312</td>\n",
              "    </tr>\n",
              "    <tr>\n",
              "      <th>5</th>\n",
              "      <td>[Carnivora, Chiroptera]</td>\n",
              "      <td>1.000000e+00</td>\n",
              "      <td>0.047013</td>\n",
              "      <td>1.728697</td>\n",
              "    </tr>\n",
              "    <tr>\n",
              "      <th>6</th>\n",
              "      <td>[Carnivora, Perissodactyla]</td>\n",
              "      <td>1.000000e+00</td>\n",
              "      <td>0.056052</td>\n",
              "      <td>1.732919</td>\n",
              "    </tr>\n",
              "    <tr>\n",
              "      <th>7</th>\n",
              "      <td>[Artiodactyla, Primates]</td>\n",
              "      <td>8.628011e-02</td>\n",
              "      <td>-0.030923</td>\n",
              "      <td>-2.988512</td>\n",
              "    </tr>\n",
              "    <tr>\n",
              "      <th>8</th>\n",
              "      <td>[Artiodactyla, Diprotodontia]</td>\n",
              "      <td>1.000000e+00</td>\n",
              "      <td>-0.032385</td>\n",
              "      <td>-1.343062</td>\n",
              "    </tr>\n",
              "    <tr>\n",
              "      <th>9</th>\n",
              "      <td>[Artiodactyla, Rodentia]</td>\n",
              "      <td>9.533955e-01</td>\n",
              "      <td>-0.035147</td>\n",
              "      <td>-2.105502</td>\n",
              "    </tr>\n",
              "    <tr>\n",
              "      <th>10</th>\n",
              "      <td>[Artiodactyla, Chiroptera]</td>\n",
              "      <td>1.000000e+00</td>\n",
              "      <td>-0.035169</td>\n",
              "      <td>-1.391886</td>\n",
              "    </tr>\n",
              "    <tr>\n",
              "      <th>11</th>\n",
              "      <td>[Artiodactyla, Perissodactyla]</td>\n",
              "      <td>1.000000e+00</td>\n",
              "      <td>-0.026130</td>\n",
              "      <td>-0.849980</td>\n",
              "    </tr>\n",
              "    <tr>\n",
              "      <th>12</th>\n",
              "      <td>[Primates, Diprotodontia]</td>\n",
              "      <td>1.000000e+00</td>\n",
              "      <td>-0.001462</td>\n",
              "      <td>-0.057186</td>\n",
              "    </tr>\n",
              "    <tr>\n",
              "      <th>13</th>\n",
              "      <td>[Primates, Rodentia]</td>\n",
              "      <td>1.000000e+00</td>\n",
              "      <td>-0.004224</td>\n",
              "      <td>-0.225501</td>\n",
              "    </tr>\n",
              "    <tr>\n",
              "      <th>14</th>\n",
              "      <td>[Primates, Chiroptera]</td>\n",
              "      <td>1.000000e+00</td>\n",
              "      <td>-0.004246</td>\n",
              "      <td>-0.159263</td>\n",
              "    </tr>\n",
              "    <tr>\n",
              "      <th>15</th>\n",
              "      <td>[Primates, Perissodactyla]</td>\n",
              "      <td>1.000000e+00</td>\n",
              "      <td>0.004793</td>\n",
              "      <td>0.150276</td>\n",
              "    </tr>\n",
              "    <tr>\n",
              "      <th>16</th>\n",
              "      <td>[Diprotodontia, Rodentia]</td>\n",
              "      <td>1.000000e+00</td>\n",
              "      <td>-0.002762</td>\n",
              "      <td>-0.096155</td>\n",
              "    </tr>\n",
              "    <tr>\n",
              "      <th>17</th>\n",
              "      <td>[Diprotodontia, Chiroptera]</td>\n",
              "      <td>1.000000e+00</td>\n",
              "      <td>-0.002784</td>\n",
              "      <td>-0.080863</td>\n",
              "    </tr>\n",
              "    <tr>\n",
              "      <th>18</th>\n",
              "      <td>[Diprotodontia, Perissodactyla]</td>\n",
              "      <td>1.000000e+00</td>\n",
              "      <td>0.006255</td>\n",
              "      <td>0.161960</td>\n",
              "    </tr>\n",
              "    <tr>\n",
              "      <th>19</th>\n",
              "      <td>[Rodentia, Chiroptera]</td>\n",
              "      <td>1.000000e+00</td>\n",
              "      <td>-0.000021</td>\n",
              "      <td>-0.000718</td>\n",
              "    </tr>\n",
              "    <tr>\n",
              "      <th>20</th>\n",
              "      <td>[Rodentia, Perissodactyla]</td>\n",
              "      <td>1.000000e+00</td>\n",
              "      <td>0.009018</td>\n",
              "      <td>0.261526</td>\n",
              "    </tr>\n",
              "    <tr>\n",
              "      <th>21</th>\n",
              "      <td>[Chiroptera, Perissodactyla]</td>\n",
              "      <td>1.000000e+00</td>\n",
              "      <td>0.009039</td>\n",
              "      <td>0.229688</td>\n",
              "    </tr>\n",
              "  </tbody>\n",
              "</table>\n",
              "</div>\n",
              "      <button class=\"colab-df-convert\" onclick=\"convertToInteractive('df-ae08d5be-2c3e-433e-a96d-44353629cd46')\"\n",
              "              title=\"Convert this dataframe to an interactive table.\"\n",
              "              style=\"display:none;\">\n",
              "        \n",
              "  <svg xmlns=\"http://www.w3.org/2000/svg\" height=\"24px\"viewBox=\"0 0 24 24\"\n",
              "       width=\"24px\">\n",
              "    <path d=\"M0 0h24v24H0V0z\" fill=\"none\"/>\n",
              "    <path d=\"M18.56 5.44l.94 2.06.94-2.06 2.06-.94-2.06-.94-.94-2.06-.94 2.06-2.06.94zm-11 1L8.5 8.5l.94-2.06 2.06-.94-2.06-.94L8.5 2.5l-.94 2.06-2.06.94zm10 10l.94 2.06.94-2.06 2.06-.94-2.06-.94-.94-2.06-.94 2.06-2.06.94z\"/><path d=\"M17.41 7.96l-1.37-1.37c-.4-.4-.92-.59-1.43-.59-.52 0-1.04.2-1.43.59L10.3 9.45l-7.72 7.72c-.78.78-.78 2.05 0 2.83L4 21.41c.39.39.9.59 1.41.59.51 0 1.02-.2 1.41-.59l7.78-7.78 2.81-2.81c.8-.78.8-2.07 0-2.86zM5.41 20L4 18.59l7.72-7.72 1.47 1.35L5.41 20z\"/>\n",
              "  </svg>\n",
              "      </button>\n",
              "      \n",
              "  <style>\n",
              "    .colab-df-container {\n",
              "      display:flex;\n",
              "      flex-wrap:wrap;\n",
              "      gap: 12px;\n",
              "    }\n",
              "\n",
              "    .colab-df-convert {\n",
              "      background-color: #E8F0FE;\n",
              "      border: none;\n",
              "      border-radius: 50%;\n",
              "      cursor: pointer;\n",
              "      display: none;\n",
              "      fill: #1967D2;\n",
              "      height: 32px;\n",
              "      padding: 0 0 0 0;\n",
              "      width: 32px;\n",
              "    }\n",
              "\n",
              "    .colab-df-convert:hover {\n",
              "      background-color: #E2EBFA;\n",
              "      box-shadow: 0px 1px 2px rgba(60, 64, 67, 0.3), 0px 1px 3px 1px rgba(60, 64, 67, 0.15);\n",
              "      fill: #174EA6;\n",
              "    }\n",
              "\n",
              "    [theme=dark] .colab-df-convert {\n",
              "      background-color: #3B4455;\n",
              "      fill: #D2E3FC;\n",
              "    }\n",
              "\n",
              "    [theme=dark] .colab-df-convert:hover {\n",
              "      background-color: #434B5C;\n",
              "      box-shadow: 0px 1px 3px 1px rgba(0, 0, 0, 0.15);\n",
              "      filter: drop-shadow(0px 1px 2px rgba(0, 0, 0, 0.3));\n",
              "      fill: #FFFFFF;\n",
              "    }\n",
              "  </style>\n",
              "\n",
              "      <script>\n",
              "        const buttonEl =\n",
              "          document.querySelector('#df-ae08d5be-2c3e-433e-a96d-44353629cd46 button.colab-df-convert');\n",
              "        buttonEl.style.display =\n",
              "          google.colab.kernel.accessAllowed ? 'block' : 'none';\n",
              "\n",
              "        async function convertToInteractive(key) {\n",
              "          const element = document.querySelector('#df-ae08d5be-2c3e-433e-a96d-44353629cd46');\n",
              "          const dataTable =\n",
              "            await google.colab.kernel.invokeFunction('convertToInteractive',\n",
              "                                                     [key], {});\n",
              "          if (!dataTable) return;\n",
              "\n",
              "          const docLinkHtml = 'Like what you see? Visit the ' +\n",
              "            '<a target=\"_blank\" href=https://colab.research.google.com/notebooks/data_table.ipynb>data table notebook</a>'\n",
              "            + ' to learn more about interactive tables.';\n",
              "          element.innerHTML = '';\n",
              "          dataTable['output_type'] = 'display_data';\n",
              "          await google.colab.output.renderOutput(dataTable, element);\n",
              "          const docLink = document.createElement('div');\n",
              "          docLink.innerHTML = docLinkHtml;\n",
              "          element.appendChild(docLink);\n",
              "        }\n",
              "      </script>\n",
              "    </div>\n",
              "  </div>\n",
              "  "
            ]
          },
          "metadata": {},
          "execution_count": 47
        }
      ]
    },
    {
      "cell_type": "markdown",
      "id": "38c1e128",
      "metadata": {
        "id": "38c1e128"
      },
      "source": [
        "Теперь попробуем воспользоваться критерием `HSD Тьюки`, который используется в большинстве случаев, потому что он контролирует ошибки первого рода. Однако в основе критерия также лежит предположение о нормальности и гомоскедастичности выборок (равная дисперсия), поэтому в нашем случае лучше воспользоваться критерием `Геймса-Хауэлла` из библиотки pingouin ([подробнее](https://rpubs.com/aaronsc32/games-howell-test)). Получите и сравните результаты теста Тьюки и Хауэлла. Сделайте вывод."
      ]
    },
    {
      "cell_type": "code",
      "execution_count": null,
      "id": "bd4c8367",
      "metadata": {
        "scrolled": false,
        "id": "bd4c8367"
      },
      "outputs": [],
      "source": [
        "help(multicomp.pairwise_tukeyhsd)"
      ]
    },
    {
      "cell_type": "code",
      "execution_count": null,
      "id": "f5532cd6",
      "metadata": {
        "id": "f5532cd6"
      },
      "outputs": [],
      "source": [
        "help(pg.pairwise_gameshowell)"
      ]
    },
    {
      "cell_type": "code",
      "source": [
        "tukey = multicomp.pairwise_tukeyhsd(endog = df[df['order'].isin(orders2)].CMR,\n",
        "                                    groups = df[df['order'].isin(orders2)].order, alpha = 0.05)\n",
        "print(tukey)"
      ],
      "metadata": {
        "colab": {
          "base_uri": "https://localhost:8080/"
        },
        "id": "1aSxqwVi25Hz",
        "outputId": "bf0152f6-3990-4a94-90d8-26f146ec70f8"
      },
      "id": "1aSxqwVi25Hz",
      "execution_count": 34,
      "outputs": [
        {
          "output_type": "stream",
          "name": "stdout",
          "text": [
            "        Multiple Comparison of Means - Tukey HSD, FWER=0.05         \n",
            "====================================================================\n",
            "    group1         group2     meandiff p-adj   lower   upper  reject\n",
            "--------------------------------------------------------------------\n",
            "  Artiodactyla      Carnivora   0.0822    0.0  0.0499  0.1144   True\n",
            "  Artiodactyla     Chiroptera   0.0352 0.6537 -0.0287   0.099  False\n",
            "  Artiodactyla  Diprotodontia   0.0324 0.7945 -0.0361  0.1009  False\n",
            "  Artiodactyla Perissodactyla   0.0261 0.9148 -0.0423  0.0946  False\n",
            "  Artiodactyla       Primates   0.0309 0.1112 -0.0036  0.0654  False\n",
            "  Artiodactyla       Rodentia   0.0351 0.3708 -0.0154  0.0857  False\n",
            "     Carnivora     Chiroptera   -0.047 0.3326 -0.1125  0.0185  False\n",
            "     Carnivora  Diprotodontia  -0.0498 0.3436 -0.1198  0.0202  False\n",
            "     Carnivora Perissodactyla  -0.0561 0.2092 -0.1261   0.014  False\n",
            "     Carnivora       Primates  -0.0513 0.0013 -0.0887 -0.0138   True\n",
            "     Carnivora       Rodentia   -0.047 0.1123 -0.0996  0.0055  False\n",
            "    Chiroptera  Diprotodontia  -0.0028    1.0 -0.0919  0.0863  False\n",
            "    Chiroptera Perissodactyla   -0.009 0.9999 -0.0981  0.0801  False\n",
            "    Chiroptera       Primates  -0.0042    1.0 -0.0709  0.0624  False\n",
            "    Chiroptera       Rodentia     -0.0    1.0 -0.0762  0.0761  False\n",
            " Diprotodontia Perissodactyla  -0.0063    1.0 -0.0987  0.0862  False\n",
            " Diprotodontia       Primates  -0.0015    1.0 -0.0725  0.0696  False\n",
            " Diprotodontia       Rodentia   0.0028    1.0 -0.0773  0.0828  False\n",
            "Perissodactyla       Primates   0.0048    1.0 -0.0663  0.0759  False\n",
            "Perissodactyla       Rodentia    0.009 0.9999 -0.0711  0.0891  False\n",
            "      Primates       Rodentia   0.0042    1.0 -0.0498  0.0582  False\n",
            "--------------------------------------------------------------------\n"
          ]
        }
      ]
    },
    {
      "cell_type": "code",
      "source": [
        "ping = pg.pairwise_gameshowell(data=df[df['order'].isin(orders2)], between=\"order\", dv=\"CMR\")\n",
        "print(ping)"
      ],
      "metadata": {
        "colab": {
          "base_uri": "https://localhost:8080/"
        },
        "id": "FKxYn_z05GBl",
        "outputId": "9866090c-bb92-4c7a-b447-7895ad200331"
      },
      "id": "FKxYn_z05GBl",
      "execution_count": 41,
      "outputs": [
        {
          "output_type": "stream",
          "name": "stdout",
          "text": [
            "                 A               B   mean(A)   mean(B)      diff        se  \\\n",
            "0     Artiodactyla       Carnivora  0.024251  0.106432 -0.082181  0.011660   \n",
            "1     Artiodactyla      Chiroptera  0.024251  0.059419 -0.035169  0.025267   \n",
            "2     Artiodactyla   Diprotodontia  0.024251  0.056636 -0.032385  0.024113   \n",
            "3     Artiodactyla  Perissodactyla  0.024251  0.050380 -0.026130  0.030741   \n",
            "4     Artiodactyla        Primates  0.024251  0.055174 -0.030923  0.010347   \n",
            "5     Artiodactyla        Rodentia  0.024251  0.059398 -0.035147  0.016693   \n",
            "6        Carnivora      Chiroptera  0.106432  0.059419  0.047013  0.027195   \n",
            "7        Carnivora   Diprotodontia  0.106432  0.056636  0.049796  0.026127   \n",
            "8        Carnivora  Perissodactyla  0.106432  0.050380  0.056052  0.032345   \n",
            "9        Carnivora        Primates  0.106432  0.055174  0.051258  0.014431   \n",
            "10       Carnivora        Rodentia  0.106432  0.059398  0.047034  0.019489   \n",
            "11      Chiroptera   Diprotodontia  0.059419  0.056636  0.002784  0.034425   \n",
            "12      Chiroptera  Perissodactyla  0.059419  0.050380  0.009039  0.039353   \n",
            "13      Chiroptera        Primates  0.059419  0.055174  0.004246  0.026659   \n",
            "14      Chiroptera        Rodentia  0.059419  0.059398  0.000021  0.029704   \n",
            "15   Diprotodontia  Perissodactyla  0.056636  0.050380  0.006255  0.038622   \n",
            "16   Diprotodontia        Primates  0.056636  0.055174  0.001462  0.025568   \n",
            "17   Diprotodontia        Rodentia  0.056636  0.059398 -0.002762  0.028728   \n",
            "18  Perissodactyla        Primates  0.050380  0.055174 -0.004793  0.031896   \n",
            "19  Perissodactyla        Rodentia  0.050380  0.059398 -0.009018  0.034481   \n",
            "20        Primates        Rodentia  0.055174  0.059398 -0.004224  0.018734   \n",
            "\n",
            "           T         df          pval    hedges  \n",
            "0  -7.048430  51.858102  8.643030e-08 -1.408245  \n",
            "1  -1.391886   6.340098  7.910898e-01 -0.548752  \n",
            "2  -1.343062   5.312521  8.114282e-01 -0.567671  \n",
            "3  -0.849980   5.188993  9.671366e-01 -0.359261  \n",
            "4  -2.988512  44.725788  6.336704e-02 -0.638760  \n",
            "5  -2.105502  12.502395  4.047653e-01 -0.657085  \n",
            "6   1.728697   8.463339  6.175218e-01  0.695377  \n",
            "7   1.905961   7.282699  5.291907e-01  0.819134  \n",
            "8   1.732919   6.346794  6.212609e-01  0.744765  \n",
            "9   3.552062  71.944629  1.154686e-02  0.822023  \n",
            "10  2.413312  22.002298  2.395947e-01  0.780374  \n",
            "11  0.080863  10.979701  1.000000e+00  0.041849  \n",
            "12  0.229688  10.146127  9.999802e-01  0.118871  \n",
            "13  0.159263   7.827414  9.999974e-01  0.064957  \n",
            "14  0.000718  11.044275  1.000000e+00  0.000326  \n",
            "15  0.161960   9.439145  9.999974e-01  0.086315  \n",
            "16  0.057186   6.689967  1.000000e+00  0.024862  \n",
            "17 -0.096155   9.753759  9.999999e-01 -0.045788  \n",
            "18 -0.150276   6.004724  9.999979e-01 -0.065333  \n",
            "19 -0.261526   7.927316  9.999523e-01 -0.124536  \n",
            "20 -0.225501  19.074892  9.999856e-01 -0.074683  \n"
          ]
        }
      ]
    },
    {
      "cell_type": "markdown",
      "id": "c1119919",
      "metadata": {
        "id": "c1119919"
      },
      "source": [
        "**Вывод:** \n",
        "\n",
        "**Для пар (Artiodactyla, Carnivora), (Carnivora, Primates) для уровня $\\alpha = 0.05$ гипотеза о равенстве средних отвергается обоими критериями, в большей степени полагаемся на критерий Геймса-Хауэлла**"
      ]
    },
    {
      "cell_type": "markdown",
      "id": "8574368a",
      "metadata": {
        "id": "8574368a"
      },
      "source": [
        "### Задача 2. Зависимость риска рака от половой принадлежности"
      ]
    },
    {
      "cell_type": "markdown",
      "id": "d631fa60",
      "metadata": {
        "id": "d631fa60"
      },
      "source": [
        "Авторы статьи выдвинули несколько предположений о причине столько высокого риска рака у отряда хищников (Carnivora). Одна из них заключается в том, что в зоопарках часто используют гормональные контрацептивы для животных (напр., прогестины) и часто наблюдается отложенная беременность. Эти факторы могут быть факторами риска у человека и кошачих. Однако, если принять в расчет эту гипотезу, становится очевидно, что у самок должен быть повышен риск рака, так как перечисленные факторы касаются именно их. \n",
        "\n",
        "Загрузите таблицу [Sex-specific-ICM_CMR.csv](https://github.com/OrsolyaVincze/VinczeEtal2021Nature/blob/main/Sex-specific_ICM_CMR.csv). Здесь представлены значения CMR и ICM отдельно для самок и самцов отряда хищных. Проверьте, есть ли зависимость риска рака от половой принадлежности с помощью t-критерия. Какой именно нужно использовать? Сделайте вывод."
      ]
    },
    {
      "cell_type": "code",
      "execution_count": 50,
      "id": "80b81cd9",
      "metadata": {
        "id": "80b81cd9"
      },
      "outputs": [],
      "source": [
        "sex_data = pd.read_csv('Sex-specific_ICM_CMR.csv')"
      ]
    },
    {
      "cell_type": "code",
      "execution_count": 51,
      "id": "3b9a2d38",
      "metadata": {
        "id": "3b9a2d38",
        "colab": {
          "base_uri": "https://localhost:8080/",
          "height": 206
        },
        "outputId": "56899b79-eb7d-4376-c230-2a03ff4f04c8"
      },
      "outputs": [
        {
          "output_type": "execute_result",
          "data": {
            "text/plain": [
              "               Species  knownDeathsF  knownDeathsM     ICM_F     ICM_M  \\\n",
              "0     Acinonyx_jubatus           105           120  0.030140  0.048123   \n",
              "1      Ailurus_fulgens            47            51  0.115641  0.044528   \n",
              "2        Aonyx_cinerea            85            74  0.146708  0.015496   \n",
              "3  Arctictis_binturong            14            13  0.064764  0.188874   \n",
              "4          Canis_rufus            17            14  0.188612  0.413090   \n",
              "\n",
              "      CMR_M     CMR_F      order  \n",
              "0  0.033333  0.038095  Carnivora  \n",
              "1  0.058824  0.085106  Carnivora  \n",
              "2  0.040541  0.082353  Carnivora  \n",
              "3  0.153846  0.142857  Carnivora  \n",
              "4  0.428571  0.117647  Carnivora  "
            ],
            "text/html": [
              "\n",
              "  <div id=\"df-bc414e11-39bf-4093-8041-4914e92d9e74\">\n",
              "    <div class=\"colab-df-container\">\n",
              "      <div>\n",
              "<style scoped>\n",
              "    .dataframe tbody tr th:only-of-type {\n",
              "        vertical-align: middle;\n",
              "    }\n",
              "\n",
              "    .dataframe tbody tr th {\n",
              "        vertical-align: top;\n",
              "    }\n",
              "\n",
              "    .dataframe thead th {\n",
              "        text-align: right;\n",
              "    }\n",
              "</style>\n",
              "<table border=\"1\" class=\"dataframe\">\n",
              "  <thead>\n",
              "    <tr style=\"text-align: right;\">\n",
              "      <th></th>\n",
              "      <th>Species</th>\n",
              "      <th>knownDeathsF</th>\n",
              "      <th>knownDeathsM</th>\n",
              "      <th>ICM_F</th>\n",
              "      <th>ICM_M</th>\n",
              "      <th>CMR_M</th>\n",
              "      <th>CMR_F</th>\n",
              "      <th>order</th>\n",
              "    </tr>\n",
              "  </thead>\n",
              "  <tbody>\n",
              "    <tr>\n",
              "      <th>0</th>\n",
              "      <td>Acinonyx_jubatus</td>\n",
              "      <td>105</td>\n",
              "      <td>120</td>\n",
              "      <td>0.030140</td>\n",
              "      <td>0.048123</td>\n",
              "      <td>0.033333</td>\n",
              "      <td>0.038095</td>\n",
              "      <td>Carnivora</td>\n",
              "    </tr>\n",
              "    <tr>\n",
              "      <th>1</th>\n",
              "      <td>Ailurus_fulgens</td>\n",
              "      <td>47</td>\n",
              "      <td>51</td>\n",
              "      <td>0.115641</td>\n",
              "      <td>0.044528</td>\n",
              "      <td>0.058824</td>\n",
              "      <td>0.085106</td>\n",
              "      <td>Carnivora</td>\n",
              "    </tr>\n",
              "    <tr>\n",
              "      <th>2</th>\n",
              "      <td>Aonyx_cinerea</td>\n",
              "      <td>85</td>\n",
              "      <td>74</td>\n",
              "      <td>0.146708</td>\n",
              "      <td>0.015496</td>\n",
              "      <td>0.040541</td>\n",
              "      <td>0.082353</td>\n",
              "      <td>Carnivora</td>\n",
              "    </tr>\n",
              "    <tr>\n",
              "      <th>3</th>\n",
              "      <td>Arctictis_binturong</td>\n",
              "      <td>14</td>\n",
              "      <td>13</td>\n",
              "      <td>0.064764</td>\n",
              "      <td>0.188874</td>\n",
              "      <td>0.153846</td>\n",
              "      <td>0.142857</td>\n",
              "      <td>Carnivora</td>\n",
              "    </tr>\n",
              "    <tr>\n",
              "      <th>4</th>\n",
              "      <td>Canis_rufus</td>\n",
              "      <td>17</td>\n",
              "      <td>14</td>\n",
              "      <td>0.188612</td>\n",
              "      <td>0.413090</td>\n",
              "      <td>0.428571</td>\n",
              "      <td>0.117647</td>\n",
              "      <td>Carnivora</td>\n",
              "    </tr>\n",
              "  </tbody>\n",
              "</table>\n",
              "</div>\n",
              "      <button class=\"colab-df-convert\" onclick=\"convertToInteractive('df-bc414e11-39bf-4093-8041-4914e92d9e74')\"\n",
              "              title=\"Convert this dataframe to an interactive table.\"\n",
              "              style=\"display:none;\">\n",
              "        \n",
              "  <svg xmlns=\"http://www.w3.org/2000/svg\" height=\"24px\"viewBox=\"0 0 24 24\"\n",
              "       width=\"24px\">\n",
              "    <path d=\"M0 0h24v24H0V0z\" fill=\"none\"/>\n",
              "    <path d=\"M18.56 5.44l.94 2.06.94-2.06 2.06-.94-2.06-.94-.94-2.06-.94 2.06-2.06.94zm-11 1L8.5 8.5l.94-2.06 2.06-.94-2.06-.94L8.5 2.5l-.94 2.06-2.06.94zm10 10l.94 2.06.94-2.06 2.06-.94-2.06-.94-.94-2.06-.94 2.06-2.06.94z\"/><path d=\"M17.41 7.96l-1.37-1.37c-.4-.4-.92-.59-1.43-.59-.52 0-1.04.2-1.43.59L10.3 9.45l-7.72 7.72c-.78.78-.78 2.05 0 2.83L4 21.41c.39.39.9.59 1.41.59.51 0 1.02-.2 1.41-.59l7.78-7.78 2.81-2.81c.8-.78.8-2.07 0-2.86zM5.41 20L4 18.59l7.72-7.72 1.47 1.35L5.41 20z\"/>\n",
              "  </svg>\n",
              "      </button>\n",
              "      \n",
              "  <style>\n",
              "    .colab-df-container {\n",
              "      display:flex;\n",
              "      flex-wrap:wrap;\n",
              "      gap: 12px;\n",
              "    }\n",
              "\n",
              "    .colab-df-convert {\n",
              "      background-color: #E8F0FE;\n",
              "      border: none;\n",
              "      border-radius: 50%;\n",
              "      cursor: pointer;\n",
              "      display: none;\n",
              "      fill: #1967D2;\n",
              "      height: 32px;\n",
              "      padding: 0 0 0 0;\n",
              "      width: 32px;\n",
              "    }\n",
              "\n",
              "    .colab-df-convert:hover {\n",
              "      background-color: #E2EBFA;\n",
              "      box-shadow: 0px 1px 2px rgba(60, 64, 67, 0.3), 0px 1px 3px 1px rgba(60, 64, 67, 0.15);\n",
              "      fill: #174EA6;\n",
              "    }\n",
              "\n",
              "    [theme=dark] .colab-df-convert {\n",
              "      background-color: #3B4455;\n",
              "      fill: #D2E3FC;\n",
              "    }\n",
              "\n",
              "    [theme=dark] .colab-df-convert:hover {\n",
              "      background-color: #434B5C;\n",
              "      box-shadow: 0px 1px 3px 1px rgba(0, 0, 0, 0.15);\n",
              "      filter: drop-shadow(0px 1px 2px rgba(0, 0, 0, 0.3));\n",
              "      fill: #FFFFFF;\n",
              "    }\n",
              "  </style>\n",
              "\n",
              "      <script>\n",
              "        const buttonEl =\n",
              "          document.querySelector('#df-bc414e11-39bf-4093-8041-4914e92d9e74 button.colab-df-convert');\n",
              "        buttonEl.style.display =\n",
              "          google.colab.kernel.accessAllowed ? 'block' : 'none';\n",
              "\n",
              "        async function convertToInteractive(key) {\n",
              "          const element = document.querySelector('#df-bc414e11-39bf-4093-8041-4914e92d9e74');\n",
              "          const dataTable =\n",
              "            await google.colab.kernel.invokeFunction('convertToInteractive',\n",
              "                                                     [key], {});\n",
              "          if (!dataTable) return;\n",
              "\n",
              "          const docLinkHtml = 'Like what you see? Visit the ' +\n",
              "            '<a target=\"_blank\" href=https://colab.research.google.com/notebooks/data_table.ipynb>data table notebook</a>'\n",
              "            + ' to learn more about interactive tables.';\n",
              "          element.innerHTML = '';\n",
              "          dataTable['output_type'] = 'display_data';\n",
              "          await google.colab.output.renderOutput(dataTable, element);\n",
              "          const docLink = document.createElement('div');\n",
              "          docLink.innerHTML = docLinkHtml;\n",
              "          element.appendChild(docLink);\n",
              "        }\n",
              "      </script>\n",
              "    </div>\n",
              "  </div>\n",
              "  "
            ]
          },
          "metadata": {},
          "execution_count": 51
        }
      ],
      "source": [
        "sex_data.head()"
      ]
    },
    {
      "cell_type": "code",
      "source": [
        "sex_data.columns"
      ],
      "metadata": {
        "colab": {
          "base_uri": "https://localhost:8080/"
        },
        "id": "tDW-FRAmnrpD",
        "outputId": "88d003bd-6464-49bf-d520-f0f0f51acc85"
      },
      "id": "tDW-FRAmnrpD",
      "execution_count": 52,
      "outputs": [
        {
          "output_type": "execute_result",
          "data": {
            "text/plain": [
              "Index(['Species', 'knownDeathsF', 'knownDeathsM', 'ICM_F', 'ICM_M', 'CMR_M',\n",
              "       'CMR_F', 'order'],\n",
              "      dtype='object')"
            ]
          },
          "metadata": {},
          "execution_count": 52
        }
      ]
    },
    {
      "cell_type": "code",
      "source": [
        "female = sex_data[['Species', 'knownDeathsF', 'ICM_F','CMR_F', 'order']]\n",
        "female.columns = ['Species', 'knownDeaths', 'ICM','CMR', 'order']\n",
        "female['sex'] = ['female' for _ in range(female.shape[0])]\n",
        "\n",
        "male = sex_data[['Species', 'knownDeathsM', 'ICM_M','CMR_M', 'order']]\n",
        "male.columns = ['Species', 'knownDeaths', 'ICM','CMR', 'order']\n",
        "male['sex'] = ['male' for _ in range(male.shape[0])]\n",
        "sex_plot = pd.concat([female,male])"
      ],
      "metadata": {
        "colab": {
          "base_uri": "https://localhost:8080/"
        },
        "id": "yOBbNJ8PnG3C",
        "outputId": "e9548574-9934-4d30-969f-7059f0a8c280"
      },
      "id": "yOBbNJ8PnG3C",
      "execution_count": 53,
      "outputs": [
        {
          "output_type": "stream",
          "name": "stderr",
          "text": [
            "/usr/local/lib/python3.7/dist-packages/ipykernel_launcher.py:3: SettingWithCopyWarning: \n",
            "A value is trying to be set on a copy of a slice from a DataFrame.\n",
            "Try using .loc[row_indexer,col_indexer] = value instead\n",
            "\n",
            "See the caveats in the documentation: https://pandas.pydata.org/pandas-docs/stable/user_guide/indexing.html#returning-a-view-versus-a-copy\n",
            "  This is separate from the ipykernel package so we can avoid doing imports until\n",
            "/usr/local/lib/python3.7/dist-packages/ipykernel_launcher.py:7: SettingWithCopyWarning: \n",
            "A value is trying to be set on a copy of a slice from a DataFrame.\n",
            "Try using .loc[row_indexer,col_indexer] = value instead\n",
            "\n",
            "See the caveats in the documentation: https://pandas.pydata.org/pandas-docs/stable/user_guide/indexing.html#returning-a-view-versus-a-copy\n",
            "  import sys\n"
          ]
        }
      ]
    },
    {
      "cell_type": "code",
      "execution_count": 54,
      "id": "896037b6",
      "metadata": {
        "id": "896037b6",
        "colab": {
          "base_uri": "https://localhost:8080/",
          "height": 636
        },
        "outputId": "9704172b-746a-4d30-e7fa-a3ffde90ff85"
      },
      "outputs": [
        {
          "output_type": "display_data",
          "data": {
            "text/plain": [
              "<Figure size 1440x720 with 1 Axes>"
            ],
            "image/png": "[encoded data removed]"
          },
          "metadata": {
            "needs_background": "light"
          }
        }
      ],
      "source": [
        "plt.figure(figsize=(20,10))\n",
        "sns.violinplot(y=\"CMR\", x ='sex', data=sex_plot, palette=\"Set3\")\n",
        "plt.scatter(y=\"CMR\", x ='sex', data=sex_plot, color = 'grey')\n",
        "plt.ylim((-0.1, 0.6))\n",
        "plt.xlim(-1,2)\n",
        "plt.title('Зависимость риска рака среди особей Carnivora от пола')\n",
        "plt.show()"
      ]
    },
    {
      "cell_type": "markdown",
      "source": [
        "**Риск рака == CMR**\n",
        "\n",
        "**По KDE видно что дисперсии близки, проверим зависимость риска рака от половой принадлежности с помощью критерия Стьюдента**"
      ],
      "metadata": {
        "id": "G3aDB6SlrNn5"
      },
      "id": "G3aDB6SlrNn5"
    },
    {
      "cell_type": "code",
      "source": [
        "sps.ttest_ind(female['CMR'], male['CMR'], equal_var=True)"
      ],
      "metadata": {
        "colab": {
          "base_uri": "https://localhost:8080/"
        },
        "id": "2_1Rbg39rL5V",
        "outputId": "acbb3806-936f-41c7-f340-d82100a7e62a"
      },
      "id": "2_1Rbg39rL5V",
      "execution_count": 55,
      "outputs": [
        {
          "output_type": "execute_result",
          "data": {
            "text/plain": [
              "Ttest_indResult(statistic=-0.3131762718650713, pvalue=0.7550779736094833)"
            ]
          },
          "metadata": {},
          "execution_count": 55
        }
      ]
    },
    {
      "cell_type": "markdown",
      "id": "2550ae57",
      "metadata": {
        "id": "2550ae57"
      },
      "source": [
        "**Вывод:**\n",
        "\n",
        "\n",
        "**Таким образом, гипотеза о равенстве средних не отвергается, то есть скорее всего завимости рака от пола нет.**\n",
        "\n"
      ]
    }
  ],
  "metadata": {
    "kernelspec": {
      "display_name": "Python 3 (ipykernel)",
      "language": "python",
      "name": "python3"
    },
    "language_info": {
      "codemirror_mode": {
        "name": "ipython",
        "version": 3
      },
      "file_extension": ".py",
      "mimetype": "text/x-python",
      "name": "python",
      "nbconvert_exporter": "python",
      "pygments_lexer": "ipython3",
      "version": "3.9.7"
    },
    "colab": {
      "name": "cancer_task_Zakirova.ipynb",
      "provenance": [],
      "collapsed_sections": []
    }
  },
  "nbformat": 4,
  "nbformat_minor": 5
}