{
  "cells": [
    {
      "cell_type": "markdown",
      "metadata": {
        "id": "0mwREgcF1yhk"
      },
      "source": [
        "# <a href=\"https://mipt-stats.gitlab.io/courses/ad_mipt.html\">Phystech@DataScience</a>\n",
        "## Задание 6\n",
        "\n",
        "**Правила:**\n",
        "\n",
        "* Выполненную работу нужно отправить телеграм-боту `@miptstats_pds_bot`.\n",
        "* Дедлайн **17 апреля в 22:00**. После дедлайна работы не принимаются кроме случаев наличия уважительной причины.\n",
        "* Прислать нужно ноутбук в формате `ipynb` и все фотографии, если пишете теоретическую часть от руки.\n",
        "* Решения, размещенные на каких-либо интернет-ресурсах, не принимаются. Публикация решения может быть приравнена к предоставлении возможности списать.\n",
        "* Для выполнения задания используйте этот ноутбук в качестве основы, ничего не удаляя из него.\n",
        "\n",
        "-----\n",
        "\n",
        "*Замечания.* Теоретические решения можно оформить\n",
        "* в $\\LaTeX$-формате в ноутбуке;\n",
        "* написать от руки и прикрепить к ноутбуку;\n",
        "* написать от руки и выслать боту.  \n",
        "\n",
        "Во втором случае также **важно** \"вшить\" фото в ноутбук. Сделать это можно с помощью Edit -> Insert Image в Jupyter или с помощью кнопки \"Вставить изображение\" в Colab. Следите за размером итогового файла.\n",
        "\n",
        "Фотографии принимаются только в хорошем качестве, **следите за освещением и почерком**. На фотографиях также указывайте номера задач.\n",
        "\n",
        "-----"
      ]
    },
    {
      "cell_type": "markdown",
      "metadata": {
        "id": "pm3KPz2lqJgo"
      },
      "source": [
        "**Работа Закировой Марфы, Б06-907**"
      ]
    },
    {
      "cell_type": "code",
      "execution_count": 1,
      "metadata": {
        "id": "-d9lvaQn1sYA",
        "colab": {
          "base_uri": "https://localhost:8080/"
        },
        "outputId": "74025c97-ca5a-4242-db27-07cbd342e6c0"
      },
      "outputs": [
        {
          "output_type": "stream",
          "name": "stderr",
          "text": [
            "/usr/local/lib/python3.7/dist-packages/statsmodels/tools/_testing.py:19: FutureWarning: pandas.util.testing is deprecated. Use the functions in the public API at pandas.testing instead.\n",
            "  import pandas.util.testing as tm\n"
          ]
        }
      ],
      "source": [
        "import numpy as np\n",
        "import pandas as pd\n",
        "import scipy.stats as sps\n",
        "import statsmodels as sts\n",
        "\n",
        "import matplotlib.pyplot as plt\n",
        "import seaborn as sns\n",
        "\n",
        "red = '#FF3300'\n",
        "blue = '#0099CC'\n",
        "green = '#00CC66'\n",
        "\n",
        "from statsmodels.sandbox.stats.multicomp import multipletests\n",
        "from tqdm.notebook import tqdm\n",
        "\n",
        "%matplotlib inline\n"
      ]
    },
    {
      "cell_type": "markdown",
      "metadata": {
        "id": "GJKSXxzO13Ko"
      },
      "source": [
        "#Критерии согласия\n",
        "\n",
        "##Теоретическая часть"
      ]
    },
    {
      "cell_type": "markdown",
      "metadata": {
        "id": "McY-fb-G2Odk"
      },
      "source": [
        "\n",
        "\n",
        "###Задача 1. (основной поток, 5 баллов)\n",
        " Компания по производству кормов для собак провела опрос $5000$ владельцев собак о том, какой корм предпочитают их питомцы. По результатам опроса оказалось, что $1010$ собак предпочитают корм со вкусом лосося, $2200$ &mdash; со вкусом курицы, $950$ &mdash; со вкусом говядины, а все остальные собаки предпочитают корм с овощами. Компания сделала предположение, что вероятности предпочтения кормов равны соответственно $\\theta, 2\\theta, \\theta, 1-4\\theta$,\n",
        "\tгде $\\theta\\in(0,1/4)$. Верно ли данное предположение? Выпишите теоретические формулы и код для подсчета значения статистики и p-value  в `scipy`. Вычисление статистики и p-value можно выполнить в Питоне.\n"
      ]
    },
    {
      "cell_type": "code",
      "execution_count": 2,
      "metadata": {
        "colab": {
          "base_uri": "https://localhost:8080/"
        },
        "id": "R1-95ZAk02xC",
        "outputId": "2e4d2452-aaf6-413a-ae81-efdbedd7269f"
      },
      "outputs": [
        {
          "output_type": "stream",
          "name": "stdout",
          "text": [
            "chi = 15.58\n",
            "chi_alfa = 5.99\n",
            "p-value: 0.0004\n"
          ]
        }
      ],
      "source": [
        "theta = 0.208\n",
        "n_p = np.array([theta, 2*theta, theta, 1 - 4*theta]) * 5000\n",
        "mu  = np.array([1010, 2200, 950, 840])\n",
        "chi = np.sum((mu - n_p)**2/n_p)\n",
        "\n",
        "chi_alfa = sps.chi2(df=2).ppf(0.95)\n",
        "p_val  = sps.chi2(df = 2).sf(15.6)\n",
        "print(f'chi = {round(chi,2)}')\n",
        "print(f'chi_alfa = {round(chi_alfa,2)}')\n",
        "print(f'p-value: {round(p_val,4)}')\n"
      ]
    },
    {
      "cell_type": "markdown",
      "source": [
        "**Результат статистически значим, отвергаем $H_0$**"
      ],
      "metadata": {
        "id": "9BSpK80lksFi"
      }
    },
    {
      "cell_type": "markdown",
      "metadata": {
        "id": "qXMt2DllZFT7"
      },
      "source": [
        "## Практическая часть"
      ]
    },
    {
      "cell_type": "markdown",
      "metadata": {
        "id": "IQyFnVSRHMfW"
      },
      "source": [
        "При решении стоит использовать **готовые реализации критериев из** `scipy.stats`. При возникновении затруднений посмотрите в ноутбук с лекции 9.\n",
        "________________\n",
        "### Задача 2. (все потоки, 8 баллов)\n",
        "\n",
        "С помощью критерия хи-квадрат вам нужно проверить, правильно ли `scipy.stats` генерирует случайные величины. \n",
        "\n",
        "**1.** Реализуйте критерий хи-квадрат для проверки корректности генерации выборки $U\\{1, ..., 10\\}$ (дискретное равномерное распределение). Тем самым проверьте, что `sps.randint` действительно генерирует выборку из равномерного распределения. Подберите размер выборки такой, чтобы выполнялись условия применимости критерия хи-квадрат. Поясните свой выбор.\n",
        "\n",
        "\n",
        "\n"
      ]
    },
    {
      "cell_type": "markdown",
      "metadata": {
        "id": "qDSbO4iR7vqz"
      },
      "source": [
        "$H_0: P = U\\{1,\\dots,10\\}$\n",
        "\n",
        "**требуется сгенерировать выборку по значениям sps.randint и проверить для нее критерий хи - квадрат**\n",
        "\n"
      ]
    },
    {
      "cell_type": "code",
      "execution_count": 159,
      "metadata": {
        "colab": {
          "base_uri": "https://localhost:8080/"
        },
        "id": "PI3mRiXnTJCd",
        "outputId": "ad9207b6-469c-4125-d119-8c3c630c2a5b"
      },
      "outputs": [
        {
          "output_type": "stream",
          "name": "stdout",
          "text": [
            "chi: 11.53\n",
            "chi_2: 16.92\n",
            "Не отвергаем\n"
          ]
        }
      ],
      "source": [
        "len = 300 #выборка большая, элементов больше 50. В каждой корзине ожидается заведомо больше 5ти элементов: 30\n",
        "k = 10 #количество корзин определяется областью значений дискретной величины\n",
        "\n",
        "samples = sps.randint(low = 1, high = 11).rvs(size = len) #словарь вида значение из реализации: количество его повторений\n",
        "values, mu = np.unique(samples, return_counts = True)  \n",
        "p = 1/10\n",
        "n_p = len * p\n",
        "chi = sum((mu-n_p)**2/n_p)\n",
        "chi_2_alfa = sps.chi2(df=k-1).ppf(0.95)\n",
        "print(f'chi: {round(chi,2)}')\n",
        "print(f'chi_2: {round(chi_2_alfa,2)}')\n",
        "if chi < chi_2_alfa: \n",
        "  print('Не отвергаем')\n",
        "else:\n",
        "  print('Выборка не из равномерного')"
      ]
    },
    {
      "cell_type": "markdown",
      "metadata": {
        "id": "wJlzIFdVDbrW"
      },
      "source": [
        "**можно было проще:**"
      ]
    },
    {
      "cell_type": "code",
      "execution_count": 160,
      "metadata": {
        "colab": {
          "base_uri": "https://localhost:8080/"
        },
        "id": "55HgpM7k-RRk",
        "outputId": "df8bea3e-e87b-421c-c62b-a77841974084"
      },
      "outputs": [
        {
          "output_type": "execute_result",
          "data": {
            "text/plain": [
              "Power_divergenceResult(statistic=11.533333333333333, pvalue=0.2409136470358339)"
            ]
          },
          "metadata": {},
          "execution_count": 160
        }
      ],
      "source": [
        "sps.chisquare(mu)"
      ]
    },
    {
      "cell_type": "markdown",
      "metadata": {
        "id": "MFrZLheQEIgg"
      },
      "source": [
        "**Аналогично получаем, что результат статистически не значим: p-value > $\\alpha  = 0.05$, не отвергаем**"
      ]
    },
    {
      "cell_type": "markdown",
      "metadata": {
        "id": "plJ6fKuFTGFZ"
      },
      "source": [
        "**2.** Проверьте, действительно ли код `sps.poisson(mu=5).rvs(size=1000)` генерирует выборку размера 1000 из пуассоновского распределения с параметром 5. \n",
        "\n",
        "**Указания**\n",
        "1. Не забудьте учесть условия применимости критерия хи-квадрат;\n",
        "2. Для вычисления дискретной плотности (вероятности) воспользуйтесь `sps.poisson(mu=5).pmf`;\n",
        "3. Для подсчета количества элементов в разбиении на множества воспользуйтесь `np.unique(sample, return_counts=True)`;\n",
        "4. Не нужно писать сколь-либо универсальный код, который одним нажатием кнопки проверяет гипотезу с учетом всех условий применимости критерия. Расписывайте код поэтапно, на каждый логический этап свой код в отдельной ячейке для *конкретной* реализации выборки. Так вам проще реализовать, а нам проще проверять.\n",
        "\n",
        "\n"
      ]
    },
    {
      "cell_type": "markdown",
      "metadata": {
        "id": "xzNU5QDKOgDk"
      },
      "source": [
        "**Хи - квадрат применим, если выборка достаточно большая и в каждой корзине ожидается не меньше 5ти элементов.**\n",
        "\n",
        "**У нас выборка изначально состоит из 1000 элементов, но может оказаться что по корзинам реализация будет разбросана странно**"
      ]
    },
    {
      "cell_type": "code",
      "execution_count": 161,
      "metadata": {
        "id": "LWoo8f3jFHLI"
      },
      "outputs": [],
      "source": [
        "def check_bins(counter, q = 5):\n",
        "  \"\"\"Возвращает отредактированный словарь counter: если существует корзины в которых меньше q элементов, функция их выявит и объединит. \n",
        "  Если после объединения в корзине все еще меньше 5ти элементов, то добавит полученные значения к последней корзине counter с количеством элементов >= q\n",
        "  \"\"\"\n",
        "  res = {}\n",
        "  keys = [k for k in counter.keys()]\n",
        "  for k in keys:\n",
        "    if counter[k] < q:\n",
        "      res[k] = counter.pop(k)\n",
        "  if res.keys():  #зайдем сюда если найдутся корзины в которых меньше q элементов\n",
        "    name = tuple(k for k in res.keys())\n",
        "    number = sum(res.values())   #объединяем все такие корзины\n",
        "    if number < q: #если после объединения элементов все еще мало\n",
        "      counter[list(counter.keys())[-1]]  += number\n",
        "    else:\n",
        "      counter[name] = number\n",
        "  return counter"
      ]
    },
    {
      "cell_type": "markdown",
      "metadata": {
        "id": "HUuraUpURtWZ"
      },
      "source": [
        "$H_0: X_i \\sim Pois(5)$"
      ]
    },
    {
      "cell_type": "code",
      "source": [
        "samples = sps.poisson(mu=5).rvs(size=1000)\n",
        "keys, values = np.unique(samples, return_counts = True)\n",
        "counter = {k:v for k,v in zip(keys,values)}\n",
        "#предполагаемое распределение дискретное => определим разбиение на корзины по области его значений\n",
        "bins = check_bins(counter)\n",
        "p_j = sps.poisson(mu=5).pmf(np.array(list(bins.keys()))) * 1000\n",
        "print(sps.chisquare(f_obs = list(bins.values()), f_exp = p_j))"
      ],
      "metadata": {
        "colab": {
          "base_uri": "https://localhost:8080/"
        },
        "id": "wgtFOnudn0bc",
        "outputId": "41e7053c-be32-4084-f97a-155ad18d2e1b"
      },
      "execution_count": 163,
      "outputs": [
        {
          "output_type": "stream",
          "name": "stdout",
          "text": [
            "Power_divergenceResult(statistic=15.607287026420321, pvalue=0.15634764856527447)\n"
          ]
        }
      ]
    },
    {
      "cell_type": "markdown",
      "metadata": {
        "id": "rRsPLvVaUfi5"
      },
      "source": [
        "**Через np.unique можно было определить корзины и количество элементов в них, но я уже начала пользоваться counter в первой задаче, решила продолжить, суть не меняется**"
      ]
    },
    {
      "cell_type": "markdown",
      "metadata": {
        "id": "liDFWnYDTIJ-"
      },
      "source": [
        "**Вывод:**\n",
        "**P-value> 0.05 => гипотеза о том, что код sps.poisson(mu=5).rvs генерирует соответсвующую выборку не отвергается**"
      ]
    },
    {
      "cell_type": "markdown",
      "metadata": {
        "id": "8eVDXsoLHMfY"
      },
      "source": [
        "__________________\n",
        "### Задача 3. (основной поток, 8 баллов)\n",
        "\n",
        "На лекциях и семинарах были разобраны следующие критерии проверки нормальности:\n",
        "* Колмогорова;\n",
        "* Жарка-Бера;\n",
        "* Шапиро-Уилка;\n",
        "* Лиллиефорса.\n",
        "\n",
        "При этом критерий Колмогорова универсален, но существует его модификация для проверки нормальности — <a href=\"https://ru.wikipedia.org/wiki/Критерий_Лиллиефорса\"> Критерий Лиллиефорса.</a> При решении задачи можно взять реализацию из библиотеки `statsmodels`: <a href=\"https://www.statsmodels.org/stable/generated/statsmodels.stats.diagnostic.lilliefors.html\">`statsmodels.stats.diagnostic.lilliefors`</a>. Критерий Колмогорова можно попробовать применить для конкретной $F_0$ (оценив ее), пример использования можно найти в ноутбуке с лекции.\n",
        "\n",
        "**1.** Данные критерии являются асимптотическими, и их реальное значение уровня значимости может отличаться от желаемого числа $\\alpha=0.05$. На семинаре разобран метод оценки реального уровня значимости критерия. Посчитайте реальный уровень значимости этих критериев для размеров выборки от 5 до 100. В данном случае можно привести теоретические соображения, согласно которым стоит использовать количество генерируемых выборок `sample_count `$\\ge 10^6$, но для ускорения работы при выполнении задания можете использовать `sample_count = 10**4`.\n",
        "\n",
        "\n",
        "\n",
        "*Подсказка:*"
      ]
    },
    {
      "cell_type": "code",
      "execution_count": null,
      "metadata": {
        "id": "xEHsNWMnHMfZ"
      },
      "outputs": [],
      "source": [
        "max_sample_size = ...\n",
        "sample_count = ...\n",
        "is_reject_<критерий> = np.zeros((max_sample_size, sample_count))\n",
        "\n",
        "# tqdm показывает, сколько еще времени будет выполняться цикл и сколько прошло\n",
        "for i in tqdm(range(max_sample_size)):\n",
        "    for j in range(sample_count):\n",
        "        sample = ...\n",
        "        is_reject_<критерий>[i, j] = ..."
      ]
    },
    {
      "cell_type": "markdown",
      "metadata": {
        "id": "CsC4o_IPHMfa"
      },
      "source": [
        "Ваша реализация:"
      ]
    },
    {
      "cell_type": "markdown",
      "metadata": {
        "id": "1wli5ByNqasd"
      },
      "source": [
        "$\\widehat{\\alpha} = \\bar{I(X \\in S)}$ **- реальный уровень значимости**"
      ]
    },
    {
      "cell_type": "markdown",
      "metadata": {
        "id": "-mOKg4e7xAr1"
      },
      "source": [
        "**Можно было проверять критерий в основном коде через 1 строчку и писать в is_reject_<критерий> True\\False, но я хочу записывать сразу число: 1\\0**"
      ]
    },
    {
      "cell_type": "code",
      "execution_count": 8,
      "metadata": {
        "id": "x_CJjChQwH_h"
      },
      "outputs": [],
      "source": [
        "def zero2one(exp_small,exp_big = 0.05):\n",
        "  \"\"\"вспомогательная функция для заполнения индикатора\"\"\"\n",
        "  if exp_small < exp_big:\n",
        "    return 1\n",
        "  else:\n",
        "    return 0"
      ]
    },
    {
      "cell_type": "code",
      "execution_count": 9,
      "metadata": {
        "colab": {
          "base_uri": "https://localhost:8080/",
          "height": 49,
          "referenced_widgets": [
            "b2a83df35c2248b8ba4bd104787ef890",
            "f7ef63caa87242ab85d4a95fc9d7681e",
            "da15277f568949c4904ea2c365bb15d9",
            "67f5fee200f740959e49f0750d234df8",
            "53c82c7c51634aab818ab3d9c3edec9b",
            "4ff1eb24456942fd99ff8be51cf8b74a",
            "bd067c5450514637b7b777ea4a448df3",
            "d45da7d61a094a27a0431173fa5384f3",
            "730a7374a13d48b998a2ce78d01e6a84",
            "75f3b50be557424cba48caf0e065755e",
            "fdbe6804fcba4f6184cb25698a8c3bdd"
          ]
        },
        "id": "U2G5kzz-o4Y6",
        "outputId": "dbd52f75-32fd-407e-e525-a0aa475fb8c1"
      },
      "outputs": [
        {
          "data": {
            "application/vnd.jupyter.widget-view+json": {
              "model_id": "b2a83df35c2248b8ba4bd104787ef890",
              "version_major": 2,
              "version_minor": 0
            },
            "text/plain": [
              "  0%|          | 0/95 [00:00<?, ?it/s]"
            ]
          },
          "metadata": {},
          "output_type": "display_data"
        }
      ],
      "source": [
        "max_sample_size = 100\n",
        "sample_count = 10**4\n",
        "\n",
        "is_reject_ber = np.zeros((max_sample_size - 5, sample_count))\n",
        "is_reject_shapiro = np.zeros((max_sample_size - 5, sample_count))\n",
        "is_reject_lili = np.zeros((max_sample_size - 5, sample_count))\n",
        "\n",
        "# tqdm показывает, сколько еще времени будет выполняться цикл и сколько прошло\n",
        "for i in tqdm(range(5, max_sample_size)): #проверяем для выборок разных размеров \n",
        "    for j in range(sample_count):# для каждого размера надо пройти все генерации\n",
        "        sample = sps.norm().rvs(size = i)\n",
        "        is_reject_ber[i-5, j] = zero2one(sps.jarque_bera(sample)[1])\n",
        "        is_reject_shapiro[i-5, j] = zero2one(sps.shapiro(sample)[1])\n",
        "        is_reject_lili[i-5, j] = zero2one(sps.kstest(sample, 'norm')[1])"
      ]
    },
    {
      "cell_type": "markdown",
      "metadata": {
        "id": "imNTROJfHMfd"
      },
      "source": [
        "Нарисуйте на одном графике зависимость реального уровня значимости от размера выборки для каждого критерия. Пунктиром отметьте уровень 0.05. Не забудьте добавить легенду и подписать оси."
      ]
    },
    {
      "cell_type": "code",
      "execution_count": 10,
      "metadata": {
        "colab": {
          "base_uri": "https://localhost:8080/",
          "height": 513
        },
        "id": "8KodicV_HMfe",
        "outputId": "1d18848c-7011-442c-976c-937bc7f8d463"
      },
      "outputs": [
        {
          "output_type": "display_data",
          "data": {
            "text/plain": [
              "<Figure size 1080x576 with 1 Axes>"
            ],
            "image/png": "[encoded data removed]"
          },
          "metadata": {
            "needs_background": "light"
          }
        }
      ],
      "source": [
        "plt.figure(figsize=(15, 8))\n",
        "grid=np.arange(5,100)\n",
        "plt.plot(grid, np.mean(is_reject_ber,axis = 1), alpha=0.4, color='red', linewidth=2.5, label='Жарка-Бера')\n",
        "plt.plot(grid, np.mean(is_reject_shapiro,axis = 1), alpha=0.4, color='blue', linewidth=2.5, label='Шапиро-Уилка')\n",
        "plt.plot(grid, np.mean(is_reject_lili, axis = 1), alpha=0.4, color='green', linewidth=2.5, label='Лиллиефорсa')\n",
        "plt.plot(grid, [0.05 for _ in range(95)], 'b--', label = 'alpha = 0.05')\n",
        "\n",
        "plt.legend()\n",
        "plt.xlim((0, 105))  \n",
        "plt.ylim((0,0.06))\n",
        "plt.xlabel('Размер выборки') \n",
        "plt.title('Зависимость реального уровня значимости от длины выборки')\n",
        "plt.grid()\n",
        "plt.show()"
      ]
    },
    {
      "cell_type": "markdown",
      "metadata": {
        "id": "qiyPEYHKHMfe"
      },
      "source": [
        "Какой можно сделать вывод?"
      ]
    },
    {
      "cell_type": "markdown",
      "metadata": {
        "id": "6uZFG59mHMff"
      },
      "source": [
        "**При заданном количестве выборок реальные уровни значимости критериев  Шапиро-Уилк и Лилиефорса осциллируют близи 0.05 и мало зависят от размера выборки, а критерия Жарка-Бера ниже 0.05 и стремится к этому значению с ростом размера выборки.**"
      ]
    },
    {
      "cell_type": "markdown",
      "metadata": {
        "id": "NT1MiSwzHMff"
      },
      "source": [
        "**2.** Аналогичным образом можно вычислять мощность критерия. Вычислите мощности критериев для размеров выборки от 5 до 100, если альтернативная гипотеза заключается в том, что выборка имеет стандартное распределение Коши. Иначе говоря, для критерия $S$ надо приближенно посчитать $\\beta_S(\\mathsf{P})$, где $\\mathsf{P}$ — стандартное распределение Коши.\n",
        "\n",
        "Нарисуйте на одном графике зависимость мощности критерия от размера выборки для каждого критерия. Не забудьте добавить легенду и подписать оси.\n"
      ]
    },
    {
      "cell_type": "code",
      "execution_count": 12,
      "metadata": {
        "colab": {
          "base_uri": "https://localhost:8080/",
          "height": 49,
          "referenced_widgets": [
            "b5baa7bb626b497b8c177652b3258ace",
            "20bc8e0a76dc40308ae99ed5c96f54c5",
            "a9ad54b11cb645ba9e6fa65993c3048e",
            "f91d134cc7bd427086f0fc895d3376d5",
            "946047dc4be44213a86bc9099b592168",
            "3296df340e2b4067be5ad680a24b1644",
            "118ea2a4942f48dcb114a16bb39b7016",
            "6d6fb3f1f03741cc88ab6cc18c2a0c5b",
            "399d92f9680246f8b7612145660e18a9",
            "f3be80e16b2f4ca191ea18c0d71c71d3",
            "ad14ad2ae24c418d96751fec20a04a7a"
          ]
        },
        "id": "JaHNZP45HMfh",
        "outputId": "c448c1ad-ace0-4537-c356-a456beb040a8"
      },
      "outputs": [
        {
          "output_type": "display_data",
          "data": {
            "text/plain": [
              "  0%|          | 0/95 [00:00<?, ?it/s]"
            ],
            "application/vnd.jupyter.widget-view+json": {
              "version_major": 2,
              "version_minor": 0,
              "model_id": "b5baa7bb626b497b8c177652b3258ace"
            }
          },
          "metadata": {}
        }
      ],
      "source": [
        "max_sample_size = 100\n",
        "sample_count = 10**4\n",
        "\n",
        "b_s_reject_ber = np.zeros((max_sample_size - 5, sample_count))\n",
        "b_s_reject_shapiro = np.zeros((max_sample_size - 5, sample_count))\n",
        "b_s_reject_lili = np.zeros((max_sample_size - 5, sample_count))\n",
        "\n",
        "# tqdm показывает, сколько еще времени будет выполняться цикл и сколько прошло\n",
        "for i in tqdm(range(5, max_sample_size)): #проверяем для выборок разных размеров \n",
        "    for j in range(sample_count):# для каждого размера надо пройти все генерации\n",
        "        sample = sps.cauchy().rvs(size = i)\n",
        "        b_s_reject_ber[i-5, j] = zero2one(sps.jarque_bera(sample)[1])\n",
        "        b_s_reject_shapiro[i-5, j] = zero2one(sps.shapiro(sample)[1])\n",
        "        b_s_reject_lili[i-5, j] = zero2one(sps.kstest(sample, 'norm')[1])"
      ]
    },
    {
      "cell_type": "code",
      "source": [
        "plt.figure(figsize=(15, 8))\n",
        "grid=np.arange(5,100)\n",
        "plt.plot(grid, np.mean(b_s_reject_ber,axis = 1), alpha=0.4, color='red', linewidth=2.5, label='Жарка-Бера')\n",
        "plt.plot(grid, np.mean(b_s_reject_shapiro,axis = 1), alpha=0.4, color='blue', linewidth=2.5, label='Шапиро-Уилка')\n",
        "plt.plot(grid, np.mean(b_s_reject_lili, axis = 1), alpha=0.4, color='green', linewidth=2.5, label='Лиллиефорсa')\n",
        "\n",
        "plt.legend()\n",
        "plt.xlim((0, 105))  \n",
        "plt.xlabel('Размер выборки') \n",
        "plt.title('Зависимость мощности критерия от длины выборки')\n",
        "plt.grid()\n",
        "plt.show()"
      ],
      "metadata": {
        "colab": {
          "base_uri": "https://localhost:8080/",
          "height": 513
        },
        "id": "zJBMPlHiimyh",
        "outputId": "2f3cf4c9-807e-4d84-e2d6-fdb99d238f2d"
      },
      "execution_count": 14,
      "outputs": [
        {
          "output_type": "display_data",
          "data": {
            "text/plain": [
              "<Figure size 1080x576 with 1 Axes>"
            ],
            "image/png": "[encoded data removed]"
          },
          "metadata": {
            "needs_background": "light"
          }
        }
      ]
    },
    {
      "cell_type": "markdown",
      "metadata": {
        "id": "XsfJ2zTBHMfh"
      },
      "source": [
        "Сделайте вывод. Какой критерий является наиболее мощным при данной альтернативе?"
      ]
    },
    {
      "cell_type": "markdown",
      "metadata": {
        "id": "Jwfb5QobHMfi"
      },
      "source": [
        "**Наиболее мощным является критерий Шапиро-Уилка, он набирает большую мощность при относительно малых размерах выборки. Менее мощный - критерий Жарка - Бера, хуже всех критерий Лилиефорса, он менее всего чувствителен к различиям между распределением Коши и нормальным (на хвостах), сильнее зависит от размера выборки.**"
      ]
    },
    {
      "cell_type": "markdown",
      "metadata": {
        "id": "frhPKCtPHMfj"
      },
      "source": [
        "**3*.** (4 балла) Распределение [Стьюдента](https://ru.wikipedia.org/wiki/%D0%A0%D0%B0%D1%81%D0%BF%D1%80%D0%B5%D0%B4%D0%B5%D0%BB%D0%B5%D0%BD%D0%B8%D0%B5_%D0%A1%D1%82%D1%8C%D1%8E%D0%B4%D0%B5%D0%BD%D1%82%D0%B0) является в некотором смысле обобщением нормального распределения (при бесконечном количестве степеней свободы) и распределения Коши (при одной степени свободы). \n",
        "\n",
        "Постройте на одном графике графики плотности распределения Коши, распределения Стьюдента с 1, 5, 10 степенями свободы и стандартного нормального распределения. Как меняется форма графика распределения Стьюдента с изменением количества степеней свободы? "
      ]
    },
    {
      "cell_type": "code",
      "execution_count": 15,
      "metadata": {
        "id": "9Jfxm8veM9Ur",
        "colab": {
          "base_uri": "https://localhost:8080/",
          "height": 499
        },
        "outputId": "7f3d5cac-4388-48f8-ba85-d0b28def2b04"
      },
      "outputs": [
        {
          "output_type": "display_data",
          "data": {
            "text/plain": [
              "<Figure size 1080x576 with 1 Axes>"
            ],
            "image/png": "[encoded data removed]"
          },
          "metadata": {
            "needs_background": "light"
          }
        }
      ],
      "source": [
        "plt.figure(figsize=(15, 8))\n",
        "grid=np.linspace(-5,5,1000)\n",
        "\n",
        "plt.plot(grid, sps.cauchy().pdf(grid), alpha=0.4, color='red', linewidth=2.5, label='Cauchy(0)')\n",
        "plt.plot(grid, sps.norm().pdf(grid), alpha=0.4, color='blue', linewidth=2.5, label='$\\mathcal{N}(0,1)$')\n",
        "plt.plot(grid, sps.t(df = 1).pdf(grid), alpha=0.4, linewidth=2.5, label='Cтьюдент 1 ст.свободы')\n",
        "plt.plot(grid, sps.t(df = 5).pdf(grid), alpha=0.4,  linewidth=2.5, label='Cтьюдент 5 ст.свободы')\n",
        "plt.plot(grid, sps.t(df = 10).pdf(grid), alpha=0.4,  linewidth=2.5, label='Cтьюдент 10 ст.свободы')\n",
        "\n",
        "plt.legend()\n",
        "plt.xlim((-5, 5))   \n",
        "plt.title('Графики плотности распределения')\n",
        "plt.grid()\n",
        "plt.show()"
      ]
    },
    {
      "cell_type": "markdown",
      "metadata": {
        "id": "ba_AxenW7uha"
      },
      "source": [
        "**Видим, что при увеличении степеней свободы распределение Стьюдента стремится к нормальному, при 1 cтепени свободы совпадает со стандартным распределением Коши(наложение линий создает коричневый оттенок). Заметим, что характерные \"хвосты\" при увеличении степеней свободы тоже становятся менее заметными, \"тяжелыми\", что и следовало ожидать.**"
      ]
    },
    {
      "cell_type": "markdown",
      "metadata": {
        "id": "20L3DzHmMpeN"
      },
      "source": [
        "Посчитайте приближенно мощности критериев для выборки размера 50 если альтернатива заключается в том, что выборка имеет распределение Стьюдента. Поскольку мощность критерия является функцией от распределения из альтернативной гипотезы, вам нужно реализовать функцию (например, принимающую количество степенй свободы). Посчитайте её значения для целых значений степени свободы от 1 до 10.\n",
        "\n",
        "Нарисуйте на одном графике зависимость мощности критерия от **количества степеней свободы** для каждого из трех критериев. Не забудьте добавить легенду и подписать оси."
      ]
    },
    {
      "cell_type": "code",
      "source": [
        "def strength(sample_size = 50, svob = np.array([1,]), sample_count = 10**4):\n",
        "  b_st_reject_ber = np.zeros((svob.shape[0], sample_count))\n",
        "  b_st_reject_shapiro = np.zeros((svob.shape[0], sample_count))\n",
        "  b_st_reject_lili =  np.zeros((svob.shape[0], sample_count))\n",
        "  for stepen in tqdm(svob):\n",
        "    for i in range(sample_count):\n",
        "      sample = sps.t(df = stepen).rvs(sample_size)\n",
        "      b_st_reject_ber[stepen-1,i] = zero2one(sps.jarque_bera(sample)[1])\n",
        "      b_st_reject_shapiro[stepen-1,i] = zero2one(sps.shapiro(sample)[1])\n",
        "      b_st_reject_lili[stepen-1,i] = zero2one(sps.kstest(sample, 'norm')[1])\n",
        "  return [b_st_reject_ber, b_st_reject_shapiro, b_st_reject_lili]"
      ],
      "metadata": {
        "id": "BFOXwofFemmf"
      },
      "execution_count": 37,
      "outputs": []
    },
    {
      "cell_type": "code",
      "source": [
        "svobod = np.arange(1,11)\n",
        "\n",
        "res = strength(svob = svobod)"
      ],
      "metadata": {
        "colab": {
          "base_uri": "https://localhost:8080/",
          "height": 49,
          "referenced_widgets": [
            "efc77873bd9a44a6951479de3c20bc15",
            "65d26dc5a5c644f09633f75aa8153ff5",
            "9e33070ca1e44d5e9ca75920b99cee15",
            "0ce81cd2e515498c88ba4604ef04be3b",
            "f7b7e8873f62426c8c9cb37d54270b40",
            "f3f7ed777c5c473db27a0806d17070df",
            "9fa8027f6d224d1d96451de4245a9516",
            "54ff5c44be424c90b9f3b1d16c83f36e",
            "83aa206dcc054c6899574d2023094e55",
            "388bec4a172f43b3980df0370311530b",
            "2a5797d9835a47ea9dd90d84a8f0b0d7"
          ]
        },
        "id": "GpkPDgPwrQjD",
        "outputId": "c968f86f-11ac-4aec-fbf8-6b8ce2c1e438"
      },
      "execution_count": 38,
      "outputs": [
        {
          "output_type": "display_data",
          "data": {
            "text/plain": [
              "  0%|          | 0/10 [00:00<?, ?it/s]"
            ],
            "application/vnd.jupyter.widget-view+json": {
              "version_major": 2,
              "version_minor": 0,
              "model_id": "efc77873bd9a44a6951479de3c20bc15"
            }
          },
          "metadata": {}
        }
      ]
    },
    {
      "cell_type": "code",
      "source": [
        "\n",
        "plt.figure(figsize=(15, 8))\n",
        "grid=np.arange(1,11)\n",
        "plt.plot(grid, np.mean(res[0],axis = 1), alpha=0.4, color='red', linewidth=2.5, label='Жарка-Бера')\n",
        "plt.plot(grid, np.mean(res[1], axis = 1), alpha=0.4, color='blue', linewidth=2.5, label='Шапиро-Уилка')\n",
        "plt.plot(grid, np.mean(res[2], axis = 1), alpha=0.4, color='green', linewidth=2.5, label='Лиллиефорсa')\n",
        "\n",
        "plt.legend()\n",
        "plt.xlim((0, 11))  \n",
        "plt.xlabel('Число степеней свободы') \n",
        "plt.title('Зависимость мощности критерия от количества степеней свободы')\n",
        "plt.grid()\n",
        "plt.show()"
      ],
      "metadata": {
        "colab": {
          "base_uri": "https://localhost:8080/",
          "height": 513
        },
        "id": "fvdWtgFAqimo",
        "outputId": "2a1e2271-2a13-4cd9-8ba9-a28e15b38b46"
      },
      "execution_count": 42,
      "outputs": [
        {
          "output_type": "display_data",
          "data": {
            "text/plain": [
              "<Figure size 1080x576 with 1 Axes>"
            ],
            "image/png": "[encoded data removed]"
          },
          "metadata": {
            "needs_background": "light"
          }
        }
      ]
    },
    {
      "cell_type": "markdown",
      "metadata": {
        "id": "kA0hru5IHMfk"
      },
      "source": [
        "Сделайте вывод относительно мощности критерия при разных распределениях из альтернативы. Объясните наблюдаемую зависимость мощности от степени свободы."
      ]
    },
    {
      "cell_type": "markdown",
      "metadata": {
        "id": "R52ki-a3HMfl"
      },
      "source": [
        "**При увеличении числа степеней свободы распределение Стьюдента все более похоже на нормальное: критериям проверки нормальности в принципе будет тяжелее работать. При этом критерий Жарка-Бера является наиболее мощным: даже при больших степенях он пытается различать распределения, он сильнее чем критерий Шапиро - Уилка. Критерий Лилиенфорса является самым слабым: мощность изначально мала и слабо зависит от степеней свободы, то есть опять нечувствительна к поведению на хвостах**"
      ]
    },
    {
      "cell_type": "markdown",
      "metadata": {
        "id": "YN4ZpQMAHMfn"
      },
      "source": [
        "__________________\n",
        "### Задача 4. (основной поток, 12 баллов)\n",
        "\n",
        "\n",
        "Cкачайте данные <a href=\"http://archive.ics.uci.edu/ml/datasets/wine\">`wine dataset`</a>. Для этого зайдите в папку \"DataFolder\" и скачайте файл `wine.data`. Читать файл можно с помощью функции `read_csv`.  В этом датасете представлены различные характеристики вин. Возьмите все колонки, кроме `Class` (класс вина). В дальнейшем, как и раньше, будем называть колонки признаками."
      ]
    },
    {
      "cell_type": "markdown",
      "source": [
        "**Поймем как называются колонки, потому что из таблицы wine.data непонятно какому признаку какие числа относятся**"
      ],
      "metadata": {
        "id": "wfSXWV6YNK0d"
      }
    },
    {
      "cell_type": "code",
      "source": [
        "with open('wine.names') as file:\n",
        "  for line in file:\n",
        "    print(line)"
      ],
      "metadata": {
        "colab": {
          "base_uri": "https://localhost:8080/"
        },
        "id": "dll0pWJGzLuV",
        "outputId": "e6918f4f-d304-4957-9527-7bd06decbc40"
      },
      "execution_count": 50,
      "outputs": [
        {
          "output_type": "stream",
          "name": "stdout",
          "text": [
            "1. Title of Database: Wine recognition data\n",
            "\n",
            "\tUpdated Sept 21, 1998 by C.Blake : Added attribute information\n",
            "\n",
            "\n",
            "\n",
            "2. Sources:\n",
            "\n",
            "   (a) Forina, M. et al, PARVUS - An Extendible Package for Data\n",
            "\n",
            "       Exploration, Classification and Correlation. Institute of Pharmaceutical\n",
            "\n",
            "       and Food Analysis and Technologies, Via Brigata Salerno, \n",
            "\n",
            "       16147 Genoa, Italy.\n",
            "\n",
            "\n",
            "\n",
            "   (b) Stefan Aeberhard, email: stefan@coral.cs.jcu.edu.au\n",
            "\n",
            "   (c) July 1991\n",
            "\n",
            "3. Past Usage:\n",
            "\n",
            "\n",
            "\n",
            "   (1)\n",
            "\n",
            "   S. Aeberhard, D. Coomans and O. de Vel,\n",
            "\n",
            "   Comparison of Classifiers in High Dimensional Settings,\n",
            "\n",
            "   Tech. Rep. no. 92-02, (1992), Dept. of Computer Science and Dept. of\n",
            "\n",
            "   Mathematics and Statistics, James Cook University of North Queensland.\n",
            "\n",
            "   (Also submitted to Technometrics).\n",
            "\n",
            "\n",
            "\n",
            "   The data was used with many others for comparing various \n",
            "\n",
            "   classifiers. The classes are separable, though only RDA \n",
            "\n",
            "   has achieved 100% correct classification.\n",
            "\n",
            "   (RDA : 100%, QDA 99.4%, LDA 98.9%, 1NN 96.1% (z-transformed data))\n",
            "\n",
            "   (All results using the leave-one-out technique)\n",
            "\n",
            "\n",
            "\n",
            "   In a classification context, this is a well posed problem \n",
            "\n",
            "   with \"well behaved\" class structures. A good data set \n",
            "\n",
            "   for first testing of a new classifier, but not very \n",
            "\n",
            "   challenging.\n",
            "\n",
            "\n",
            "\n",
            "   (2) \n",
            "\n",
            "   S. Aeberhard, D. Coomans and O. de Vel,\n",
            "\n",
            "   \"THE CLASSIFICATION PERFORMANCE OF RDA\"\n",
            "\n",
            "   Tech. Rep. no. 92-01, (1992), Dept. of Computer Science and Dept. of\n",
            "\n",
            "   Mathematics and Statistics, James Cook University of North Queensland.\n",
            "\n",
            "   (Also submitted to Journal of Chemometrics).\n",
            "\n",
            "\n",
            "\n",
            "   Here, the data was used to illustrate the superior performance of\n",
            "\n",
            "   the use of a new appreciation function with RDA. \n",
            "\n",
            "\n",
            "\n",
            "4. Relevant Information:\n",
            "\n",
            "\n",
            "\n",
            "   -- These data are the results of a chemical analysis of\n",
            "\n",
            "      wines grown in the same region in Italy but derived from three\n",
            "\n",
            "      different cultivars.\n",
            "\n",
            "      The analysis determined the quantities of 13 constituents\n",
            "\n",
            "      found in each of the three types of wines. \n",
            "\n",
            "\n",
            "\n",
            "   -- I think that the initial data set had around 30 variables, but \n",
            "\n",
            "      for some reason I only have the 13 dimensional version. \n",
            "\n",
            "      I had a list of what the 30 or so variables were, but a.) \n",
            "\n",
            "      I lost it, and b.), I would not know which 13 variables\n",
            "\n",
            "      are included in the set.\n",
            "\n",
            "\n",
            "\n",
            "   -- The attributes are (dontated by Riccardo Leardi, \n",
            "\n",
            "\triclea@anchem.unige.it )\n",
            "\n",
            " \t1) Alcohol\n",
            "\n",
            " \t2) Malic acid\n",
            "\n",
            " \t3) Ash\n",
            "\n",
            "\t4) Alcalinity of ash  \n",
            "\n",
            " \t5) Magnesium\n",
            "\n",
            "\t6) Total phenols\n",
            "\n",
            " \t7) Flavanoids\n",
            "\n",
            " \t8) Nonflavanoid phenols\n",
            "\n",
            " \t9) Proanthocyanins\n",
            "\n",
            "\t10)Color intensity\n",
            "\n",
            " \t11)Hue\n",
            "\n",
            " \t12)OD280/OD315 of diluted wines\n",
            "\n",
            " \t13)Proline            \n",
            "\n",
            "\n",
            "\n",
            "5. Number of Instances\n",
            "\n",
            "\n",
            "\n",
            "      \tclass 1 59\n",
            "\n",
            "\tclass 2 71\n",
            "\n",
            "\tclass 3 48\n",
            "\n",
            "\n",
            "\n",
            "6. Number of Attributes \n",
            "\n",
            "\t\n",
            "\n",
            "\t13\n",
            "\n",
            "\n",
            "\n",
            "7. For Each Attribute:\n",
            "\n",
            "\n",
            "\n",
            "\tAll attributes are continuous\n",
            "\n",
            "\t\n",
            "\n",
            "\tNo statistics available, but suggest to standardise\n",
            "\n",
            "\tvariables for certain uses (e.g. for us with classifiers\n",
            "\n",
            "\twhich are NOT scale invariant)\n",
            "\n",
            "\n",
            "\n",
            "\tNOTE: 1st attribute is class identifier (1-3)\n",
            "\n",
            "\n",
            "\n",
            "8. Missing Attribute Values:\n",
            "\n",
            "\n",
            "\n",
            "\tNone\n",
            "\n",
            "\n",
            "\n",
            "9. Class Distribution: number of instances per class\n",
            "\n",
            "\n",
            "\n",
            "      \tclass 1 59\n",
            "\n",
            "\tclass 2 71\n",
            "\n",
            "\tclass 3 48\n",
            "\n"
          ]
        }
      ]
    },
    {
      "cell_type": "code",
      "source": [
        "chosen_columns= ['Alcohol', 'Malic acid', 'Ash', 'Alcalinity of ash', 'Magnesium','Total phenols', 'Flavanoids', 'Nonflavanoid phenols', 'Proanthocyanins', 'Color intensity', 'Hue', 'OD280/OD315 of diluted wines', 'Proline']\n",
        "data = pd.read_csv(\"wine.data\")\n",
        "data = data.drop('1',axis = 1)  #первый столбец - Class, избавимся от него\n",
        "x = data.columns #в название столбцов съехали данные\n",
        "data.columns = [name for name in chosen_columns] #переобозначаем столбцы\n",
        "new_line = {}\n",
        "for count, key in enumerate(chosen_columns):\n",
        "  new_line[key] = float(x[count])\n",
        "data = data.append(new_line, ignore_index=True) #добавляем утерянные данные\n",
        "data"
      ],
      "metadata": {
        "colab": {
          "base_uri": "https://localhost:8080/",
          "height": 423
        },
        "id": "jXdMxKqIB2lZ",
        "outputId": "fd156cb9-b9e9-4dc8-ee0d-edd61bfacd99"
      },
      "execution_count": 149,
      "outputs": [
        {
          "output_type": "execute_result",
          "data": {
            "text/plain": [
              "     Alcohol  Malic acid   Ash  Alcalinity of ash  Magnesium  Total phenols  \\\n",
              "0      13.20        1.78  2.14               11.2      100.0           2.65   \n",
              "1      13.16        2.36  2.67               18.6      101.0           2.80   \n",
              "2      14.37        1.95  2.50               16.8      113.0           3.85   \n",
              "3      13.24        2.59  2.87               21.0      118.0           2.80   \n",
              "4      14.20        1.76  2.45               15.2      112.0           3.27   \n",
              "..       ...         ...   ...                ...        ...            ...   \n",
              "173    13.40        3.91  2.48               23.0      102.0           1.80   \n",
              "174    13.27        4.28  2.26               20.0      120.0           1.59   \n",
              "175    13.17        2.59  2.37               20.0      120.0           1.65   \n",
              "176    14.13        4.10  2.74               24.5       96.0           2.05   \n",
              "177    14.23        1.71  2.43               15.6      127.0           2.80   \n",
              "\n",
              "     Flavanoids  Nonflavanoid phenols  Proanthocyanins  Color intensity   Hue  \\\n",
              "0          2.76                  0.26             1.28             4.38  1.05   \n",
              "1          3.24                  0.30             2.81             5.68  1.03   \n",
              "2          3.49                  0.24             2.18             7.80  0.86   \n",
              "3          2.69                  0.39             1.82             4.32  1.04   \n",
              "4          3.39                  0.34             1.97             6.75  1.05   \n",
              "..          ...                   ...              ...              ...   ...   \n",
              "173        0.75                  0.43             1.41             7.30  0.70   \n",
              "174        0.69                  0.43             1.35            10.20  0.59   \n",
              "175        0.68                  0.53             1.46             9.30  0.60   \n",
              "176        0.76                  0.56             1.35             9.20  0.61   \n",
              "177        3.06                  0.28             2.29             5.64  1.04   \n",
              "\n",
              "     OD280/OD315 of diluted wines  Proline  \n",
              "0                            3.40   1050.0  \n",
              "1                            3.17   1185.0  \n",
              "2                            3.45   1480.0  \n",
              "3                            2.93    735.0  \n",
              "4                            2.85   1450.0  \n",
              "..                            ...      ...  \n",
              "173                          1.56    750.0  \n",
              "174                          1.56    835.0  \n",
              "175                          1.62    840.0  \n",
              "176                          1.60    560.0  \n",
              "177                          3.92   1065.0  \n",
              "\n",
              "[178 rows x 13 columns]"
            ],
            "text/html": [
              "\n",
              "  <div id=\"df-c1e6a759-31de-4bf9-8a91-20f81c504d9c\">\n",
              "    <div class=\"colab-df-container\">\n",
              "      <div>\n",
              "<style scoped>\n",
              "    .dataframe tbody tr th:only-of-type {\n",
              "        vertical-align: middle;\n",
              "    }\n",
              "\n",
              "    .dataframe tbody tr th {\n",
              "        vertical-align: top;\n",
              "    }\n",
              "\n",
              "    .dataframe thead th {\n",
              "        text-align: right;\n",
              "    }\n",
              "</style>\n",
              "<table border=\"1\" class=\"dataframe\">\n",
              "  <thead>\n",
              "    <tr style=\"text-align: right;\">\n",
              "      <th></th>\n",
              "      <th>Alcohol</th>\n",
              "      <th>Malic acid</th>\n",
              "      <th>Ash</th>\n",
              "      <th>Alcalinity of ash</th>\n",
              "      <th>Magnesium</th>\n",
              "      <th>Total phenols</th>\n",
              "      <th>Flavanoids</th>\n",
              "      <th>Nonflavanoid phenols</th>\n",
              "      <th>Proanthocyanins</th>\n",
              "      <th>Color intensity</th>\n",
              "      <th>Hue</th>\n",
              "      <th>OD280/OD315 of diluted wines</th>\n",
              "      <th>Proline</th>\n",
              "    </tr>\n",
              "  </thead>\n",
              "  <tbody>\n",
              "    <tr>\n",
              "      <th>0</th>\n",
              "      <td>13.20</td>\n",
              "      <td>1.78</td>\n",
              "      <td>2.14</td>\n",
              "      <td>11.2</td>\n",
              "      <td>100.0</td>\n",
              "      <td>2.65</td>\n",
              "      <td>2.76</td>\n",
              "      <td>0.26</td>\n",
              "      <td>1.28</td>\n",
              "      <td>4.38</td>\n",
              "      <td>1.05</td>\n",
              "      <td>3.40</td>\n",
              "      <td>1050.0</td>\n",
              "    </tr>\n",
              "    <tr>\n",
              "      <th>1</th>\n",
              "      <td>13.16</td>\n",
              "      <td>2.36</td>\n",
              "      <td>2.67</td>\n",
              "      <td>18.6</td>\n",
              "      <td>101.0</td>\n",
              "      <td>2.80</td>\n",
              "      <td>3.24</td>\n",
              "      <td>0.30</td>\n",
              "      <td>2.81</td>\n",
              "      <td>5.68</td>\n",
              "      <td>1.03</td>\n",
              "      <td>3.17</td>\n",
              "      <td>1185.0</td>\n",
              "    </tr>\n",
              "    <tr>\n",
              "      <th>2</th>\n",
              "      <td>14.37</td>\n",
              "      <td>1.95</td>\n",
              "      <td>2.50</td>\n",
              "      <td>16.8</td>\n",
              "      <td>113.0</td>\n",
              "      <td>3.85</td>\n",
              "      <td>3.49</td>\n",
              "      <td>0.24</td>\n",
              "      <td>2.18</td>\n",
              "      <td>7.80</td>\n",
              "      <td>0.86</td>\n",
              "      <td>3.45</td>\n",
              "      <td>1480.0</td>\n",
              "    </tr>\n",
              "    <tr>\n",
              "      <th>3</th>\n",
              "      <td>13.24</td>\n",
              "      <td>2.59</td>\n",
              "      <td>2.87</td>\n",
              "      <td>21.0</td>\n",
              "      <td>118.0</td>\n",
              "      <td>2.80</td>\n",
              "      <td>2.69</td>\n",
              "      <td>0.39</td>\n",
              "      <td>1.82</td>\n",
              "      <td>4.32</td>\n",
              "      <td>1.04</td>\n",
              "      <td>2.93</td>\n",
              "      <td>735.0</td>\n",
              "    </tr>\n",
              "    <tr>\n",
              "      <th>4</th>\n",
              "      <td>14.20</td>\n",
              "      <td>1.76</td>\n",
              "      <td>2.45</td>\n",
              "      <td>15.2</td>\n",
              "      <td>112.0</td>\n",
              "      <td>3.27</td>\n",
              "      <td>3.39</td>\n",
              "      <td>0.34</td>\n",
              "      <td>1.97</td>\n",
              "      <td>6.75</td>\n",
              "      <td>1.05</td>\n",
              "      <td>2.85</td>\n",
              "      <td>1450.0</td>\n",
              "    </tr>\n",
              "    <tr>\n",
              "      <th>...</th>\n",
              "      <td>...</td>\n",
              "      <td>...</td>\n",
              "      <td>...</td>\n",
              "      <td>...</td>\n",
              "      <td>...</td>\n",
              "      <td>...</td>\n",
              "      <td>...</td>\n",
              "      <td>...</td>\n",
              "      <td>...</td>\n",
              "      <td>...</td>\n",
              "      <td>...</td>\n",
              "      <td>...</td>\n",
              "      <td>...</td>\n",
              "    </tr>\n",
              "    <tr>\n",
              "      <th>173</th>\n",
              "      <td>13.40</td>\n",
              "      <td>3.91</td>\n",
              "      <td>2.48</td>\n",
              "      <td>23.0</td>\n",
              "      <td>102.0</td>\n",
              "      <td>1.80</td>\n",
              "      <td>0.75</td>\n",
              "      <td>0.43</td>\n",
              "      <td>1.41</td>\n",
              "      <td>7.30</td>\n",
              "      <td>0.70</td>\n",
              "      <td>1.56</td>\n",
              "      <td>750.0</td>\n",
              "    </tr>\n",
              "    <tr>\n",
              "      <th>174</th>\n",
              "      <td>13.27</td>\n",
              "      <td>4.28</td>\n",
              "      <td>2.26</td>\n",
              "      <td>20.0</td>\n",
              "      <td>120.0</td>\n",
              "      <td>1.59</td>\n",
              "      <td>0.69</td>\n",
              "      <td>0.43</td>\n",
              "      <td>1.35</td>\n",
              "      <td>10.20</td>\n",
              "      <td>0.59</td>\n",
              "      <td>1.56</td>\n",
              "      <td>835.0</td>\n",
              "    </tr>\n",
              "    <tr>\n",
              "      <th>175</th>\n",
              "      <td>13.17</td>\n",
              "      <td>2.59</td>\n",
              "      <td>2.37</td>\n",
              "      <td>20.0</td>\n",
              "      <td>120.0</td>\n",
              "      <td>1.65</td>\n",
              "      <td>0.68</td>\n",
              "      <td>0.53</td>\n",
              "      <td>1.46</td>\n",
              "      <td>9.30</td>\n",
              "      <td>0.60</td>\n",
              "      <td>1.62</td>\n",
              "      <td>840.0</td>\n",
              "    </tr>\n",
              "    <tr>\n",
              "      <th>176</th>\n",
              "      <td>14.13</td>\n",
              "      <td>4.10</td>\n",
              "      <td>2.74</td>\n",
              "      <td>24.5</td>\n",
              "      <td>96.0</td>\n",
              "      <td>2.05</td>\n",
              "      <td>0.76</td>\n",
              "      <td>0.56</td>\n",
              "      <td>1.35</td>\n",
              "      <td>9.20</td>\n",
              "      <td>0.61</td>\n",
              "      <td>1.60</td>\n",
              "      <td>560.0</td>\n",
              "    </tr>\n",
              "    <tr>\n",
              "      <th>177</th>\n",
              "      <td>14.23</td>\n",
              "      <td>1.71</td>\n",
              "      <td>2.43</td>\n",
              "      <td>15.6</td>\n",
              "      <td>127.0</td>\n",
              "      <td>2.80</td>\n",
              "      <td>3.06</td>\n",
              "      <td>0.28</td>\n",
              "      <td>2.29</td>\n",
              "      <td>5.64</td>\n",
              "      <td>1.04</td>\n",
              "      <td>3.92</td>\n",
              "      <td>1065.0</td>\n",
              "    </tr>\n",
              "  </tbody>\n",
              "</table>\n",
              "<p>178 rows × 13 columns</p>\n",
              "</div>\n",
              "      <button class=\"colab-df-convert\" onclick=\"convertToInteractive('df-c1e6a759-31de-4bf9-8a91-20f81c504d9c')\"\n",
              "              title=\"Convert this dataframe to an interactive table.\"\n",
              "              style=\"display:none;\">\n",
              "        \n",
              "  <svg xmlns=\"http://www.w3.org/2000/svg\" height=\"24px\"viewBox=\"0 0 24 24\"\n",
              "       width=\"24px\">\n",
              "    <path d=\"M0 0h24v24H0V0z\" fill=\"none\"/>\n",
              "    <path d=\"M18.56 5.44l.94 2.06.94-2.06 2.06-.94-2.06-.94-.94-2.06-.94 2.06-2.06.94zm-11 1L8.5 8.5l.94-2.06 2.06-.94-2.06-.94L8.5 2.5l-.94 2.06-2.06.94zm10 10l.94 2.06.94-2.06 2.06-.94-2.06-.94-.94-2.06-.94 2.06-2.06.94z\"/><path d=\"M17.41 7.96l-1.37-1.37c-.4-.4-.92-.59-1.43-.59-.52 0-1.04.2-1.43.59L10.3 9.45l-7.72 7.72c-.78.78-.78 2.05 0 2.83L4 21.41c.39.39.9.59 1.41.59.51 0 1.02-.2 1.41-.59l7.78-7.78 2.81-2.81c.8-.78.8-2.07 0-2.86zM5.41 20L4 18.59l7.72-7.72 1.47 1.35L5.41 20z\"/>\n",
              "  </svg>\n",
              "      </button>\n",
              "      \n",
              "  <style>\n",
              "    .colab-df-container {\n",
              "      display:flex;\n",
              "      flex-wrap:wrap;\n",
              "      gap: 12px;\n",
              "    }\n",
              "\n",
              "    .colab-df-convert {\n",
              "      background-color: #E8F0FE;\n",
              "      border: none;\n",
              "      border-radius: 50%;\n",
              "      cursor: pointer;\n",
              "      display: none;\n",
              "      fill: #1967D2;\n",
              "      height: 32px;\n",
              "      padding: 0 0 0 0;\n",
              "      width: 32px;\n",
              "    }\n",
              "\n",
              "    .colab-df-convert:hover {\n",
              "      background-color: #E2EBFA;\n",
              "      box-shadow: 0px 1px 2px rgba(60, 64, 67, 0.3), 0px 1px 3px 1px rgba(60, 64, 67, 0.15);\n",
              "      fill: #174EA6;\n",
              "    }\n",
              "\n",
              "    [theme=dark] .colab-df-convert {\n",
              "      background-color: #3B4455;\n",
              "      fill: #D2E3FC;\n",
              "    }\n",
              "\n",
              "    [theme=dark] .colab-df-convert:hover {\n",
              "      background-color: #434B5C;\n",
              "      box-shadow: 0px 1px 3px 1px rgba(0, 0, 0, 0.15);\n",
              "      filter: drop-shadow(0px 1px 2px rgba(0, 0, 0, 0.3));\n",
              "      fill: #FFFFFF;\n",
              "    }\n",
              "  </style>\n",
              "\n",
              "      <script>\n",
              "        const buttonEl =\n",
              "          document.querySelector('#df-c1e6a759-31de-4bf9-8a91-20f81c504d9c button.colab-df-convert');\n",
              "        buttonEl.style.display =\n",
              "          google.colab.kernel.accessAllowed ? 'block' : 'none';\n",
              "\n",
              "        async function convertToInteractive(key) {\n",
              "          const element = document.querySelector('#df-c1e6a759-31de-4bf9-8a91-20f81c504d9c');\n",
              "          const dataTable =\n",
              "            await google.colab.kernel.invokeFunction('convertToInteractive',\n",
              "                                                     [key], {});\n",
              "          if (!dataTable) return;\n",
              "\n",
              "          const docLinkHtml = 'Like what you see? Visit the ' +\n",
              "            '<a target=\"_blank\" href=https://colab.research.google.com/notebooks/data_table.ipynb>data table notebook</a>'\n",
              "            + ' to learn more about interactive tables.';\n",
              "          element.innerHTML = '';\n",
              "          dataTable['output_type'] = 'display_data';\n",
              "          await google.colab.output.renderOutput(dataTable, element);\n",
              "          const docLink = document.createElement('div');\n",
              "          docLink.innerHTML = docLinkHtml;\n",
              "          element.appendChild(docLink);\n",
              "        }\n",
              "      </script>\n",
              "    </div>\n",
              "  </div>\n",
              "  "
            ]
          },
          "metadata": {},
          "execution_count": 149
        }
      ]
    },
    {
      "cell_type": "markdown",
      "metadata": {
        "id": "PgNRFWebHMfn"
      },
      "source": [
        "Для каждого из признаков нарисуйте Q-Q plot. Для наглядности и экономии места рисуйте графики в несколько строк и столбцов, используя `plt.subplot`."
      ]
    },
    {
      "cell_type": "code",
      "execution_count": 117,
      "metadata": {
        "id": "GuBa6LsVHMfo",
        "colab": {
          "base_uri": "https://localhost:8080/",
          "height": 1000
        },
        "outputId": "8b079511-d19d-4298-b500-2bbcdc0a4952"
      },
      "outputs": [
        {
          "output_type": "display_data",
          "data": {
            "text/plain": [
              "<Figure size 1080x2160 with 13 Axes>"
            ],
            "image/png": "[encoded data removed]"
          },
          "metadata": {
            "needs_background": "light"
          }
        }
      ],
      "source": [
        "plt.figure(figsize=(15,30))\n",
        "for count, column in enumerate(data.columns):\n",
        "  ax = plt.subplot(5, 3, count+1)\n",
        "  sps.probplot(data[column], plot=ax)\n",
        "  plt.title(column)\n"
      ]
    },
    {
      "cell_type": "markdown",
      "metadata": {
        "id": "SQQ9s_b7HMfo"
      },
      "source": [
        "Для каких признаков можно говорить об их нормальности и почему?"
      ]
    },
    {
      "cell_type": "markdown",
      "metadata": {
        "id": "ytOLbP_fHMfp"
      },
      "source": [
        "**Ответ:** \n",
        "\n",
        "**Признак тем нормальнее, чем ближе значения на Q-Q плоте к линии, причем отклонениями от прямой в начале и конце данных можно пренебречь. Будем говорить о нормальности признаков: Alcohol, Ash, Alcalinity of ash, Proanthocyanins, Hue.**"
      ]
    },
    {
      "cell_type": "markdown",
      "metadata": {
        "id": "TmJB_SpzHMfp"
      },
      "source": [
        "Проверьте нормальность каждого признака статистическими критериями. Прежде чем выполнить следующую часть задачи, ответьте на вопросы. \n",
        "\n",
        "Для каждого признака используйте несколько критериев проверки нормальности. Какие критерии вы будете использовать?"
      ]
    },
    {
      "cell_type": "markdown",
      "metadata": {
        "id": "rorbzZBJHMfq"
      },
      "source": [
        "**Ответ:** \n",
        "\n",
        "**В общем случае для нормального распределения можно использовать критерии: Шапиро-Уилка, Жарка-Бера, Лилиенфорса, Пирсона, Андерсона-Дарлинга.**\n",
        "\n",
        "**Воспользуемся критериями Шапиро-Уилка и Жарка-Бера: выше было показано, что они мощные и хорошо проверяют нормальность (критерием Андерсона - Дарлинга здесь пользоваться не буду, так как его результат неочевидно интерпретируется, а тут уже есть некоторый базовый анализ Q-Q)**\n"
      ]
    },
    {
      "cell_type": "markdown",
      "metadata": {
        "id": "TrOoP9YZHMfq"
      },
      "source": [
        "Результаты критериев нужно обработать с помощью *одной* процедуры множественной проверки гипотез для всех признаков и всех критериев сразу. Почему так нужно делать?"
      ]
    },
    {
      "cell_type": "markdown",
      "metadata": {
        "id": "KItv_fZKHMfr"
      },
      "source": [
        "**Ответ:** \n",
        "\n",
        "**Критерий согласия - реализация гипотезы о некотором распределении, при множественной проверке гипотез необходимо делать поправки на FDR, FWER. Так как признаки уже отсеяны, требуется сделать контроль только FWER.**\n",
        "\n",
        "**Одна процедура, потому что мы хотим получить вероятность групповой ошибки первого рода не более 0.05, то есть чтобы из всех признаков мы ошибочно признали не нормально распределенными не слишком много признаков.**"
      ]
    },
    {
      "cell_type": "markdown",
      "metadata": {
        "id": "o5J2-_ppHMfs"
      },
      "source": [
        "Какой метод для контроля FWER стоит применить и почему?"
      ]
    },
    {
      "cell_type": "markdown",
      "metadata": {
        "id": "gq_9sh4VHMfs"
      },
      "source": [
        "**Ответ:** \n",
        "\n",
        "**Выбранные признаки в принципе могут оказаться зависимыми(например Ash и Alcalinity of ash $⇒$ методом Шидака, Шидака-Холма пользоваться не надо), в таком случае самым мощным методом является метод Холма им и воспользуемся.**"
      ]
    },
    {
      "cell_type": "markdown",
      "metadata": {
        "id": "lB6Vjs4cHMfs"
      },
      "source": [
        "Как понять из результата процедуры множественной проверки гипотез, нормальность каких признаков следует отклонить?"
      ]
    },
    {
      "cell_type": "markdown",
      "metadata": {
        "id": "9iPLhk91HMft"
      },
      "source": [
        "**Ответ:** \n",
        "**У нас есть гипотеза $H_0$, что признаки имеют нормальное распределение, у соотвествующего критерия есть некоторый уровень значимости $\\alpha$, тогда сравнивая скорректированные p-value с ним можем сказать отвергаетcя гипотеза или нет.**"
      ]
    },
    {
      "cell_type": "markdown",
      "metadata": {
        "id": "BKNy6RPdHMft"
      },
      "source": [
        "Если нормальность не отклоняется, что можно сказать про выборку? Ответ находится в презентации с лекции."
      ]
    },
    {
      "cell_type": "markdown",
      "metadata": {
        "id": "rmZo6jzjHMfu"
      },
      "source": [
        "**Ответ:** \n",
        "\n",
        "**Если не нашли отклонений с гипотезой, то не принимаем гипотезу, а говорим, что выборка на данный момент согласуется с гипотезой. Либо мощности критериев не хватило чтобы найти отклонения от нормальности, как в случае критерия Лилиефорса и распределения Коши.**"
      ]
    },
    {
      "cell_type": "markdown",
      "metadata": {
        "id": "qTbCuFhTHMfu"
      },
      "source": [
        "Реализуйте данную схему. Предварительно соберите p-value всех критериев в таблицу. \n",
        "\n",
        "Функция `multipletests` принимает только одномерные массивы, поэтому для полученной `numpy`-таблицы нужно воспользоваться методом `ravel`. Результаты соберите обратно в таблицу с помощью метода `reshape`, которому необходимо передать размерности таблицы. Для наглядности сделайте таблицу с помощью `pandas.DataFrame`. В качестве названий строк используйте названия признаков, а названий столбцов — используемые критерии. В таблице должны присутстововать как значения p-value, так и результат проверки (`True` в случае отвержения)."
      ]
    },
    {
      "cell_type": "code",
      "source": [
        "criterion = pd.DataFrame({'Признаки': chosen_columns})\n",
        "criterion['Жарка-Бера'] = [sps.jarque_bera(data[feature])[1] for feature in criterion['Признаки']]\n",
        "criterion['Шапиро-Уилка'] = [sps.shapiro(data[feature])[1] for feature in criterion['Признаки']]\n",
        "\n",
        "res = multipletests(np.ravel([np.array(criterion['Жарка-Бера']), np.array(criterion['Шапиро-Уилка'])]), method = 'holm')\n",
        "res = res[0].reshape((2,13))\n",
        "criterion['FWER Жарка-Бера'], criterion['FWER Шапиро-Уилка'] = res[0], res[1]\n",
        "criterion"
      ],
      "metadata": {
        "colab": {
          "base_uri": "https://localhost:8080/",
          "height": 457
        },
        "id": "L3bJwT1rcSo7",
        "outputId": "9cde1fde-0b5d-4c08-977f-42693afc3b30"
      },
      "execution_count": 148,
      "outputs": [
        {
          "output_type": "execute_result",
          "data": {
            "text/plain": [
              "                        Признаки    Жарка-Бера  Шапиро-Уилка  FWER Жарка-Бера  \\\n",
              "0                        Alcohol  6.106775e-02  2.005172e-02            False   \n",
              "1                     Malic acid  1.115426e-07  2.945930e-10             True   \n",
              "2                            Ash  8.485917e-03  3.868526e-02            False   \n",
              "3              Alcalinity of ash  2.509338e-01  2.638694e-01            False   \n",
              "4                      Magnesium  6.883383e-15  6.345416e-07             True   \n",
              "5                  Total phenols  6.312188e-02  4.395752e-03            False   \n",
              "6                     Flavanoids  5.273120e-02  1.679064e-05            False   \n",
              "7           Nonflavanoid phenols  1.071359e-02  1.055266e-04            False   \n",
              "8                Proanthocyanins  7.840977e-03  1.445338e-02            False   \n",
              "9                Color intensity  1.092262e-05  9.229477e-07             True   \n",
              "10                           Hue  6.012442e-01  1.742566e-02            False   \n",
              "11  OD280/OD315 of diluted wines  3.087748e-03  2.316050e-06             True   \n",
              "12                       Proline  1.393770e-04  1.741221e-07             True   \n",
              "\n",
              "    FWER Шапиро-Уилка  \n",
              "0               False  \n",
              "1                True  \n",
              "2               False  \n",
              "3               False  \n",
              "4                True  \n",
              "5               False  \n",
              "6                True  \n",
              "7                True  \n",
              "8               False  \n",
              "9                True  \n",
              "10              False  \n",
              "11               True  \n",
              "12               True  "
            ],
            "text/html": [
              "\n",
              "  <div id=\"df-4b604f75-1107-4d66-a1bf-1ccf5974b658\">\n",
              "    <div class=\"colab-df-container\">\n",
              "      <div>\n",
              "<style scoped>\n",
              "    .dataframe tbody tr th:only-of-type {\n",
              "        vertical-align: middle;\n",
              "    }\n",
              "\n",
              "    .dataframe tbody tr th {\n",
              "        vertical-align: top;\n",
              "    }\n",
              "\n",
              "    .dataframe thead th {\n",
              "        text-align: right;\n",
              "    }\n",
              "</style>\n",
              "<table border=\"1\" class=\"dataframe\">\n",
              "  <thead>\n",
              "    <tr style=\"text-align: right;\">\n",
              "      <th></th>\n",
              "      <th>Признаки</th>\n",
              "      <th>Жарка-Бера</th>\n",
              "      <th>Шапиро-Уилка</th>\n",
              "      <th>FWER Жарка-Бера</th>\n",
              "      <th>FWER Шапиро-Уилка</th>\n",
              "    </tr>\n",
              "  </thead>\n",
              "  <tbody>\n",
              "    <tr>\n",
              "      <th>0</th>\n",
              "      <td>Alcohol</td>\n",
              "      <td>6.106775e-02</td>\n",
              "      <td>2.005172e-02</td>\n",
              "      <td>False</td>\n",
              "      <td>False</td>\n",
              "    </tr>\n",
              "    <tr>\n",
              "      <th>1</th>\n",
              "      <td>Malic acid</td>\n",
              "      <td>1.115426e-07</td>\n",
              "      <td>2.945930e-10</td>\n",
              "      <td>True</td>\n",
              "      <td>True</td>\n",
              "    </tr>\n",
              "    <tr>\n",
              "      <th>2</th>\n",
              "      <td>Ash</td>\n",
              "      <td>8.485917e-03</td>\n",
              "      <td>3.868526e-02</td>\n",
              "      <td>False</td>\n",
              "      <td>False</td>\n",
              "    </tr>\n",
              "    <tr>\n",
              "      <th>3</th>\n",
              "      <td>Alcalinity of ash</td>\n",
              "      <td>2.509338e-01</td>\n",
              "      <td>2.638694e-01</td>\n",
              "      <td>False</td>\n",
              "      <td>False</td>\n",
              "    </tr>\n",
              "    <tr>\n",
              "      <th>4</th>\n",
              "      <td>Magnesium</td>\n",
              "      <td>6.883383e-15</td>\n",
              "      <td>6.345416e-07</td>\n",
              "      <td>True</td>\n",
              "      <td>True</td>\n",
              "    </tr>\n",
              "    <tr>\n",
              "      <th>5</th>\n",
              "      <td>Total phenols</td>\n",
              "      <td>6.312188e-02</td>\n",
              "      <td>4.395752e-03</td>\n",
              "      <td>False</td>\n",
              "      <td>False</td>\n",
              "    </tr>\n",
              "    <tr>\n",
              "      <th>6</th>\n",
              "      <td>Flavanoids</td>\n",
              "      <td>5.273120e-02</td>\n",
              "      <td>1.679064e-05</td>\n",
              "      <td>False</td>\n",
              "      <td>True</td>\n",
              "    </tr>\n",
              "    <tr>\n",
              "      <th>7</th>\n",
              "      <td>Nonflavanoid phenols</td>\n",
              "      <td>1.071359e-02</td>\n",
              "      <td>1.055266e-04</td>\n",
              "      <td>False</td>\n",
              "      <td>True</td>\n",
              "    </tr>\n",
              "    <tr>\n",
              "      <th>8</th>\n",
              "      <td>Proanthocyanins</td>\n",
              "      <td>7.840977e-03</td>\n",
              "      <td>1.445338e-02</td>\n",
              "      <td>False</td>\n",
              "      <td>False</td>\n",
              "    </tr>\n",
              "    <tr>\n",
              "      <th>9</th>\n",
              "      <td>Color intensity</td>\n",
              "      <td>1.092262e-05</td>\n",
              "      <td>9.229477e-07</td>\n",
              "      <td>True</td>\n",
              "      <td>True</td>\n",
              "    </tr>\n",
              "    <tr>\n",
              "      <th>10</th>\n",
              "      <td>Hue</td>\n",
              "      <td>6.012442e-01</td>\n",
              "      <td>1.742566e-02</td>\n",
              "      <td>False</td>\n",
              "      <td>False</td>\n",
              "    </tr>\n",
              "    <tr>\n",
              "      <th>11</th>\n",
              "      <td>OD280/OD315 of diluted wines</td>\n",
              "      <td>3.087748e-03</td>\n",
              "      <td>2.316050e-06</td>\n",
              "      <td>True</td>\n",
              "      <td>True</td>\n",
              "    </tr>\n",
              "    <tr>\n",
              "      <th>12</th>\n",
              "      <td>Proline</td>\n",
              "      <td>1.393770e-04</td>\n",
              "      <td>1.741221e-07</td>\n",
              "      <td>True</td>\n",
              "      <td>True</td>\n",
              "    </tr>\n",
              "  </tbody>\n",
              "</table>\n",
              "</div>\n",
              "      <button class=\"colab-df-convert\" onclick=\"convertToInteractive('df-4b604f75-1107-4d66-a1bf-1ccf5974b658')\"\n",
              "              title=\"Convert this dataframe to an interactive table.\"\n",
              "              style=\"display:none;\">\n",
              "        \n",
              "  <svg xmlns=\"http://www.w3.org/2000/svg\" height=\"24px\"viewBox=\"0 0 24 24\"\n",
              "       width=\"24px\">\n",
              "    <path d=\"M0 0h24v24H0V0z\" fill=\"none\"/>\n",
              "    <path d=\"M18.56 5.44l.94 2.06.94-2.06 2.06-.94-2.06-.94-.94-2.06-.94 2.06-2.06.94zm-11 1L8.5 8.5l.94-2.06 2.06-.94-2.06-.94L8.5 2.5l-.94 2.06-2.06.94zm10 10l.94 2.06.94-2.06 2.06-.94-2.06-.94-.94-2.06-.94 2.06-2.06.94z\"/><path d=\"M17.41 7.96l-1.37-1.37c-.4-.4-.92-.59-1.43-.59-.52 0-1.04.2-1.43.59L10.3 9.45l-7.72 7.72c-.78.78-.78 2.05 0 2.83L4 21.41c.39.39.9.59 1.41.59.51 0 1.02-.2 1.41-.59l7.78-7.78 2.81-2.81c.8-.78.8-2.07 0-2.86zM5.41 20L4 18.59l7.72-7.72 1.47 1.35L5.41 20z\"/>\n",
              "  </svg>\n",
              "      </button>\n",
              "      \n",
              "  <style>\n",
              "    .colab-df-container {\n",
              "      display:flex;\n",
              "      flex-wrap:wrap;\n",
              "      gap: 12px;\n",
              "    }\n",
              "\n",
              "    .colab-df-convert {\n",
              "      background-color: #E8F0FE;\n",
              "      border: none;\n",
              "      border-radius: 50%;\n",
              "      cursor: pointer;\n",
              "      display: none;\n",
              "      fill: #1967D2;\n",
              "      height: 32px;\n",
              "      padding: 0 0 0 0;\n",
              "      width: 32px;\n",
              "    }\n",
              "\n",
              "    .colab-df-convert:hover {\n",
              "      background-color: #E2EBFA;\n",
              "      box-shadow: 0px 1px 2px rgba(60, 64, 67, 0.3), 0px 1px 3px 1px rgba(60, 64, 67, 0.15);\n",
              "      fill: #174EA6;\n",
              "    }\n",
              "\n",
              "    [theme=dark] .colab-df-convert {\n",
              "      background-color: #3B4455;\n",
              "      fill: #D2E3FC;\n",
              "    }\n",
              "\n",
              "    [theme=dark] .colab-df-convert:hover {\n",
              "      background-color: #434B5C;\n",
              "      box-shadow: 0px 1px 3px 1px rgba(0, 0, 0, 0.15);\n",
              "      filter: drop-shadow(0px 1px 2px rgba(0, 0, 0, 0.3));\n",
              "      fill: #FFFFFF;\n",
              "    }\n",
              "  </style>\n",
              "\n",
              "      <script>\n",
              "        const buttonEl =\n",
              "          document.querySelector('#df-4b604f75-1107-4d66-a1bf-1ccf5974b658 button.colab-df-convert');\n",
              "        buttonEl.style.display =\n",
              "          google.colab.kernel.accessAllowed ? 'block' : 'none';\n",
              "\n",
              "        async function convertToInteractive(key) {\n",
              "          const element = document.querySelector('#df-4b604f75-1107-4d66-a1bf-1ccf5974b658');\n",
              "          const dataTable =\n",
              "            await google.colab.kernel.invokeFunction('convertToInteractive',\n",
              "                                                     [key], {});\n",
              "          if (!dataTable) return;\n",
              "\n",
              "          const docLinkHtml = 'Like what you see? Visit the ' +\n",
              "            '<a target=\"_blank\" href=https://colab.research.google.com/notebooks/data_table.ipynb>data table notebook</a>'\n",
              "            + ' to learn more about interactive tables.';\n",
              "          element.innerHTML = '';\n",
              "          dataTable['output_type'] = 'display_data';\n",
              "          await google.colab.output.renderOutput(dataTable, element);\n",
              "          const docLink = document.createElement('div');\n",
              "          docLink.innerHTML = docLinkHtml;\n",
              "          element.appendChild(docLink);\n",
              "        }\n",
              "      </script>\n",
              "    </div>\n",
              "  </div>\n",
              "  "
            ]
          },
          "metadata": {},
          "execution_count": 148
        }
      ]
    },
    {
      "cell_type": "markdown",
      "metadata": {
        "id": "xwD3N4bhHMfv"
      },
      "source": [
        "Для каких признаков нормальность не отвергается?"
      ]
    },
    {
      "cell_type": "markdown",
      "metadata": {
        "id": "e0XjvlU4HMfw"
      },
      "source": [
        "**Ответ:** \n",
        "\n",
        "**В таблице True соответствует гипотезам, которые надо отвергнуть при заданном уровне $\\alpha = 0.05$. Не отвергаются: Alcohol, Ash, Alcality of ash, Total phenols, Proanthocyanins, Hue. В случае неоднозначных результатов, когда у признаков есть и True и False полагаемся на результат Шапиро-Уилка, как более мощного критерия.** "
      ]
    },
    {
      "cell_type": "markdown",
      "metadata": {
        "id": "6f9z2TcpHMfw"
      },
      "source": [
        "**Вывод:** \n",
        "\n",
        "**Визуальный анализ Q-Q плотов признаков дал основание предполагать, что только у пяти признаков распределение нормальное, при дальнейшей проверке эти гипотезы не отверглись. При этом изначально назвать распределение Total phenols нормальным было сложно, однако при численных проверках критериев удалось избежать потери информации по этому распределению.**\n",
        "\n",
        "**То есть действительно полагаться на Q-Q плот нельзя, использовать его надо только как оценочный вспомогательный метод.**\n",
        "\n",
        "**Также можно заметить, что до МПГ критерии этих признаков должны были отвергнуться: соответсвующие p-value < $\\alpha = 0.05$. Т.о. МПГ минимизировал возможность реализовать групповую ошибку первого рода.**"
      ]
    }
  ],
  "metadata": {
    "colab": {
      "collapsed_sections": [],
      "name": "task_6_Zakirova.ipynb",
      "provenance": []
    },
    "kernelspec": {
      "display_name": "Python 3",
      "name": "python3"
    },
    "language_info": {
      "name": "python"
    },
    "widgets": {
      "application/vnd.jupyter.widget-state+json": {
        "b2a83df35c2248b8ba4bd104787ef890": {
          "model_module": "@jupyter-widgets/controls",
          "model_name": "HBoxModel",
          "model_module_version": "1.5.0",
          "state": {
            "_dom_classes": [],
            "_model_module": "@jupyter-widgets/controls",
            "_model_module_version": "1.5.0",
            "_model_name": "HBoxModel",
            "_view_count": null,
            "_view_module": "@jupyter-widgets/controls",
            "_view_module_version": "1.5.0",
            "_view_name": "HBoxView",
            "box_style": "",
            "children": [
              "IPY_MODEL_f7ef63caa87242ab85d4a95fc9d7681e",
              "IPY_MODEL_da15277f568949c4904ea2c365bb15d9",
              "IPY_MODEL_67f5fee200f740959e49f0750d234df8"
            ],
            "layout": "IPY_MODEL_53c82c7c51634aab818ab3d9c3edec9b"
          }
        },
        "f7ef63caa87242ab85d4a95fc9d7681e": {
          "model_module": "@jupyter-widgets/controls",
          "model_name": "HTMLModel",
          "model_module_version": "1.5.0",
          "state": {
            "_dom_classes": [],
            "_model_module": "@jupyter-widgets/controls",
            "_model_module_version": "1.5.0",
            "_model_name": "HTMLModel",
            "_view_count": null,
            "_view_module": "@jupyter-widgets/controls",
            "_view_module_version": "1.5.0",
            "_view_name": "HTMLView",
            "description": "",
            "description_tooltip": null,
            "layout": "IPY_MODEL_4ff1eb24456942fd99ff8be51cf8b74a",
            "placeholder": "​",
            "style": "IPY_MODEL_bd067c5450514637b7b777ea4a448df3",
            "value": "100%"
          }
        },
        "da15277f568949c4904ea2c365bb15d9": {
          "model_module": "@jupyter-widgets/controls",
          "model_name": "FloatProgressModel",
          "model_module_version": "1.5.0",
          "state": {
            "_dom_classes": [],
            "_model_module": "@jupyter-widgets/controls",
            "_model_module_version": "1.5.0",
            "_model_name": "FloatProgressModel",
            "_view_count": null,
            "_view_module": "@jupyter-widgets/controls",
            "_view_module_version": "1.5.0",
            "_view_name": "ProgressView",
            "bar_style": "success",
            "description": "",
            "description_tooltip": null,
            "layout": "IPY_MODEL_d45da7d61a094a27a0431173fa5384f3",
            "max": 95,
            "min": 0,
            "orientation": "horizontal",
            "style": "IPY_MODEL_730a7374a13d48b998a2ce78d01e6a84",
            "value": 95
          }
        },
        "67f5fee200f740959e49f0750d234df8": {
          "model_module": "@jupyter-widgets/controls",
          "model_name": "HTMLModel",
          "model_module_version": "1.5.0",
          "state": {
            "_dom_classes": [],
            "_model_module": "@jupyter-widgets/controls",
            "_model_module_version": "1.5.0",
            "_model_name": "HTMLModel",
            "_view_count": null,
            "_view_module": "@jupyter-widgets/controls",
            "_view_module_version": "1.5.0",
            "_view_name": "HTMLView",
            "description": "",
            "description_tooltip": null,
            "layout": "IPY_MODEL_75f3b50be557424cba48caf0e065755e",
            "placeholder": "​",
            "style": "IPY_MODEL_fdbe6804fcba4f6184cb25698a8c3bdd",
            "value": " 95/95 [22:58&lt;00:00, 14.46s/it]"
          }
        },
        "53c82c7c51634aab818ab3d9c3edec9b": {
          "model_module": "@jupyter-widgets/base",
          "model_name": "LayoutModel",
          "model_module_version": "1.2.0",
          "state": {
            "_model_module": "@jupyter-widgets/base",
            "_model_module_version": "1.2.0",
            "_model_name": "LayoutModel",
            "_view_count": null,
            "_view_module": "@jupyter-widgets/base",
            "_view_module_version": "1.2.0",
            "_view_name": "LayoutView",
            "align_content": null,
            "align_items": null,
            "align_self": null,
            "border": null,
            "bottom": null,
            "display": null,
            "flex": null,
            "flex_flow": null,
            "grid_area": null,
            "grid_auto_columns": null,
            "grid_auto_flow": null,
            "grid_auto_rows": null,
            "grid_column": null,
            "grid_gap": null,
            "grid_row": null,
            "grid_template_areas": null,
            "grid_template_columns": null,
            "grid_template_rows": null,
            "height": null,
            "justify_content": null,
            "justify_items": null,
            "left": null,
            "margin": null,
            "max_height": null,
            "max_width": null,
            "min_height": null,
            "min_width": null,
            "object_fit": null,
            "object_position": null,
            "order": null,
            "overflow": null,
            "overflow_x": null,
            "overflow_y": null,
            "padding": null,
            "right": null,
            "top": null,
            "visibility": null,
            "width": null
          }
        },
        "4ff1eb24456942fd99ff8be51cf8b74a": {
          "model_module": "@jupyter-widgets/base",
          "model_name": "LayoutModel",
          "model_module_version": "1.2.0",
          "state": {
            "_model_module": "@jupyter-widgets/base",
            "_model_module_version": "1.2.0",
            "_model_name": "LayoutModel",
            "_view_count": null,
            "_view_module": "@jupyter-widgets/base",
            "_view_module_version": "1.2.0",
            "_view_name": "LayoutView",
            "align_content": null,
            "align_items": null,
            "align_self": null,
            "border": null,
            "bottom": null,
            "display": null,
            "flex": null,
            "flex_flow": null,
            "grid_area": null,
            "grid_auto_columns": null,
            "grid_auto_flow": null,
            "grid_auto_rows": null,
            "grid_column": null,
            "grid_gap": null,
            "grid_row": null,
            "grid_template_areas": null,
            "grid_template_columns": null,
            "grid_template_rows": null,
            "height": null,
            "justify_content": null,
            "justify_items": null,
            "left": null,
            "margin": null,
            "max_height": null,
            "max_width": null,
            "min_height": null,
            "min_width": null,
            "object_fit": null,
            "object_position": null,
            "order": null,
            "overflow": null,
            "overflow_x": null,
            "overflow_y": null,
            "padding": null,
            "right": null,
            "top": null,
            "visibility": null,
            "width": null
          }
        },
        "bd067c5450514637b7b777ea4a448df3": {
          "model_module": "@jupyter-widgets/controls",
          "model_name": "DescriptionStyleModel",
          "model_module_version": "1.5.0",
          "state": {
            "_model_module": "@jupyter-widgets/controls",
            "_model_module_version": "1.5.0",
            "_model_name": "DescriptionStyleModel",
            "_view_count": null,
            "_view_module": "@jupyter-widgets/base",
            "_view_module_version": "1.2.0",
            "_view_name": "StyleView",
            "description_width": ""
          }
        },
        "d45da7d61a094a27a0431173fa5384f3": {
          "model_module": "@jupyter-widgets/base",
          "model_name": "LayoutModel",
          "model_module_version": "1.2.0",
          "state": {
            "_model_module": "@jupyter-widgets/base",
            "_model_module_version": "1.2.0",
            "_model_name": "LayoutModel",
            "_view_count": null,
            "_view_module": "@jupyter-widgets/base",
            "_view_module_version": "1.2.0",
            "_view_name": "LayoutView",
            "align_content": null,
            "align_items": null,
            "align_self": null,
            "border": null,
            "bottom": null,
            "display": null,
            "flex": null,
            "flex_flow": null,
            "grid_area": null,
            "grid_auto_columns": null,
            "grid_auto_flow": null,
            "grid_auto_rows": null,
            "grid_column": null,
            "grid_gap": null,
            "grid_row": null,
            "grid_template_areas": null,
            "grid_template_columns": null,
            "grid_template_rows": null,
            "height": null,
            "justify_content": null,
            "justify_items": null,
            "left": null,
            "margin": null,
            "max_height": null,
            "max_width": null,
            "min_height": null,
            "min_width": null,
            "object_fit": null,
            "object_position": null,
            "order": null,
            "overflow": null,
            "overflow_x": null,
            "overflow_y": null,
            "padding": null,
            "right": null,
            "top": null,
            "visibility": null,
            "width": null
          }
        },
        "730a7374a13d48b998a2ce78d01e6a84": {
          "model_module": "@jupyter-widgets/controls",
          "model_name": "ProgressStyleModel",
          "model_module_version": "1.5.0",
          "state": {
            "_model_module": "@jupyter-widgets/controls",
            "_model_module_version": "1.5.0",
            "_model_name": "ProgressStyleModel",
            "_view_count": null,
            "_view_module": "@jupyter-widgets/base",
            "_view_module_version": "1.2.0",
            "_view_name": "StyleView",
            "bar_color": null,
            "description_width": ""
          }
        },
        "75f3b50be557424cba48caf0e065755e": {
          "model_module": "@jupyter-widgets/base",
          "model_name": "LayoutModel",
          "model_module_version": "1.2.0",
          "state": {
            "_model_module": "@jupyter-widgets/base",
            "_model_module_version": "1.2.0",
            "_model_name": "LayoutModel",
            "_view_count": null,
            "_view_module": "@jupyter-widgets/base",
            "_view_module_version": "1.2.0",
            "_view_name": "LayoutView",
            "align_content": null,
            "align_items": null,
            "align_self": null,
            "border": null,
            "bottom": null,
            "display": null,
            "flex": null,
            "flex_flow": null,
            "grid_area": null,
            "grid_auto_columns": null,
            "grid_auto_flow": null,
            "grid_auto_rows": null,
            "grid_column": null,
            "grid_gap": null,
            "grid_row": null,
            "grid_template_areas": null,
            "grid_template_columns": null,
            "grid_template_rows": null,
            "height": null,
            "justify_content": null,
            "justify_items": null,
            "left": null,
            "margin": null,
            "max_height": null,
            "max_width": null,
            "min_height": null,
            "min_width": null,
            "object_fit": null,
            "object_position": null,
            "order": null,
            "overflow": null,
            "overflow_x": null,
            "overflow_y": null,
            "padding": null,
            "right": null,
            "top": null,
            "visibility": null,
            "width": null
          }
        },
        "fdbe6804fcba4f6184cb25698a8c3bdd": {
          "model_module": "@jupyter-widgets/controls",
          "model_name": "DescriptionStyleModel",
          "model_module_version": "1.5.0",
          "state": {
            "_model_module": "@jupyter-widgets/controls",
            "_model_module_version": "1.5.0",
            "_model_name": "DescriptionStyleModel",
            "_view_count": null,
            "_view_module": "@jupyter-widgets/base",
            "_view_module_version": "1.2.0",
            "_view_name": "StyleView",
            "description_width": ""
          }
        },
        "b5baa7bb626b497b8c177652b3258ace": {
          "model_module": "@jupyter-widgets/controls",
          "model_name": "HBoxModel",
          "model_module_version": "1.5.0",
          "state": {
            "_dom_classes": [],
            "_model_module": "@jupyter-widgets/controls",
            "_model_module_version": "1.5.0",
            "_model_name": "HBoxModel",
            "_view_count": null,
            "_view_module": "@jupyter-widgets/controls",
            "_view_module_version": "1.5.0",
            "_view_name": "HBoxView",
            "box_style": "",
            "children": [
              "IPY_MODEL_20bc8e0a76dc40308ae99ed5c96f54c5",
              "IPY_MODEL_a9ad54b11cb645ba9e6fa65993c3048e",
              "IPY_MODEL_f91d134cc7bd427086f0fc895d3376d5"
            ],
            "layout": "IPY_MODEL_946047dc4be44213a86bc9099b592168"
          }
        },
        "20bc8e0a76dc40308ae99ed5c96f54c5": {
          "model_module": "@jupyter-widgets/controls",
          "model_name": "HTMLModel",
          "model_module_version": "1.5.0",
          "state": {
            "_dom_classes": [],
            "_model_module": "@jupyter-widgets/controls",
            "_model_module_version": "1.5.0",
            "_model_name": "HTMLModel",
            "_view_count": null,
            "_view_module": "@jupyter-widgets/controls",
            "_view_module_version": "1.5.0",
            "_view_name": "HTMLView",
            "description": "",
            "description_tooltip": null,
            "layout": "IPY_MODEL_3296df340e2b4067be5ad680a24b1644",
            "placeholder": "​",
            "style": "IPY_MODEL_118ea2a4942f48dcb114a16bb39b7016",
            "value": "100%"
          }
        },
        "a9ad54b11cb645ba9e6fa65993c3048e": {
          "model_module": "@jupyter-widgets/controls",
          "model_name": "FloatProgressModel",
          "model_module_version": "1.5.0",
          "state": {
            "_dom_classes": [],
            "_model_module": "@jupyter-widgets/controls",
            "_model_module_version": "1.5.0",
            "_model_name": "FloatProgressModel",
            "_view_count": null,
            "_view_module": "@jupyter-widgets/controls",
            "_view_module_version": "1.5.0",
            "_view_name": "ProgressView",
            "bar_style": "success",
            "description": "",
            "description_tooltip": null,
            "layout": "IPY_MODEL_6d6fb3f1f03741cc88ab6cc18c2a0c5b",
            "max": 95,
            "min": 0,
            "orientation": "horizontal",
            "style": "IPY_MODEL_399d92f9680246f8b7612145660e18a9",
            "value": 95
          }
        },
        "f91d134cc7bd427086f0fc895d3376d5": {
          "model_module": "@jupyter-widgets/controls",
          "model_name": "HTMLModel",
          "model_module_version": "1.5.0",
          "state": {
            "_dom_classes": [],
            "_model_module": "@jupyter-widgets/controls",
            "_model_module_version": "1.5.0",
            "_model_name": "HTMLModel",
            "_view_count": null,
            "_view_module": "@jupyter-widgets/controls",
            "_view_module_version": "1.5.0",
            "_view_name": "HTMLView",
            "description": "",
            "description_tooltip": null,
            "layout": "IPY_MODEL_f3be80e16b2f4ca191ea18c0d71c71d3",
            "placeholder": "​",
            "style": "IPY_MODEL_ad14ad2ae24c418d96751fec20a04a7a",
            "value": " 95/95 [24:06&lt;00:00, 15.19s/it]"
          }
        },
        "946047dc4be44213a86bc9099b592168": {
          "model_module": "@jupyter-widgets/base",
          "model_name": "LayoutModel",
          "model_module_version": "1.2.0",
          "state": {
            "_model_module": "@jupyter-widgets/base",
            "_model_module_version": "1.2.0",
            "_model_name": "LayoutModel",
            "_view_count": null,
            "_view_module": "@jupyter-widgets/base",
            "_view_module_version": "1.2.0",
            "_view_name": "LayoutView",
            "align_content": null,
            "align_items": null,
            "align_self": null,
            "border": null,
            "bottom": null,
            "display": null,
            "flex": null,
            "flex_flow": null,
            "grid_area": null,
            "grid_auto_columns": null,
            "grid_auto_flow": null,
            "grid_auto_rows": null,
            "grid_column": null,
            "grid_gap": null,
            "grid_row": null,
            "grid_template_areas": null,
            "grid_template_columns": null,
            "grid_template_rows": null,
            "height": null,
            "justify_content": null,
            "justify_items": null,
            "left": null,
            "margin": null,
            "max_height": null,
            "max_width": null,
            "min_height": null,
            "min_width": null,
            "object_fit": null,
            "object_position": null,
            "order": null,
            "overflow": null,
            "overflow_x": null,
            "overflow_y": null,
            "padding": null,
            "right": null,
            "top": null,
            "visibility": null,
            "width": null
          }
        },
        "3296df340e2b4067be5ad680a24b1644": {
          "model_module": "@jupyter-widgets/base",
          "model_name": "LayoutModel",
          "model_module_version": "1.2.0",
          "state": {
            "_model_module": "@jupyter-widgets/base",
            "_model_module_version": "1.2.0",
            "_model_name": "LayoutModel",
            "_view_count": null,
            "_view_module": "@jupyter-widgets/base",
            "_view_module_version": "1.2.0",
            "_view_name": "LayoutView",
            "align_content": null,
            "align_items": null,
            "align_self": null,
            "border": null,
            "bottom": null,
            "display": null,
            "flex": null,
            "flex_flow": null,
            "grid_area": null,
            "grid_auto_columns": null,
            "grid_auto_flow": null,
            "grid_auto_rows": null,
            "grid_column": null,
            "grid_gap": null,
            "grid_row": null,
            "grid_template_areas": null,
            "grid_template_columns": null,
            "grid_template_rows": null,
            "height": null,
            "justify_content": null,
            "justify_items": null,
            "left": null,
            "margin": null,
            "max_height": null,
            "max_width": null,
            "min_height": null,
            "min_width": null,
            "object_fit": null,
            "object_position": null,
            "order": null,
            "overflow": null,
            "overflow_x": null,
            "overflow_y": null,
            "padding": null,
            "right": null,
            "top": null,
            "visibility": null,
            "width": null
          }
        },
        "118ea2a4942f48dcb114a16bb39b7016": {
          "model_module": "@jupyter-widgets/controls",
          "model_name": "DescriptionStyleModel",
          "model_module_version": "1.5.0",
          "state": {
            "_model_module": "@jupyter-widgets/controls",
            "_model_module_version": "1.5.0",
            "_model_name": "DescriptionStyleModel",
            "_view_count": null,
            "_view_module": "@jupyter-widgets/base",
            "_view_module_version": "1.2.0",
            "_view_name": "StyleView",
            "description_width": ""
          }
        },
        "6d6fb3f1f03741cc88ab6cc18c2a0c5b": {
          "model_module": "@jupyter-widgets/base",
          "model_name": "LayoutModel",
          "model_module_version": "1.2.0",
          "state": {
            "_model_module": "@jupyter-widgets/base",
            "_model_module_version": "1.2.0",
            "_model_name": "LayoutModel",
            "_view_count": null,
            "_view_module": "@jupyter-widgets/base",
            "_view_module_version": "1.2.0",
            "_view_name": "LayoutView",
            "align_content": null,
            "align_items": null,
            "align_self": null,
            "border": null,
            "bottom": null,
            "display": null,
            "flex": null,
            "flex_flow": null,
            "grid_area": null,
            "grid_auto_columns": null,
            "grid_auto_flow": null,
            "grid_auto_rows": null,
            "grid_column": null,
            "grid_gap": null,
            "grid_row": null,
            "grid_template_areas": null,
            "grid_template_columns": null,
            "grid_template_rows": null,
            "height": null,
            "justify_content": null,
            "justify_items": null,
            "left": null,
            "margin": null,
            "max_height": null,
            "max_width": null,
            "min_height": null,
            "min_width": null,
            "object_fit": null,
            "object_position": null,
            "order": null,
            "overflow": null,
            "overflow_x": null,
            "overflow_y": null,
            "padding": null,
            "right": null,
            "top": null,
            "visibility": null,
            "width": null
          }
        },
        "399d92f9680246f8b7612145660e18a9": {
          "model_module": "@jupyter-widgets/controls",
          "model_name": "ProgressStyleModel",
          "model_module_version": "1.5.0",
          "state": {
            "_model_module": "@jupyter-widgets/controls",
            "_model_module_version": "1.5.0",
            "_model_name": "ProgressStyleModel",
            "_view_count": null,
            "_view_module": "@jupyter-widgets/base",
            "_view_module_version": "1.2.0",
            "_view_name": "StyleView",
            "bar_color": null,
            "description_width": ""
          }
        },
        "f3be80e16b2f4ca191ea18c0d71c71d3": {
          "model_module": "@jupyter-widgets/base",
          "model_name": "LayoutModel",
          "model_module_version": "1.2.0",
          "state": {
            "_model_module": "@jupyter-widgets/base",
            "_model_module_version": "1.2.0",
            "_model_name": "LayoutModel",
            "_view_count": null,
            "_view_module": "@jupyter-widgets/base",
            "_view_module_version": "1.2.0",
            "_view_name": "LayoutView",
            "align_content": null,
            "align_items": null,
            "align_self": null,
            "border": null,
            "bottom": null,
            "display": null,
            "flex": null,
            "flex_flow": null,
            "grid_area": null,
            "grid_auto_columns": null,
            "grid_auto_flow": null,
            "grid_auto_rows": null,
            "grid_column": null,
            "grid_gap": null,
            "grid_row": null,
            "grid_template_areas": null,
            "grid_template_columns": null,
            "grid_template_rows": null,
            "height": null,
            "justify_content": null,
            "justify_items": null,
            "left": null,
            "margin": null,
            "max_height": null,
            "max_width": null,
            "min_height": null,
            "min_width": null,
            "object_fit": null,
            "object_position": null,
            "order": null,
            "overflow": null,
            "overflow_x": null,
            "overflow_y": null,
            "padding": null,
            "right": null,
            "top": null,
            "visibility": null,
            "width": null
          }
        },
        "ad14ad2ae24c418d96751fec20a04a7a": {
          "model_module": "@jupyter-widgets/controls",
          "model_name": "DescriptionStyleModel",
          "model_module_version": "1.5.0",
          "state": {
            "_model_module": "@jupyter-widgets/controls",
            "_model_module_version": "1.5.0",
            "_model_name": "DescriptionStyleModel",
            "_view_count": null,
            "_view_module": "@jupyter-widgets/base",
            "_view_module_version": "1.2.0",
            "_view_name": "StyleView",
            "description_width": ""
          }
        },
        "efc77873bd9a44a6951479de3c20bc15": {
          "model_module": "@jupyter-widgets/controls",
          "model_name": "HBoxModel",
          "model_module_version": "1.5.0",
          "state": {
            "_dom_classes": [],
            "_model_module": "@jupyter-widgets/controls",
            "_model_module_version": "1.5.0",
            "_model_name": "HBoxModel",
            "_view_count": null,
            "_view_module": "@jupyter-widgets/controls",
            "_view_module_version": "1.5.0",
            "_view_name": "HBoxView",
            "box_style": "",
            "children": [
              "IPY_MODEL_65d26dc5a5c644f09633f75aa8153ff5",
              "IPY_MODEL_9e33070ca1e44d5e9ca75920b99cee15",
              "IPY_MODEL_0ce81cd2e515498c88ba4604ef04be3b"
            ],
            "layout": "IPY_MODEL_f7b7e8873f62426c8c9cb37d54270b40"
          }
        },
        "65d26dc5a5c644f09633f75aa8153ff5": {
          "model_module": "@jupyter-widgets/controls",
          "model_name": "HTMLModel",
          "model_module_version": "1.5.0",
          "state": {
            "_dom_classes": [],
            "_model_module": "@jupyter-widgets/controls",
            "_model_module_version": "1.5.0",
            "_model_name": "HTMLModel",
            "_view_count": null,
            "_view_module": "@jupyter-widgets/controls",
            "_view_module_version": "1.5.0",
            "_view_name": "HTMLView",
            "description": "",
            "description_tooltip": null,
            "layout": "IPY_MODEL_f3f7ed777c5c473db27a0806d17070df",
            "placeholder": "​",
            "style": "IPY_MODEL_9fa8027f6d224d1d96451de4245a9516",
            "value": "100%"
          }
        },
        "9e33070ca1e44d5e9ca75920b99cee15": {
          "model_module": "@jupyter-widgets/controls",
          "model_name": "FloatProgressModel",
          "model_module_version": "1.5.0",
          "state": {
            "_dom_classes": [],
            "_model_module": "@jupyter-widgets/controls",
            "_model_module_version": "1.5.0",
            "_model_name": "FloatProgressModel",
            "_view_count": null,
            "_view_module": "@jupyter-widgets/controls",
            "_view_module_version": "1.5.0",
            "_view_name": "ProgressView",
            "bar_style": "success",
            "description": "",
            "description_tooltip": null,
            "layout": "IPY_MODEL_54ff5c44be424c90b9f3b1d16c83f36e",
            "max": 10,
            "min": 0,
            "orientation": "horizontal",
            "style": "IPY_MODEL_83aa206dcc054c6899574d2023094e55",
            "value": 10
          }
        },
        "0ce81cd2e515498c88ba4604ef04be3b": {
          "model_module": "@jupyter-widgets/controls",
          "model_name": "HTMLModel",
          "model_module_version": "1.5.0",
          "state": {
            "_dom_classes": [],
            "_model_module": "@jupyter-widgets/controls",
            "_model_module_version": "1.5.0",
            "_model_name": "HTMLModel",
            "_view_count": null,
            "_view_module": "@jupyter-widgets/controls",
            "_view_module_version": "1.5.0",
            "_view_name": "HTMLView",
            "description": "",
            "description_tooltip": null,
            "layout": "IPY_MODEL_388bec4a172f43b3980df0370311530b",
            "placeholder": "​",
            "style": "IPY_MODEL_2a5797d9835a47ea9dd90d84a8f0b0d7",
            "value": " 10/10 [02:21&lt;00:00, 14.01s/it]"
          }
        },
        "f7b7e8873f62426c8c9cb37d54270b40": {
          "model_module": "@jupyter-widgets/base",
          "model_name": "LayoutModel",
          "model_module_version": "1.2.0",
          "state": {
            "_model_module": "@jupyter-widgets/base",
            "_model_module_version": "1.2.0",
            "_model_name": "LayoutModel",
            "_view_count": null,
            "_view_module": "@jupyter-widgets/base",
            "_view_module_version": "1.2.0",
            "_view_name": "LayoutView",
            "align_content": null,
            "align_items": null,
            "align_self": null,
            "border": null,
            "bottom": null,
            "display": null,
            "flex": null,
            "flex_flow": null,
            "grid_area": null,
            "grid_auto_columns": null,
            "grid_auto_flow": null,
            "grid_auto_rows": null,
            "grid_column": null,
            "grid_gap": null,
            "grid_row": null,
            "grid_template_areas": null,
            "grid_template_columns": null,
            "grid_template_rows": null,
            "height": null,
            "justify_content": null,
            "justify_items": null,
            "left": null,
            "margin": null,
            "max_height": null,
            "max_width": null,
            "min_height": null,
            "min_width": null,
            "object_fit": null,
            "object_position": null,
            "order": null,
            "overflow": null,
            "overflow_x": null,
            "overflow_y": null,
            "padding": null,
            "right": null,
            "top": null,
            "visibility": null,
            "width": null
          }
        },
        "f3f7ed777c5c473db27a0806d17070df": {
          "model_module": "@jupyter-widgets/base",
          "model_name": "LayoutModel",
          "model_module_version": "1.2.0",
          "state": {
            "_model_module": "@jupyter-widgets/base",
            "_model_module_version": "1.2.0",
            "_model_name": "LayoutModel",
            "_view_count": null,
            "_view_module": "@jupyter-widgets/base",
            "_view_module_version": "1.2.0",
            "_view_name": "LayoutView",
            "align_content": null,
            "align_items": null,
            "align_self": null,
            "border": null,
            "bottom": null,
            "display": null,
            "flex": null,
            "flex_flow": null,
            "grid_area": null,
            "grid_auto_columns": null,
            "grid_auto_flow": null,
            "grid_auto_rows": null,
            "grid_column": null,
            "grid_gap": null,
            "grid_row": null,
            "grid_template_areas": null,
            "grid_template_columns": null,
            "grid_template_rows": null,
            "height": null,
            "justify_content": null,
            "justify_items": null,
            "left": null,
            "margin": null,
            "max_height": null,
            "max_width": null,
            "min_height": null,
            "min_width": null,
            "object_fit": null,
            "object_position": null,
            "order": null,
            "overflow": null,
            "overflow_x": null,
            "overflow_y": null,
            "padding": null,
            "right": null,
            "top": null,
            "visibility": null,
            "width": null
          }
        },
        "9fa8027f6d224d1d96451de4245a9516": {
          "model_module": "@jupyter-widgets/controls",
          "model_name": "DescriptionStyleModel",
          "model_module_version": "1.5.0",
          "state": {
            "_model_module": "@jupyter-widgets/controls",
            "_model_module_version": "1.5.0",
            "_model_name": "DescriptionStyleModel",
            "_view_count": null,
            "_view_module": "@jupyter-widgets/base",
            "_view_module_version": "1.2.0",
            "_view_name": "StyleView",
            "description_width": ""
          }
        },
        "54ff5c44be424c90b9f3b1d16c83f36e": {
          "model_module": "@jupyter-widgets/base",
          "model_name": "LayoutModel",
          "model_module_version": "1.2.0",
          "state": {
            "_model_module": "@jupyter-widgets/base",
            "_model_module_version": "1.2.0",
            "_model_name": "LayoutModel",
            "_view_count": null,
            "_view_module": "@jupyter-widgets/base",
            "_view_module_version": "1.2.0",
            "_view_name": "LayoutView",
            "align_content": null,
            "align_items": null,
            "align_self": null,
            "border": null,
            "bottom": null,
            "display": null,
            "flex": null,
            "flex_flow": null,
            "grid_area": null,
            "grid_auto_columns": null,
            "grid_auto_flow": null,
            "grid_auto_rows": null,
            "grid_column": null,
            "grid_gap": null,
            "grid_row": null,
            "grid_template_areas": null,
            "grid_template_columns": null,
            "grid_template_rows": null,
            "height": null,
            "justify_content": null,
            "justify_items": null,
            "left": null,
            "margin": null,
            "max_height": null,
            "max_width": null,
            "min_height": null,
            "min_width": null,
            "object_fit": null,
            "object_position": null,
            "order": null,
            "overflow": null,
            "overflow_x": null,
            "overflow_y": null,
            "padding": null,
            "right": null,
            "top": null,
            "visibility": null,
            "width": null
          }
        },
        "83aa206dcc054c6899574d2023094e55": {
          "model_module": "@jupyter-widgets/controls",
          "model_name": "ProgressStyleModel",
          "model_module_version": "1.5.0",
          "state": {
            "_model_module": "@jupyter-widgets/controls",
            "_model_module_version": "1.5.0",
            "_model_name": "ProgressStyleModel",
            "_view_count": null,
            "_view_module": "@jupyter-widgets/base",
            "_view_module_version": "1.2.0",
            "_view_name": "StyleView",
            "bar_color": null,
            "description_width": ""
          }
        },
        "388bec4a172f43b3980df0370311530b": {
          "model_module": "@jupyter-widgets/base",
          "model_name": "LayoutModel",
          "model_module_version": "1.2.0",
          "state": {
            "_model_module": "@jupyter-widgets/base",
            "_model_module_version": "1.2.0",
            "_model_name": "LayoutModel",
            "_view_count": null,
            "_view_module": "@jupyter-widgets/base",
            "_view_module_version": "1.2.0",
            "_view_name": "LayoutView",
            "align_content": null,
            "align_items": null,
            "align_self": null,
            "border": null,
            "bottom": null,
            "display": null,
            "flex": null,
            "flex_flow": null,
            "grid_area": null,
            "grid_auto_columns": null,
            "grid_auto_flow": null,
            "grid_auto_rows": null,
            "grid_column": null,
            "grid_gap": null,
            "grid_row": null,
            "grid_template_areas": null,
            "grid_template_columns": null,
            "grid_template_rows": null,
            "height": null,
            "justify_content": null,
            "justify_items": null,
            "left": null,
            "margin": null,
            "max_height": null,
            "max_width": null,
            "min_height": null,
            "min_width": null,
            "object_fit": null,
            "object_position": null,
            "order": null,
            "overflow": null,
            "overflow_x": null,
            "overflow_y": null,
            "padding": null,
            "right": null,
            "top": null,
            "visibility": null,
            "width": null
          }
        },
        "2a5797d9835a47ea9dd90d84a8f0b0d7": {
          "model_module": "@jupyter-widgets/controls",
          "model_name": "DescriptionStyleModel",
          "model_module_version": "1.5.0",
          "state": {
            "_model_module": "@jupyter-widgets/controls",
            "_model_module_version": "1.5.0",
            "_model_name": "DescriptionStyleModel",
            "_view_count": null,
            "_view_module": "@jupyter-widgets/base",
            "_view_module_version": "1.2.0",
            "_view_name": "StyleView",
            "description_width": ""
          }
        }
      }
    }
  },
  "nbformat": 4,
  "nbformat_minor": 0
}