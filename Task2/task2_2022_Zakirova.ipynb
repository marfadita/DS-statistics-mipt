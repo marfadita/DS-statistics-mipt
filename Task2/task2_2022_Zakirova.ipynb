{
  "nbformat": 4,
  "nbformat_minor": 0,
  "metadata": {
    "kernelspec": {
      "display_name": "Python 3",
      "language": "python",
      "name": "python3"
    },
    "language_info": {
      "codemirror_mode": {
        "name": "ipython",
        "version": 3
      },
      "file_extension": ".py",
      "mimetype": "text/x-python",
      "name": "python",
      "nbconvert_exporter": "python",
      "pygments_lexer": "ipython3",
      "version": "3.6.7"
    },
    "colab": {
      "name": "task2_2022.ipynb",
      "provenance": [],
      "collapsed_sections": []
    }
  },
  "cells": [
    {
      "cell_type": "markdown",
      "source": [
        "# <a href=\"https://mipt-stats.gitlab.io/courses/ad_mipt.html\">Phystech@DataScience</a>\n",
        "## Задание 2\n",
        "\n",
        "**Правила:**\n",
        "\n",
        "* Выполненную работу нужно отправить телеграм-боту.\n",
        "* Дедлайн **23 февраля в 15:00 (отбор)**. После дедлайна работы не принимаются кроме случаев наличия уважительной причины с подтверждающими документами.\n",
        "* Прислать нужно ноутбук в формате `ipynb` \n",
        "* Решения, размещенные на каких-либо интернет-ресурсах, не принимаются. Публикация решения может быть приравнена к предоставлении возможности списать.\n",
        "* Для выполнения задания используйте этот ноутбук в качествие основы, ничего не удаляя из него.\n",
        "\n",
        "-----"
      ],
      "metadata": {
        "id": "WsVUrFkls3iw"
      }
    },
    {
      "cell_type": "markdown",
      "source": [
        "**Работа Закировой Марфы, студентки третьего курса ФБМФ, Б06-907**"
      ],
      "metadata": {
        "id": "thd4cknmB2m-"
      }
    },
    {
      "cell_type": "code",
      "metadata": {
        "id": "y9F9cOSRkh3_"
      },
      "source": [
        "import numpy as np\n",
        "import pandas as pd\n",
        "from sklearn.datasets import load_diabetes\n",
        "from sklearn.model_selection import train_test_split\n",
        "from sklearn.linear_model import LinearRegression\n",
        "import matplotlib.pyplot as plt\n",
        "import seaborn as sns\n",
        "sns.set(font_scale=1.3)"
      ],
      "execution_count": 10,
      "outputs": []
    },
    {
      "cell_type": "markdown",
      "metadata": {
        "id": "9tUvzn2cj31C"
      },
      "source": [
        "Рассмотрим данные исследования 2004 года о зависимости риска развития диабета от пола, возраста, индекса массы тела, среднего кровяного давления и других показателей. \n",
        "\n",
        "Функция `sklearn.datasets.load_diabetes()` возвращает словарь. В поле `data` записана матрица регрессоров, в которой данные предварительно центрированы и нормированы. В поле `target` записана мера прогрессирования заболевания в течении года. В поле `DESCR` можно прочитать подробнее о данных."
      ]
    },
    {
      "cell_type": "markdown",
      "metadata": {
        "id": "w5gc2rJNj31I"
      },
      "source": [
        "### Загрузка данных"
      ]
    },
    {
      "cell_type": "code",
      "metadata": {
        "id": "b6QhMHdJk0ro"
      },
      "source": [
        "data = load_diabetes()"
      ],
      "execution_count": 11,
      "outputs": []
    },
    {
      "cell_type": "markdown",
      "metadata": {
        "id": "FuPQNa2qkyxi"
      },
      "source": [
        "Посмотрим на описание датасета."
      ]
    },
    {
      "cell_type": "code",
      "metadata": {
        "id": "tqFH1K8Jj31J",
        "colab": {
          "base_uri": "https://localhost:8080/"
        },
        "outputId": "d2a2d5ba-5c92-4981-8736-a59a37dfa14e"
      },
      "source": [
        "print(data['DESCR'])"
      ],
      "execution_count": 12,
      "outputs": [
        {
          "output_type": "stream",
          "name": "stdout",
          "text": [
            ".. _diabetes_dataset:\n",
            "\n",
            "Diabetes dataset\n",
            "----------------\n",
            "\n",
            "Ten baseline variables, age, sex, body mass index, average blood\n",
            "pressure, and six blood serum measurements were obtained for each of n =\n",
            "442 diabetes patients, as well as the response of interest, a\n",
            "quantitative measure of disease progression one year after baseline.\n",
            "\n",
            "**Data Set Characteristics:**\n",
            "\n",
            "  :Number of Instances: 442\n",
            "\n",
            "  :Number of Attributes: First 10 columns are numeric predictive values\n",
            "\n",
            "  :Target: Column 11 is a quantitative measure of disease progression one year after baseline\n",
            "\n",
            "  :Attribute Information:\n",
            "      - age     age in years\n",
            "      - sex\n",
            "      - bmi     body mass index\n",
            "      - bp      average blood pressure\n",
            "      - s1      tc, total serum cholesterol\n",
            "      - s2      ldl, low-density lipoproteins\n",
            "      - s3      hdl, high-density lipoproteins\n",
            "      - s4      tch, total cholesterol / HDL\n",
            "      - s5      ltg, possibly log of serum triglycerides level\n",
            "      - s6      glu, blood sugar level\n",
            "\n",
            "Note: Each of these 10 feature variables have been mean centered and scaled by the standard deviation times `n_samples` (i.e. the sum of squares of each column totals 1).\n",
            "\n",
            "Source URL:\n",
            "https://www4.stat.ncsu.edu/~boos/var.select/diabetes.html\n",
            "\n",
            "For more information see:\n",
            "Bradley Efron, Trevor Hastie, Iain Johnstone and Robert Tibshirani (2004) \"Least Angle Regression,\" Annals of Statistics (with discussion), 407-499.\n",
            "(https://web.stanford.edu/~hastie/Papers/LARS/LeastAngle_2002.pdf)\n"
          ]
        }
      ]
    },
    {
      "cell_type": "markdown",
      "metadata": {
        "id": "vkYw4mddj31K"
      },
      "source": [
        "Поле `data` содержит матрицу размера 442 $\\times$ 10, где 442 — количество пациентов, а 10 — количество признаков (возраст, пол, и т.д.). \n",
        "Строки матрицы соответствуют пациентам, столбцы — признакам."
      ]
    },
    {
      "cell_type": "code",
      "metadata": {
        "scrolled": true,
        "id": "_y9bUW6Pj31K",
        "colab": {
          "base_uri": "https://localhost:8080/"
        },
        "outputId": "efc98e5c-777c-4bec-a502-e84d7ce11b02"
      },
      "source": [
        "data['data'].shape"
      ],
      "execution_count": 13,
      "outputs": [
        {
          "output_type": "execute_result",
          "data": {
            "text/plain": [
              "(442, 10)"
            ]
          },
          "metadata": {},
          "execution_count": 13
        }
      ]
    },
    {
      "cell_type": "markdown",
      "metadata": {
        "id": "gs9ZtWmhj31K"
      },
      "source": [
        "Целевая переменная $-$ мера прогрессирования заболевания в течении года.\n"
      ]
    },
    {
      "cell_type": "code",
      "metadata": {
        "id": "UkcxB5GAj31L",
        "colab": {
          "base_uri": "https://localhost:8080/"
        },
        "outputId": "d2172753-08ba-41dc-9cb6-4f180314bd2a"
      },
      "source": [
        "data['target'].shape"
      ],
      "execution_count": 14,
      "outputs": [
        {
          "output_type": "execute_result",
          "data": {
            "text/plain": [
              "(442,)"
            ]
          },
          "metadata": {},
          "execution_count": 14
        }
      ]
    },
    {
      "cell_type": "markdown",
      "metadata": {
        "id": "XaklAuUDj31L"
      },
      "source": [
        "Создайте матрицу регрессоров $X$ и столбец наблюдений $y$."
      ]
    },
    {
      "cell_type": "code",
      "metadata": {
        "id": "klYxszn-j31L"
      },
      "source": [
        "X, y = <...>"
      ],
      "execution_count": null,
      "outputs": []
    },
    {
      "cell_type": "code",
      "source": [
        "X, y = data['data'].copy(), data['target'].copy()"
      ],
      "metadata": {
        "id": "Q5RapR4xFJ0i"
      },
      "execution_count": 27,
      "outputs": []
    },
    {
      "cell_type": "markdown",
      "metadata": {
        "id": "CZRXHc0-j31L"
      },
      "source": [
        "### Обучение моделей\n",
        "\n",
        "Разбейте данные случайно на две части — обучающую и тестовую в соотношении 80:20.\n",
        "\n",
        "Если что-то забыли или что-то не понятно, можно почитать справку:"
      ]
    },
    {
      "cell_type": "code",
      "metadata": {
        "id": "W480aZfXj31M"
      },
      "source": [
        "train_test_split?"
      ],
      "execution_count": 16,
      "outputs": []
    },
    {
      "cell_type": "code",
      "metadata": {
        "id": "BUf0Wl9uj31M"
      },
      "source": [
        "X_train, X_test, y_train, y_test = <...>\n",
        "\n",
        "print(X_train.shape, X_test.shape, y_train.shape, y_test.shape)"
      ],
      "execution_count": null,
      "outputs": []
    },
    {
      "cell_type": "code",
      "source": [
        "X_train, X_test, y_train, y_test = train_test_split(X, y, test_size=0.2)\n",
        "\n",
        "print(X_train.shape, X_test.shape, y_train.shape, y_test.shape)"
      ],
      "metadata": {
        "colab": {
          "base_uri": "https://localhost:8080/"
        },
        "id": "kpdkI9K7Ic6q",
        "outputId": "e76b15b9-516e-464d-fa47-7529861cdd32"
      },
      "execution_count": 17,
      "outputs": [
        {
          "output_type": "stream",
          "name": "stdout",
          "text": [
            "(353, 10) (89, 10) (353,) (89,)\n"
          ]
        }
      ]
    },
    {
      "cell_type": "markdown",
      "metadata": {
        "id": "L8f5Sw7Aj31M"
      },
      "source": [
        "Заведите модель линейной регрессии из `sklearn` и обучите ее по обучающей части данных."
      ]
    },
    {
      "cell_type": "code",
      "metadata": {
        "id": "vn0JJh6Tj31M"
      },
      "source": [
        "model = <...>\n",
        "<...>"
      ],
      "execution_count": null,
      "outputs": []
    },
    {
      "cell_type": "code",
      "source": [
        "from sklearn.linear_model import LinearRegression\n",
        "model = LinearRegression()\n",
        "model.fit(X_train, y_train)\n"
      ],
      "metadata": {
        "colab": {
          "base_uri": "https://localhost:8080/"
        },
        "id": "dO16TP6ELWXx",
        "outputId": "c5387f77-b49c-4ca9-d1a1-f6db355986d6"
      },
      "execution_count": 18,
      "outputs": [
        {
          "output_type": "execute_result",
          "data": {
            "text/plain": [
              "LinearRegression()"
            ]
          },
          "metadata": {},
          "execution_count": 18
        }
      ]
    },
    {
      "cell_type": "markdown",
      "metadata": {
        "id": "unlbAxTYj31N"
      },
      "source": [
        "Выведите кооэффициенты модели, включая свободный член."
      ]
    },
    {
      "cell_type": "code",
      "metadata": {
        "id": "_JP9ZiDpj31N",
        "colab": {
          "base_uri": "https://localhost:8080/"
        },
        "outputId": "812c78d6-6003-40b7-98d4-204e26b7c5a0"
      },
      "source": [
        "print(f\"Свободный член: {model.intercept_}\")\n",
        "print(f\"Коэффициент: {model.coef_}\")"
      ],
      "execution_count": 19,
      "outputs": [
        {
          "output_type": "stream",
          "name": "stdout",
          "text": [
            "Свободный член: 155.54980479186807\n",
            "Коэффициент: [  -25.56817905  -241.87663834   497.55776227   354.22941929\n",
            " -1000.4983576    563.75663564   204.64117537   311.03928608\n",
            "   776.18963273    89.87251412]\n"
          ]
        }
      ]
    },
    {
      "cell_type": "markdown",
      "metadata": {
        "id": "ZMj2MTgdj31N"
      },
      "source": [
        "Посчитайте предсказания построенной модели на тестовой выборке"
      ]
    },
    {
      "cell_type": "code",
      "metadata": {
        "id": "4WB74enfj31O"
      },
      "source": [
        "y_pred = model.predict(X_test)"
      ],
      "execution_count": 20,
      "outputs": []
    },
    {
      "cell_type": "markdown",
      "metadata": {
        "id": "wDTfApjPWPrr"
      },
      "source": [
        "Реализуйте метрики MSE, MAE, MAPE без использования `sklearn` и других готовых реализаций."
      ]
    },
    {
      "cell_type": "code",
      "metadata": {
        "id": "yAY5KO-jWU6S"
      },
      "source": [
        "def mean_squared_error(y_true, y_pred):\n",
        "    <...>\n",
        "\n",
        "def mean_absolute_error(y_true, y_pred):\n",
        "    <...>\n",
        "\n",
        "def mean_absolute_percentage_error(y_true, y_pred):\n",
        "    <...>"
      ],
      "execution_count": null,
      "outputs": []
    },
    {
      "cell_type": "code",
      "source": [
        "def mean_squared_error(y_true, y_pred):\n",
        "  return np.sum(np.power((y_true - y_pred),2))/(y_true.size)\n",
        "  #каждое значение полученного при разности массива возводим в квадрат и суммируем все значения\n",
        "\n",
        "def mean_absolute_error(y_true, y_pred):\n",
        "  return np.sum(np.abs(y_true - y_pred))/(y_true.size)\n",
        "\n",
        "def mean_absolute_percentage_error(y_true, y_pred):\n",
        "  return 100 * np.sum(np.abs((y_true - y_pred) / y_true))/(y_true.size)\n"
      ],
      "metadata": {
        "id": "Skjh3mk_N1vo"
      },
      "execution_count": 22,
      "outputs": []
    },
    {
      "cell_type": "markdown",
      "metadata": {
        "id": "VJfAkTn4j31O"
      },
      "source": [
        "Посчитайте MSE, MAE, MAPE на тестовой выборке и выведите с точностью до трех знаков после запятой."
      ]
    },
    {
      "cell_type": "code",
      "source": [
        "print(f\"MSE: {np.around(mean_squared_error(y_test,y_pred),3)}\")\n",
        "print(f\"MAE: {np.around(mean_absolute_error(y_test,y_pred),3)}\")\n",
        "print(f\"MAPE: {np.around(mean_absolute_percentage_error(y_test, y_pred),3)}%\")"
      ],
      "metadata": {
        "colab": {
          "base_uri": "https://localhost:8080/"
        },
        "id": "Jy9IAtr3Rt6y",
        "outputId": "e9cb6790-89f0-41a6-f9d0-9a5825305019"
      },
      "execution_count": 23,
      "outputs": [
        {
          "output_type": "stream",
          "name": "stdout",
          "text": [
            "MSE: 2882.619\n",
            "MAE: 43.123\n",
            "MAPE: 48.626%\n"
          ]
        }
      ]
    },
    {
      "cell_type": "markdown",
      "metadata": {
        "id": "-EeYuy9q6iFu"
      },
      "source": [
        "###Своя реализация модели"
      ]
    },
    {
      "cell_type": "markdown",
      "metadata": {
        "id": "MadkefHAolFy"
      },
      "source": [
        "Теперь реализуем линейную регрессию самостоятельно, используя формулы с лекции.\n",
        "Вам нужно только заполнить прочерки в методах `fit` и `predict`."
      ]
    },
    {
      "cell_type": "code",
      "metadata": {
        "id": "pYxZ7sIKokot"
      },
      "source": [
        "class MyLinearRegression:\n",
        "    \"\"\"\n",
        "    Класс, реализующий линейную регрессию c помощью МНК.\n",
        "    \"\"\"\n",
        "    \n",
        "    def __init__(self):\n",
        "        pass\n",
        "        \n",
        "    def fit(self, X, Y):\n",
        "        \"\"\"\n",
        "        Функция обучения модели. \n",
        "        \n",
        "        Предполагается модель Y = X * theta + epsilon. \n",
        "        где X --- регрессор (матрица размера n x d), \n",
        "        Y --- отклик (матрица размера n x 1),\n",
        "        epsilon-ы имеют нормальное распределение\n",
        "\n",
        "        Обратите внимание, здесь нет intercept_\n",
        "        \"\"\"\n",
        "        \n",
        "        self.n, self.d = <...>\n",
        "        \n",
        "        self.theta = <МНК-оценка>\n",
        "  \n",
        "        return self\n",
        "    \n",
        "        \n",
        "    def predict(self, X):\n",
        "        \"\"\"\n",
        "        Возвращает предсказание отклика на новых объектах X \n",
        "        и опционально доверительный/предсказательный интервал.\n",
        "        \n",
        "        X --- матрица объектов размера n x d\n",
        "                        \n",
        "        \"\"\"\n",
        "        \n",
        "        y_pred = <...>\n",
        "        return <...>"
      ],
      "execution_count": null,
      "outputs": []
    },
    {
      "cell_type": "markdown",
      "source": [
        "Заметим, что"
      ],
      "metadata": {
        "id": "21dtWthL1ZUU"
      }
    },
    {
      "cell_type": "code",
      "source": [
        "np.linalg.det(np.dot(np.transpose(X), X)) != 0 "
      ],
      "metadata": {
        "colab": {
          "base_uri": "https://localhost:8080/"
        },
        "id": "BUCJ1JNF1bYO",
        "outputId": "11e32f80-f543-4b52-e389-43ad43bfee07"
      },
      "execution_count": 29,
      "outputs": [
        {
          "output_type": "execute_result",
          "data": {
            "text/plain": [
              "False"
            ]
          },
          "metadata": {},
          "execution_count": 29
        }
      ]
    },
    {
      "cell_type": "markdown",
      "source": [
        "*Указанная матрица невырождена $\\Rightarrow$ справедлива теорема по которой найдем значение $\\widehat{\\theta}$:*\n",
        "\n",
        "$\\widehat{\\theta} = (X^T X)^{-1} X^T Y$"
      ],
      "metadata": {
        "id": "VDzWtja92EG1"
      }
    },
    {
      "cell_type": "markdown",
      "source": [
        ""
      ],
      "metadata": {
        "id": "TwSCRt6A2BlL"
      }
    },
    {
      "cell_type": "code",
      "source": [
        "class MyLinearRegression:\n",
        "    \"\"\"\n",
        "    Класс, реализующий линейную регрессию c помощью МНК.\n",
        "    \"\"\"\n",
        "    \n",
        "    def __init__(self):\n",
        "        pass\n",
        "        \n",
        "    def fit(self, X, Y):\n",
        "        \"\"\"\n",
        "        Функция обучения модели. \n",
        "        \n",
        "        Предполагается модель Y = X * theta + epsilon. \n",
        "        где X --- регрессор (матрица размера n x d), \n",
        "        Y --- отклик (матрица размера n x 1),\n",
        "        epsilon-ы имеют нормальное распределение\n",
        "\n",
        "        Обратите внимание, здесь нет intercept_\n",
        "        \"\"\"\n",
        "        \n",
        "        self.n, self.d = X.shape[0], X.shape[1]  # X --- матрица объектов размера n x d\n",
        "        theta_vspom = np.linalg.inv(np.dot(np.transpose(X), X))\n",
        "        theta_vspom = np.dot(theta_vspom, np.transpose(X))\n",
        "        self.theta = np.dot(theta_vspom, Y)\n",
        "  \n",
        "        return self\n",
        "    \n",
        "        \n",
        "    def predict(self, X):\n",
        "        \"\"\"\n",
        "        Возвращает предсказание отклика на новых объектах X \n",
        "        и опционально доверительный/предсказательный интервал.\n",
        "        \n",
        "        X --- матрица объектов размера n x d\n",
        "                        \n",
        "        \"\"\"\n",
        "        y_pred = np.dot(X, self.theta)\n",
        "        return y_pred"
      ],
      "metadata": {
        "id": "RHQVlH5MX-3A"
      },
      "execution_count": 81,
      "outputs": []
    },
    {
      "cell_type": "markdown",
      "metadata": {
        "id": "wpnJWn-gpzM7"
      },
      "source": [
        "Обучите вашу модель на данных о диабете с добавлением свободного члена.\n",
        "Распечатайте коэффициенты и сравните их с коэффициентами модели из `sklearn`."
      ]
    },
    {
      "cell_type": "markdown",
      "source": [
        "*Предсказание отклика на новом объекте x:*\n",
        "\n",
        "$\\widehat{Y} = X \\widehat{\\theta}$\n",
        "\n",
        "Положим $x_1 == 1 \\Rightarrow$ *регрессия со свободным членом $\\theta_1$*"
      ],
      "metadata": {
        "id": "1Jn-PPWEzh-_"
      }
    },
    {
      "cell_type": "code",
      "metadata": {
        "id": "atvrQ4N1pSdB",
        "colab": {
          "base_uri": "https://localhost:8080/",
          "height": 397
        },
        "outputId": "2f8c4a7b-3f90-465c-b18b-6ce392be7611"
      },
      "source": [
        "X_1_train = np.ones(X_train.shape[0])\n",
        "X_train_new = np.column_stack((X_1_train, X_train))\n",
        "\n",
        "my_model_svob = MyLinearRegression()\n",
        "my_model_svob.fit(X_train_new, y_train)\n",
        "\n",
        "print(f\"Свободный член из my_model: {my_model_svob.theta[0]}\")\n",
        "print(f\"Свободный член из sklearn: {model.intercept_}\")\n",
        "res_svob = pd.DataFrame({'Коэффициенты из my_model':my_model_svob.theta[1:] , 'Из sklearn': model.coef_})\n",
        "res_svob"
      ],
      "execution_count": 82,
      "outputs": [
        {
          "output_type": "stream",
          "name": "stdout",
          "text": [
            "Свободный член из my_model: 155.54980479186813\n",
            "Свободный член из sklearn: 155.54980479186807\n"
          ]
        },
        {
          "output_type": "execute_result",
          "data": {
            "text/html": [
              "\n",
              "  <div id=\"df-69621fd6-d9d0-439c-95f3-3d383db5b7f9\">\n",
              "    <div class=\"colab-df-container\">\n",
              "      <div>\n",
              "<style scoped>\n",
              "    .dataframe tbody tr th:only-of-type {\n",
              "        vertical-align: middle;\n",
              "    }\n",
              "\n",
              "    .dataframe tbody tr th {\n",
              "        vertical-align: top;\n",
              "    }\n",
              "\n",
              "    .dataframe thead th {\n",
              "        text-align: right;\n",
              "    }\n",
              "</style>\n",
              "<table border=\"1\" class=\"dataframe\">\n",
              "  <thead>\n",
              "    <tr style=\"text-align: right;\">\n",
              "      <th></th>\n",
              "      <th>Коэффициенты из my_model</th>\n",
              "      <th>Из sklearn</th>\n",
              "    </tr>\n",
              "  </thead>\n",
              "  <tbody>\n",
              "    <tr>\n",
              "      <th>0</th>\n",
              "      <td>-25.568179</td>\n",
              "      <td>-25.568179</td>\n",
              "    </tr>\n",
              "    <tr>\n",
              "      <th>1</th>\n",
              "      <td>-241.876638</td>\n",
              "      <td>-241.876638</td>\n",
              "    </tr>\n",
              "    <tr>\n",
              "      <th>2</th>\n",
              "      <td>497.557762</td>\n",
              "      <td>497.557762</td>\n",
              "    </tr>\n",
              "    <tr>\n",
              "      <th>3</th>\n",
              "      <td>354.229419</td>\n",
              "      <td>354.229419</td>\n",
              "    </tr>\n",
              "    <tr>\n",
              "      <th>4</th>\n",
              "      <td>-1000.498358</td>\n",
              "      <td>-1000.498358</td>\n",
              "    </tr>\n",
              "    <tr>\n",
              "      <th>5</th>\n",
              "      <td>563.756636</td>\n",
              "      <td>563.756636</td>\n",
              "    </tr>\n",
              "    <tr>\n",
              "      <th>6</th>\n",
              "      <td>204.641175</td>\n",
              "      <td>204.641175</td>\n",
              "    </tr>\n",
              "    <tr>\n",
              "      <th>7</th>\n",
              "      <td>311.039286</td>\n",
              "      <td>311.039286</td>\n",
              "    </tr>\n",
              "    <tr>\n",
              "      <th>8</th>\n",
              "      <td>776.189633</td>\n",
              "      <td>776.189633</td>\n",
              "    </tr>\n",
              "    <tr>\n",
              "      <th>9</th>\n",
              "      <td>89.872514</td>\n",
              "      <td>89.872514</td>\n",
              "    </tr>\n",
              "  </tbody>\n",
              "</table>\n",
              "</div>\n",
              "      <button class=\"colab-df-convert\" onclick=\"convertToInteractive('df-69621fd6-d9d0-439c-95f3-3d383db5b7f9')\"\n",
              "              title=\"Convert this dataframe to an interactive table.\"\n",
              "              style=\"display:none;\">\n",
              "        \n",
              "  <svg xmlns=\"http://www.w3.org/2000/svg\" height=\"24px\"viewBox=\"0 0 24 24\"\n",
              "       width=\"24px\">\n",
              "    <path d=\"M0 0h24v24H0V0z\" fill=\"none\"/>\n",
              "    <path d=\"M18.56 5.44l.94 2.06.94-2.06 2.06-.94-2.06-.94-.94-2.06-.94 2.06-2.06.94zm-11 1L8.5 8.5l.94-2.06 2.06-.94-2.06-.94L8.5 2.5l-.94 2.06-2.06.94zm10 10l.94 2.06.94-2.06 2.06-.94-2.06-.94-.94-2.06-.94 2.06-2.06.94z\"/><path d=\"M17.41 7.96l-1.37-1.37c-.4-.4-.92-.59-1.43-.59-.52 0-1.04.2-1.43.59L10.3 9.45l-7.72 7.72c-.78.78-.78 2.05 0 2.83L4 21.41c.39.39.9.59 1.41.59.51 0 1.02-.2 1.41-.59l7.78-7.78 2.81-2.81c.8-.78.8-2.07 0-2.86zM5.41 20L4 18.59l7.72-7.72 1.47 1.35L5.41 20z\"/>\n",
              "  </svg>\n",
              "      </button>\n",
              "      \n",
              "  <style>\n",
              "    .colab-df-container {\n",
              "      display:flex;\n",
              "      flex-wrap:wrap;\n",
              "      gap: 12px;\n",
              "    }\n",
              "\n",
              "    .colab-df-convert {\n",
              "      background-color: #E8F0FE;\n",
              "      border: none;\n",
              "      border-radius: 50%;\n",
              "      cursor: pointer;\n",
              "      display: none;\n",
              "      fill: #1967D2;\n",
              "      height: 32px;\n",
              "      padding: 0 0 0 0;\n",
              "      width: 32px;\n",
              "    }\n",
              "\n",
              "    .colab-df-convert:hover {\n",
              "      background-color: #E2EBFA;\n",
              "      box-shadow: 0px 1px 2px rgba(60, 64, 67, 0.3), 0px 1px 3px 1px rgba(60, 64, 67, 0.15);\n",
              "      fill: #174EA6;\n",
              "    }\n",
              "\n",
              "    [theme=dark] .colab-df-convert {\n",
              "      background-color: #3B4455;\n",
              "      fill: #D2E3FC;\n",
              "    }\n",
              "\n",
              "    [theme=dark] .colab-df-convert:hover {\n",
              "      background-color: #434B5C;\n",
              "      box-shadow: 0px 1px 3px 1px rgba(0, 0, 0, 0.15);\n",
              "      filter: drop-shadow(0px 1px 2px rgba(0, 0, 0, 0.3));\n",
              "      fill: #FFFFFF;\n",
              "    }\n",
              "  </style>\n",
              "\n",
              "      <script>\n",
              "        const buttonEl =\n",
              "          document.querySelector('#df-69621fd6-d9d0-439c-95f3-3d383db5b7f9 button.colab-df-convert');\n",
              "        buttonEl.style.display =\n",
              "          google.colab.kernel.accessAllowed ? 'block' : 'none';\n",
              "\n",
              "        async function convertToInteractive(key) {\n",
              "          const element = document.querySelector('#df-69621fd6-d9d0-439c-95f3-3d383db5b7f9');\n",
              "          const dataTable =\n",
              "            await google.colab.kernel.invokeFunction('convertToInteractive',\n",
              "                                                     [key], {});\n",
              "          if (!dataTable) return;\n",
              "\n",
              "          const docLinkHtml = 'Like what you see? Visit the ' +\n",
              "            '<a target=\"_blank\" href=https://colab.research.google.com/notebooks/data_table.ipynb>data table notebook</a>'\n",
              "            + ' to learn more about interactive tables.';\n",
              "          element.innerHTML = '';\n",
              "          dataTable['output_type'] = 'display_data';\n",
              "          await google.colab.output.renderOutput(dataTable, element);\n",
              "          const docLink = document.createElement('div');\n",
              "          docLink.innerHTML = docLinkHtml;\n",
              "          element.appendChild(docLink);\n",
              "        }\n",
              "      </script>\n",
              "    </div>\n",
              "  </div>\n",
              "  "
            ],
            "text/plain": [
              "   Коэффициенты из my_model   Из sklearn\n",
              "0                -25.568179   -25.568179\n",
              "1               -241.876638  -241.876638\n",
              "2                497.557762   497.557762\n",
              "3                354.229419   354.229419\n",
              "4              -1000.498358 -1000.498358\n",
              "5                563.756636   563.756636\n",
              "6                204.641175   204.641175\n",
              "7                311.039286   311.039286\n",
              "8                776.189633   776.189633\n",
              "9                 89.872514    89.872514"
            ]
          },
          "metadata": {},
          "execution_count": 82
        }
      ]
    },
    {
      "cell_type": "markdown",
      "metadata": {
        "id": "BfNuu7Wcq0AP"
      },
      "source": [
        "Теперь обучите модель без свободного члена."
      ]
    },
    {
      "cell_type": "code",
      "metadata": {
        "id": "cERxmrdyYIoa",
        "colab": {
          "base_uri": "https://localhost:8080/",
          "height": 362
        },
        "outputId": "0b9e75e7-7de9-4863-b39d-c6cf756b9dbb"
      },
      "source": [
        "my_model = MyLinearRegression()\n",
        "my_model.fit(X_train, y_train)\n",
        "\n",
        "\n",
        "res = pd.DataFrame({'Коэффициенты из my_model':my_model.theta , 'sklearn': model.coef_})\n",
        "res"
      ],
      "execution_count": 87,
      "outputs": [
        {
          "output_type": "execute_result",
          "data": {
            "text/html": [
              "\n",
              "  <div id=\"df-1fc7bbe7-145e-4f0e-a1ab-4c99e78359ee\">\n",
              "    <div class=\"colab-df-container\">\n",
              "      <div>\n",
              "<style scoped>\n",
              "    .dataframe tbody tr th:only-of-type {\n",
              "        vertical-align: middle;\n",
              "    }\n",
              "\n",
              "    .dataframe tbody tr th {\n",
              "        vertical-align: top;\n",
              "    }\n",
              "\n",
              "    .dataframe thead th {\n",
              "        text-align: right;\n",
              "    }\n",
              "</style>\n",
              "<table border=\"1\" class=\"dataframe\">\n",
              "  <thead>\n",
              "    <tr style=\"text-align: right;\">\n",
              "      <th></th>\n",
              "      <th>Коэффициенты из my_model</th>\n",
              "      <th>sklearn</th>\n",
              "    </tr>\n",
              "  </thead>\n",
              "  <tbody>\n",
              "    <tr>\n",
              "      <th>0</th>\n",
              "      <td>69.345155</td>\n",
              "      <td>-25.568179</td>\n",
              "    </tr>\n",
              "    <tr>\n",
              "      <th>1</th>\n",
              "      <td>-223.635068</td>\n",
              "      <td>-241.876638</td>\n",
              "    </tr>\n",
              "    <tr>\n",
              "      <th>2</th>\n",
              "      <td>556.269641</td>\n",
              "      <td>497.557762</td>\n",
              "    </tr>\n",
              "    <tr>\n",
              "      <th>3</th>\n",
              "      <td>306.734262</td>\n",
              "      <td>354.229419</td>\n",
              "    </tr>\n",
              "    <tr>\n",
              "      <th>4</th>\n",
              "      <td>-970.985520</td>\n",
              "      <td>-1000.498358</td>\n",
              "    </tr>\n",
              "    <tr>\n",
              "      <th>5</th>\n",
              "      <td>410.106350</td>\n",
              "      <td>563.756636</td>\n",
              "    </tr>\n",
              "    <tr>\n",
              "      <th>6</th>\n",
              "      <td>279.106352</td>\n",
              "      <td>204.641175</td>\n",
              "    </tr>\n",
              "    <tr>\n",
              "      <th>7</th>\n",
              "      <td>494.010806</td>\n",
              "      <td>311.039286</td>\n",
              "    </tr>\n",
              "    <tr>\n",
              "      <th>8</th>\n",
              "      <td>773.180859</td>\n",
              "      <td>776.189633</td>\n",
              "    </tr>\n",
              "    <tr>\n",
              "      <th>9</th>\n",
              "      <td>-39.795907</td>\n",
              "      <td>89.872514</td>\n",
              "    </tr>\n",
              "  </tbody>\n",
              "</table>\n",
              "</div>\n",
              "      <button class=\"colab-df-convert\" onclick=\"convertToInteractive('df-1fc7bbe7-145e-4f0e-a1ab-4c99e78359ee')\"\n",
              "              title=\"Convert this dataframe to an interactive table.\"\n",
              "              style=\"display:none;\">\n",
              "        \n",
              "  <svg xmlns=\"http://www.w3.org/2000/svg\" height=\"24px\"viewBox=\"0 0 24 24\"\n",
              "       width=\"24px\">\n",
              "    <path d=\"M0 0h24v24H0V0z\" fill=\"none\"/>\n",
              "    <path d=\"M18.56 5.44l.94 2.06.94-2.06 2.06-.94-2.06-.94-.94-2.06-.94 2.06-2.06.94zm-11 1L8.5 8.5l.94-2.06 2.06-.94-2.06-.94L8.5 2.5l-.94 2.06-2.06.94zm10 10l.94 2.06.94-2.06 2.06-.94-2.06-.94-.94-2.06-.94 2.06-2.06.94z\"/><path d=\"M17.41 7.96l-1.37-1.37c-.4-.4-.92-.59-1.43-.59-.52 0-1.04.2-1.43.59L10.3 9.45l-7.72 7.72c-.78.78-.78 2.05 0 2.83L4 21.41c.39.39.9.59 1.41.59.51 0 1.02-.2 1.41-.59l7.78-7.78 2.81-2.81c.8-.78.8-2.07 0-2.86zM5.41 20L4 18.59l7.72-7.72 1.47 1.35L5.41 20z\"/>\n",
              "  </svg>\n",
              "      </button>\n",
              "      \n",
              "  <style>\n",
              "    .colab-df-container {\n",
              "      display:flex;\n",
              "      flex-wrap:wrap;\n",
              "      gap: 12px;\n",
              "    }\n",
              "\n",
              "    .colab-df-convert {\n",
              "      background-color: #E8F0FE;\n",
              "      border: none;\n",
              "      border-radius: 50%;\n",
              "      cursor: pointer;\n",
              "      display: none;\n",
              "      fill: #1967D2;\n",
              "      height: 32px;\n",
              "      padding: 0 0 0 0;\n",
              "      width: 32px;\n",
              "    }\n",
              "\n",
              "    .colab-df-convert:hover {\n",
              "      background-color: #E2EBFA;\n",
              "      box-shadow: 0px 1px 2px rgba(60, 64, 67, 0.3), 0px 1px 3px 1px rgba(60, 64, 67, 0.15);\n",
              "      fill: #174EA6;\n",
              "    }\n",
              "\n",
              "    [theme=dark] .colab-df-convert {\n",
              "      background-color: #3B4455;\n",
              "      fill: #D2E3FC;\n",
              "    }\n",
              "\n",
              "    [theme=dark] .colab-df-convert:hover {\n",
              "      background-color: #434B5C;\n",
              "      box-shadow: 0px 1px 3px 1px rgba(0, 0, 0, 0.15);\n",
              "      filter: drop-shadow(0px 1px 2px rgba(0, 0, 0, 0.3));\n",
              "      fill: #FFFFFF;\n",
              "    }\n",
              "  </style>\n",
              "\n",
              "      <script>\n",
              "        const buttonEl =\n",
              "          document.querySelector('#df-1fc7bbe7-145e-4f0e-a1ab-4c99e78359ee button.colab-df-convert');\n",
              "        buttonEl.style.display =\n",
              "          google.colab.kernel.accessAllowed ? 'block' : 'none';\n",
              "\n",
              "        async function convertToInteractive(key) {\n",
              "          const element = document.querySelector('#df-1fc7bbe7-145e-4f0e-a1ab-4c99e78359ee');\n",
              "          const dataTable =\n",
              "            await google.colab.kernel.invokeFunction('convertToInteractive',\n",
              "                                                     [key], {});\n",
              "          if (!dataTable) return;\n",
              "\n",
              "          const docLinkHtml = 'Like what you see? Visit the ' +\n",
              "            '<a target=\"_blank\" href=https://colab.research.google.com/notebooks/data_table.ipynb>data table notebook</a>'\n",
              "            + ' to learn more about interactive tables.';\n",
              "          element.innerHTML = '';\n",
              "          dataTable['output_type'] = 'display_data';\n",
              "          await google.colab.output.renderOutput(dataTable, element);\n",
              "          const docLink = document.createElement('div');\n",
              "          docLink.innerHTML = docLinkHtml;\n",
              "          element.appendChild(docLink);\n",
              "        }\n",
              "      </script>\n",
              "    </div>\n",
              "  </div>\n",
              "  "
            ],
            "text/plain": [
              "   Коэффициенты из my_model      sklearn\n",
              "0                 69.345155   -25.568179\n",
              "1               -223.635068  -241.876638\n",
              "2                556.269641   497.557762\n",
              "3                306.734262   354.229419\n",
              "4               -970.985520 -1000.498358\n",
              "5                410.106350   563.756636\n",
              "6                279.106352   204.641175\n",
              "7                494.010806   311.039286\n",
              "8                773.180859   776.189633\n",
              "9                -39.795907    89.872514"
            ]
          },
          "metadata": {},
          "execution_count": 87
        }
      ]
    },
    {
      "cell_type": "markdown",
      "metadata": {
        "id": "qN-iGWbzrLC3"
      },
      "source": [
        "Сравните качество моделей со свободным членом и без него на тестовой выборке."
      ]
    },
    {
      "cell_type": "markdown",
      "source": [
        "*Сравним по значениям метрик качества:*"
      ],
      "metadata": {
        "id": "AABBzfyM7ycC"
      }
    },
    {
      "cell_type": "code",
      "metadata": {
        "id": "fW8UvbANqm3X",
        "colab": {
          "base_uri": "https://localhost:8080/",
          "height": 143
        },
        "outputId": "e407247b-7f4e-40d6-c918-ee77e64a06f1"
      },
      "source": [
        "y_pred_svob = my_model_svob.predict(np.column_stack((np.ones(X_test.shape[0]), X_test)))\n",
        "y_pred_ = my_model.predict(X_test)\n",
        "\n",
        "metrics = pd.DataFrame({\"Cо свободным членом\":[np.around(mean_squared_error(y_test, y_pred_svob), 3), \n",
        "                                               np.around(mean_absolute_error(y_test, y_pred_svob), 3),\n",
        "                                               np.around(mean_absolute_percentage_error(y_test, y_pred_svob), 3)],\n",
        "                       \"Без него\": [np.around(mean_squared_error(y_test, y_pred_), 3), \n",
        "                                    np.around(mean_absolute_error(y_test, y_pred_), 3), \n",
        "                                    np.around(mean_absolute_percentage_error(y_test, y_pred_), 3)]})\n",
        "metrics.index = [\"MSE\", \"MAE\", \"MAPE\"]\n",
        "metrics"
      ],
      "execution_count": 86,
      "outputs": [
        {
          "output_type": "execute_result",
          "data": {
            "text/html": [
              "\n",
              "  <div id=\"df-cb49cfcf-7dd0-41ae-a31b-43b2d62f56c8\">\n",
              "    <div class=\"colab-df-container\">\n",
              "      <div>\n",
              "<style scoped>\n",
              "    .dataframe tbody tr th:only-of-type {\n",
              "        vertical-align: middle;\n",
              "    }\n",
              "\n",
              "    .dataframe tbody tr th {\n",
              "        vertical-align: top;\n",
              "    }\n",
              "\n",
              "    .dataframe thead th {\n",
              "        text-align: right;\n",
              "    }\n",
              "</style>\n",
              "<table border=\"1\" class=\"dataframe\">\n",
              "  <thead>\n",
              "    <tr style=\"text-align: right;\">\n",
              "      <th></th>\n",
              "      <th>Cо свободным членом</th>\n",
              "      <th>Без него</th>\n",
              "    </tr>\n",
              "  </thead>\n",
              "  <tbody>\n",
              "    <tr>\n",
              "      <th>MSE</th>\n",
              "      <td>2882.619</td>\n",
              "      <td>22280.887</td>\n",
              "    </tr>\n",
              "    <tr>\n",
              "      <th>MAE</th>\n",
              "      <td>43.123</td>\n",
              "      <td>139.942</td>\n",
              "    </tr>\n",
              "    <tr>\n",
              "      <th>MAPE</th>\n",
              "      <td>48.626</td>\n",
              "      <td>122.859</td>\n",
              "    </tr>\n",
              "  </tbody>\n",
              "</table>\n",
              "</div>\n",
              "      <button class=\"colab-df-convert\" onclick=\"convertToInteractive('df-cb49cfcf-7dd0-41ae-a31b-43b2d62f56c8')\"\n",
              "              title=\"Convert this dataframe to an interactive table.\"\n",
              "              style=\"display:none;\">\n",
              "        \n",
              "  <svg xmlns=\"http://www.w3.org/2000/svg\" height=\"24px\"viewBox=\"0 0 24 24\"\n",
              "       width=\"24px\">\n",
              "    <path d=\"M0 0h24v24H0V0z\" fill=\"none\"/>\n",
              "    <path d=\"M18.56 5.44l.94 2.06.94-2.06 2.06-.94-2.06-.94-.94-2.06-.94 2.06-2.06.94zm-11 1L8.5 8.5l.94-2.06 2.06-.94-2.06-.94L8.5 2.5l-.94 2.06-2.06.94zm10 10l.94 2.06.94-2.06 2.06-.94-2.06-.94-.94-2.06-.94 2.06-2.06.94z\"/><path d=\"M17.41 7.96l-1.37-1.37c-.4-.4-.92-.59-1.43-.59-.52 0-1.04.2-1.43.59L10.3 9.45l-7.72 7.72c-.78.78-.78 2.05 0 2.83L4 21.41c.39.39.9.59 1.41.59.51 0 1.02-.2 1.41-.59l7.78-7.78 2.81-2.81c.8-.78.8-2.07 0-2.86zM5.41 20L4 18.59l7.72-7.72 1.47 1.35L5.41 20z\"/>\n",
              "  </svg>\n",
              "      </button>\n",
              "      \n",
              "  <style>\n",
              "    .colab-df-container {\n",
              "      display:flex;\n",
              "      flex-wrap:wrap;\n",
              "      gap: 12px;\n",
              "    }\n",
              "\n",
              "    .colab-df-convert {\n",
              "      background-color: #E8F0FE;\n",
              "      border: none;\n",
              "      border-radius: 50%;\n",
              "      cursor: pointer;\n",
              "      display: none;\n",
              "      fill: #1967D2;\n",
              "      height: 32px;\n",
              "      padding: 0 0 0 0;\n",
              "      width: 32px;\n",
              "    }\n",
              "\n",
              "    .colab-df-convert:hover {\n",
              "      background-color: #E2EBFA;\n",
              "      box-shadow: 0px 1px 2px rgba(60, 64, 67, 0.3), 0px 1px 3px 1px rgba(60, 64, 67, 0.15);\n",
              "      fill: #174EA6;\n",
              "    }\n",
              "\n",
              "    [theme=dark] .colab-df-convert {\n",
              "      background-color: #3B4455;\n",
              "      fill: #D2E3FC;\n",
              "    }\n",
              "\n",
              "    [theme=dark] .colab-df-convert:hover {\n",
              "      background-color: #434B5C;\n",
              "      box-shadow: 0px 1px 3px 1px rgba(0, 0, 0, 0.15);\n",
              "      filter: drop-shadow(0px 1px 2px rgba(0, 0, 0, 0.3));\n",
              "      fill: #FFFFFF;\n",
              "    }\n",
              "  </style>\n",
              "\n",
              "      <script>\n",
              "        const buttonEl =\n",
              "          document.querySelector('#df-cb49cfcf-7dd0-41ae-a31b-43b2d62f56c8 button.colab-df-convert');\n",
              "        buttonEl.style.display =\n",
              "          google.colab.kernel.accessAllowed ? 'block' : 'none';\n",
              "\n",
              "        async function convertToInteractive(key) {\n",
              "          const element = document.querySelector('#df-cb49cfcf-7dd0-41ae-a31b-43b2d62f56c8');\n",
              "          const dataTable =\n",
              "            await google.colab.kernel.invokeFunction('convertToInteractive',\n",
              "                                                     [key], {});\n",
              "          if (!dataTable) return;\n",
              "\n",
              "          const docLinkHtml = 'Like what you see? Visit the ' +\n",
              "            '<a target=\"_blank\" href=https://colab.research.google.com/notebooks/data_table.ipynb>data table notebook</a>'\n",
              "            + ' to learn more about interactive tables.';\n",
              "          element.innerHTML = '';\n",
              "          dataTable['output_type'] = 'display_data';\n",
              "          await google.colab.output.renderOutput(dataTable, element);\n",
              "          const docLink = document.createElement('div');\n",
              "          docLink.innerHTML = docLinkHtml;\n",
              "          element.appendChild(docLink);\n",
              "        }\n",
              "      </script>\n",
              "    </div>\n",
              "  </div>\n",
              "  "
            ],
            "text/plain": [
              "      Cо свободным членом   Без него\n",
              "MSE              2882.619  22280.887\n",
              "MAE                43.123    139.942\n",
              "MAPE               48.626    122.859"
            ]
          },
          "metadata": {},
          "execution_count": 86
        }
      ]
    },
    {
      "cell_type": "markdown",
      "metadata": {
        "id": "TpllTM-HYN2F"
      },
      "source": [
        "Сделайте выводы."
      ]
    },
    {
      "cell_type": "markdown",
      "source": [
        "*Данные по собственной модели со свободным членом и sklearn можно считать одинаковыми. При этом при попытке приблизить результаты линейной регрессией без свободного члена получаем большую ошибку, по данным метрик качества получаем ухудшение в разы.*"
      ],
      "metadata": {
        "id": "npldXKEqC5xJ"
      }
    }
  ]
}