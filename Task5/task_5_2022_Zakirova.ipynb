{
  "nbformat": 4,
  "nbformat_minor": 0,
  "metadata": {
    "colab": {
      "name": "task_5_2022_Zakirova.ipynb",
      "provenance": [],
      "collapsed_sections": []
    },
    "kernelspec": {
      "name": "python3",
      "display_name": "Python 3"
    },
    "language_info": {
      "name": "python"
    }
  },
  "cells": [
    {
      "cell_type": "markdown",
      "metadata": {
        "id": "0mwREgcF1yhk"
      },
      "source": [
        "# <a href=\"https://mipt-stats.gitlab.io/courses/ad_mipt.html\">Phystech@DataScience</a>\n",
        "## Задание 5\n",
        "\n",
        "**Правила:**\n",
        "\n",
        "* Выполненную работу нужно отправить телеграм-боту `@miptstats_pds_bot`.\n",
        "* Дедлайн **10 апреля в 23:00**. После дедлайна работы не принимаются кроме случаев наличия уважительной причины.\n",
        "* Прислать нужно ноутбук в формате `ipynb` и все фотографии, если пишете теоретическую часть от руки.\n",
        "* Решения, размещенные на каких-либо интернет-ресурсах, не принимаются. Публикация решения может быть приравнена к предоставлении возможности списать.\n",
        "* Для выполнения задания используйте этот ноутбук в качестве основы, ничего не удаляя из него.\n",
        "\n",
        "-----\n",
        "\n",
        "*Замечания.* Теоретические решения можно оформить\n",
        "* в $\\LaTeX$-формате в ноутбуке;\n",
        "* написать от руки и прикрепить к ноутбуку;\n",
        "* написать от руки и выслать боту.  \n",
        "\n",
        "Во втором случае также **важно** \"вшить\" фото в ноутбук. Сделать это можно с помощью Edit -> Insert Image в Jupyter или с помощью кнопки \"Вставить изображение\" в Colab. Следите за размером итогового файла.\n",
        "\n",
        "Фотографии принимаются только в хорошем качестве, **следите за освещением и почерком**. На фотографиях также указывайте номера задач.\n",
        "\n",
        "-----"
      ]
    },
    {
      "cell_type": "code",
      "metadata": {
        "id": "-d9lvaQn1sYA",
        "colab": {
          "base_uri": "https://localhost:8080/"
        },
        "outputId": "5524a2cc-0bfb-46df-89e9-fa9fbb2c6dd5"
      },
      "source": [
        "import numpy as np\n",
        "import pandas as pd\n",
        "import scipy.stats as sps\n",
        "\n",
        "import matplotlib.pyplot as plt\n",
        "import seaborn as sns\n",
        "\n",
        "red = '#FF3300'\n",
        "blue = '#0099CC'\n",
        "green = '#00CC66'\n",
        "\n",
        "from statsmodels.sandbox.stats.multicomp import multipletests\n",
        "from tqdm.notebook import tqdm\n",
        "\n",
        "%matplotlib inline\n"
      ],
      "execution_count": null,
      "outputs": [
        {
          "output_type": "stream",
          "name": "stderr",
          "text": [
            "/usr/local/lib/python3.7/dist-packages/statsmodels/tools/_testing.py:19: FutureWarning: pandas.util.testing is deprecated. Use the functions in the public API at pandas.testing instead.\n",
            "  import pandas.util.testing as tm\n"
          ]
        }
      ]
    },
    {
      "cell_type": "markdown",
      "metadata": {
        "id": "GJKSXxzO13Ko"
      },
      "source": [
        "#Теоретическая часть"
      ]
    },
    {
      "cell_type": "markdown",
      "metadata": {
        "id": "McY-fb-G2Odk"
      },
      "source": [
        "## p-value (основной поток)\n",
        "\n",
        "###Задача 1. \n",
        " Для всех пунктов задач 3 и 4 прошлого домашнего задания выпишите формулу для p-value  $p(t) = <...>$  в виде кода на `scipy`, где $t$ - реализация статистики вашего критерия, т.е. $t = T(x), x$ &mdash; реализация выборки, $T(X)$ &mdash; статистика. \n",
        "\n",
        "Для задачи 4 также посчитайте численные значения для обоих случаев p-value для данного в задаче существа. Какие гипотезы отклоняются? \n",
        "\n",
        "Вычисления можно выполнить в Питоне по приведенным вами формулам. \n",
        "\n",
        "## Множественная проверка гипотез (основной поток)\n",
        "\n",
        "\n",
        "###Задача 2.\n",
        " Пусть $X_1, ...,  X_n$ --- выборка из неизвестного распределения $\\mathsf{P}$. Для проверки гипотезы $\\mathsf{H}_0\\ vs.\\ \\mathsf{H}_1$ было решено использовать три различных критерия. Соответствующие p-value равны 0.00001, 0.7361, 0.0482. Какое должно быть принято решение об отвержении гипотезы $\\mathsf{H}_0$ на уровне значимости 0.05? *Подсказка: используйте любой подходящий метод МПГ, далее делайте вывод об отвержении/не отвержении, поясните свой вывод.*\n",
        "\n",
        "\n"
      ]
    },
    {
      "cell_type": "markdown",
      "source": [
        "**Задача 1**"
      ],
      "metadata": {
        "id": "I8tKsGiU7w3r"
      }
    },
    {
      "cell_type": "code",
      "source": [
        "print(f'p-value песик vs единорог(в): {round(sps.gamma(a = 2, scale = 7/6).sf(6.66), 3)}')\n",
        "print(f'p-value единорог vs песик(г): {round(sps.gamma(a = 3, scale = 44/5).cdf(6.66), 3)}')"
      ],
      "metadata": {
        "colab": {
          "base_uri": "https://localhost:8080/"
        },
        "id": "Kcs2pi7b6sfE",
        "outputId": "7be0eba0-cd31-4e60-b233-ba659630413c"
      },
      "execution_count": null,
      "outputs": [
        {
          "output_type": "stream",
          "name": "stdout",
          "text": [
            "p-value песик vs единорог(в): 0.022\n",
            "p-value единорог vs песик(г): 0.041\n"
          ]
        }
      ]
    },
    {
      "cell_type": "markdown",
      "source": [
        "**В обоих случаях уровень значимости $\\alpha = 0.05$, оба p-value меньше него $\\Rightarrow$ животное с ростом x=6.66 не является ни песиком, ни единорогом.** \n",
        "\n",
        "**Заметим, что во втором случае p-value ближе к $\\alpha$, то есть мы более уверены в том что животное не песик, чем в том что не единорог**"
      ],
      "metadata": {
        "id": "j7tOWe1X74CX"
      }
    },
    {
      "cell_type": "markdown",
      "source": [
        "**Задача 2**\n",
        "\n",
        "**Уже проведены некоторые исследования, значит этап отсеивания признаков прошел. То есть сейчас нужно реализовать метод контроля FWER. 1 гипотеза и три критерия для нее $\\Leftrightarrow$ 3 зависимые выборки(на самом деле одна и та же - начальная) и для каждой свой критерий.**\n",
        "\n",
        "**Воспользуемся методом Холма, c скорректированными p-value:**\n",
        "$$\\tilde{p_j} = (m - j + 1)\\cdot p_j,\\quad j \\in [1,3]$$\n",
        "$\\alpha = 0.05, m = 3$"
      ],
      "metadata": {
        "id": "VY_xUphw4axY"
      }
    },
    {
      "cell_type": "code",
      "source": [
        "def p_values_correct(p_v, m = None, a = 0.05):\n",
        "  if m is None:\n",
        "    m = p_v.shape[0]\n",
        "  p_corr = np.array([(m - j)*p for j,p in enumerate(p_v)]) #отсчет j с 0: m - (j + 1) + 1 = m - j\n",
        "  ind = 0\n",
        "  p_first = 0\n",
        "  for i,elem in enumerate(p_corr): #ищем первую неотверженную гипотезу => cоответствующее значение p_value и индекс\n",
        "    if elem > a:\n",
        "      ind = i\n",
        "      p_first = elem\n",
        "      break\n",
        "  for i,p in enumerate(p_corr): #если H_ind не отверглась, то дальше не отвергаем\n",
        "    if i > ind:\n",
        "      p_corr[i] = min(1, max(p_first, p))\n",
        "  return p_corr\n",
        "\n",
        "alfa = 0.05\n",
        "m = 3\n",
        "p_v = np.array([ 0.00001, 0.7361, 0.0482])\n",
        "p_corr = p_values_correct(p_v, 3, alfa)\n",
        "print(*p_corr < alfa) "
      ],
      "metadata": {
        "colab": {
          "base_uri": "https://localhost:8080/"
        },
        "id": "l1zYVASv6nZr",
        "outputId": "5f454b7f-c408-4110-b900-3dc4dcd13cc2"
      },
      "execution_count": null,
      "outputs": [
        {
          "output_type": "stream",
          "name": "stdout",
          "text": [
            "True False False\n"
          ]
        }
      ]
    },
    {
      "cell_type": "markdown",
      "source": [
        "**То есть по первому критерию гипотезу стоит отвергнуть, по двум другим - нет: результат статистически незначим.**"
      ],
      "metadata": {
        "id": "IpQPAG_oAIUG"
      }
    },
    {
      "cell_type": "markdown",
      "metadata": {
        "id": "qXMt2DllZFT7"
      },
      "source": [
        "# Практическая часть"
      ]
    },
    {
      "cell_type": "markdown",
      "metadata": {
        "id": "yPjok3K0QtjG"
      },
      "source": [
        "## Множественная проверка гипотез\n"
      ]
    },
    {
      "cell_type": "markdown",
      "metadata": {
        "id": "BchoZ4E9Qw8w"
      },
      "source": [
        "###Задача 3 (все потоки).\n",
        "Проведены эксперименты для оценки эффективности нескольких препаратов для снижения послеоперационной тошноты. Результаты экспериментов приведены в таблице ниже. При проведении эксперимента пациенты делились на группы случайным образом.\n",
        "\n",
        "    \n",
        "                            Количество пациентов  Количество случаев возникновения тошноты\n",
        "\n",
        "\t\tПлацебо                80                    45 \n",
        "\n",
        "\t\tХлорпромазин           75                    26 \n",
        "    \n",
        "\t\tДименгидринат          85                    52 \n",
        "    \n",
        "\t\tПентобарбитал (100 мг) 67                    35 \n",
        "    \n",
        "\t\tПентобарбитал (150 мг) 85                    37 \n",
        "    \n",
        "\n",
        " Проведите сравнение каждого препарата по эффективности по отношению к плацебо c использованием критерия Вальда (см. лекцию 5 и последующие). Какие методы МПГ, контролирующие FWER и FDR, можно использовать в данной задаче? Какие ответы можно получить для этих методов? В каждом случае приведите значения статистики критерия Вальда, p-value и скорректированные p-value. Поясните смысл p-value и множественной проверки гипотез в данной задаче. Оформите решение структурированно. "
      ]
    },
    {
      "cell_type": "markdown",
      "source": [
        "**В приципе выборки могут быть зависимыми: если 1 человек участвовал в нескольких исследованиях, что нелогично конечно, но в приципе возможно. Для контроля FWER выберем метод Холма, так как он наиболее мощный, если нет информации о зависимостях. Аналогично, для FDR выберем метод Бенджамини-Иекутиели.**"
      ],
      "metadata": {
        "id": "hWeZq7X_zU5c"
      }
    },
    {
      "cell_type": "code",
      "metadata": {
        "id": "h47Rfcn3Q6oi"
      },
      "source": [
        "data = pd.DataFrame([[\"Плацебо\", 80, 45],\n",
        "    [\"Хлорпромазин\", 75, 26],\n",
        "    [\"Дименгидринат\", 85, 52],\n",
        "    [\"Пентобарбитал (100 мг)\", 67, 35],\n",
        "    [\"Пентобарбитал (150 мг)\", 85, 37]])\n",
        "\n",
        "data.columns = [\"Название\", \"Количество пациентов\", \"Количество случаев возникновения тошноты\"]"
      ],
      "execution_count": null,
      "outputs": []
    },
    {
      "cell_type": "code",
      "metadata": {
        "colab": {
          "base_uri": "https://localhost:8080/",
          "height": 206
        },
        "id": "_WMW4TKABXsX",
        "outputId": "b3fbd67d-06b6-446f-e3ee-438b77bc0344"
      },
      "source": [
        "data "
      ],
      "execution_count": null,
      "outputs": [
        {
          "output_type": "execute_result",
          "data": {
            "text/plain": [
              "                 Название  Количество пациентов  \\\n",
              "0                 Плацебо                    80   \n",
              "1            Хлорпромазин                    75   \n",
              "2           Дименгидринат                    85   \n",
              "3  Пентобарбитал (100 мг)                    67   \n",
              "4  Пентобарбитал (150 мг)                    85   \n",
              "\n",
              "   Количество случаев возникновения тошноты  \n",
              "0                                        45  \n",
              "1                                        26  \n",
              "2                                        52  \n",
              "3                                        35  \n",
              "4                                        37  "
            ],
            "text/html": [
              "\n",
              "  <div id=\"df-a9974c4b-bbb4-4399-8614-8f8ddf5eee01\">\n",
              "    <div class=\"colab-df-container\">\n",
              "      <div>\n",
              "<style scoped>\n",
              "    .dataframe tbody tr th:only-of-type {\n",
              "        vertical-align: middle;\n",
              "    }\n",
              "\n",
              "    .dataframe tbody tr th {\n",
              "        vertical-align: top;\n",
              "    }\n",
              "\n",
              "    .dataframe thead th {\n",
              "        text-align: right;\n",
              "    }\n",
              "</style>\n",
              "<table border=\"1\" class=\"dataframe\">\n",
              "  <thead>\n",
              "    <tr style=\"text-align: right;\">\n",
              "      <th></th>\n",
              "      <th>Название</th>\n",
              "      <th>Количество пациентов</th>\n",
              "      <th>Количество случаев возникновения тошноты</th>\n",
              "    </tr>\n",
              "  </thead>\n",
              "  <tbody>\n",
              "    <tr>\n",
              "      <th>0</th>\n",
              "      <td>Плацебо</td>\n",
              "      <td>80</td>\n",
              "      <td>45</td>\n",
              "    </tr>\n",
              "    <tr>\n",
              "      <th>1</th>\n",
              "      <td>Хлорпромазин</td>\n",
              "      <td>75</td>\n",
              "      <td>26</td>\n",
              "    </tr>\n",
              "    <tr>\n",
              "      <th>2</th>\n",
              "      <td>Дименгидринат</td>\n",
              "      <td>85</td>\n",
              "      <td>52</td>\n",
              "    </tr>\n",
              "    <tr>\n",
              "      <th>3</th>\n",
              "      <td>Пентобарбитал (100 мг)</td>\n",
              "      <td>67</td>\n",
              "      <td>35</td>\n",
              "    </tr>\n",
              "    <tr>\n",
              "      <th>4</th>\n",
              "      <td>Пентобарбитал (150 мг)</td>\n",
              "      <td>85</td>\n",
              "      <td>37</td>\n",
              "    </tr>\n",
              "  </tbody>\n",
              "</table>\n",
              "</div>\n",
              "      <button class=\"colab-df-convert\" onclick=\"convertToInteractive('df-a9974c4b-bbb4-4399-8614-8f8ddf5eee01')\"\n",
              "              title=\"Convert this dataframe to an interactive table.\"\n",
              "              style=\"display:none;\">\n",
              "        \n",
              "  <svg xmlns=\"http://www.w3.org/2000/svg\" height=\"24px\"viewBox=\"0 0 24 24\"\n",
              "       width=\"24px\">\n",
              "    <path d=\"M0 0h24v24H0V0z\" fill=\"none\"/>\n",
              "    <path d=\"M18.56 5.44l.94 2.06.94-2.06 2.06-.94-2.06-.94-.94-2.06-.94 2.06-2.06.94zm-11 1L8.5 8.5l.94-2.06 2.06-.94-2.06-.94L8.5 2.5l-.94 2.06-2.06.94zm10 10l.94 2.06.94-2.06 2.06-.94-2.06-.94-.94-2.06-.94 2.06-2.06.94z\"/><path d=\"M17.41 7.96l-1.37-1.37c-.4-.4-.92-.59-1.43-.59-.52 0-1.04.2-1.43.59L10.3 9.45l-7.72 7.72c-.78.78-.78 2.05 0 2.83L4 21.41c.39.39.9.59 1.41.59.51 0 1.02-.2 1.41-.59l7.78-7.78 2.81-2.81c.8-.78.8-2.07 0-2.86zM5.41 20L4 18.59l7.72-7.72 1.47 1.35L5.41 20z\"/>\n",
              "  </svg>\n",
              "      </button>\n",
              "      \n",
              "  <style>\n",
              "    .colab-df-container {\n",
              "      display:flex;\n",
              "      flex-wrap:wrap;\n",
              "      gap: 12px;\n",
              "    }\n",
              "\n",
              "    .colab-df-convert {\n",
              "      background-color: #E8F0FE;\n",
              "      border: none;\n",
              "      border-radius: 50%;\n",
              "      cursor: pointer;\n",
              "      display: none;\n",
              "      fill: #1967D2;\n",
              "      height: 32px;\n",
              "      padding: 0 0 0 0;\n",
              "      width: 32px;\n",
              "    }\n",
              "\n",
              "    .colab-df-convert:hover {\n",
              "      background-color: #E2EBFA;\n",
              "      box-shadow: 0px 1px 2px rgba(60, 64, 67, 0.3), 0px 1px 3px 1px rgba(60, 64, 67, 0.15);\n",
              "      fill: #174EA6;\n",
              "    }\n",
              "\n",
              "    [theme=dark] .colab-df-convert {\n",
              "      background-color: #3B4455;\n",
              "      fill: #D2E3FC;\n",
              "    }\n",
              "\n",
              "    [theme=dark] .colab-df-convert:hover {\n",
              "      background-color: #434B5C;\n",
              "      box-shadow: 0px 1px 3px 1px rgba(0, 0, 0, 0.15);\n",
              "      filter: drop-shadow(0px 1px 2px rgba(0, 0, 0, 0.3));\n",
              "      fill: #FFFFFF;\n",
              "    }\n",
              "  </style>\n",
              "\n",
              "      <script>\n",
              "        const buttonEl =\n",
              "          document.querySelector('#df-a9974c4b-bbb4-4399-8614-8f8ddf5eee01 button.colab-df-convert');\n",
              "        buttonEl.style.display =\n",
              "          google.colab.kernel.accessAllowed ? 'block' : 'none';\n",
              "\n",
              "        async function convertToInteractive(key) {\n",
              "          const element = document.querySelector('#df-a9974c4b-bbb4-4399-8614-8f8ddf5eee01');\n",
              "          const dataTable =\n",
              "            await google.colab.kernel.invokeFunction('convertToInteractive',\n",
              "                                                     [key], {});\n",
              "          if (!dataTable) return;\n",
              "\n",
              "          const docLinkHtml = 'Like what you see? Visit the ' +\n",
              "            '<a target=\"_blank\" href=https://colab.research.google.com/notebooks/data_table.ipynb>data table notebook</a>'\n",
              "            + ' to learn more about interactive tables.';\n",
              "          element.innerHTML = '';\n",
              "          dataTable['output_type'] = 'display_data';\n",
              "          await google.colab.output.renderOutput(dataTable, element);\n",
              "          const docLink = document.createElement('div');\n",
              "          docLink.innerHTML = docLinkHtml;\n",
              "          element.appendChild(docLink);\n",
              "        }\n",
              "      </script>\n",
              "    </div>\n",
              "  </div>\n",
              "  "
            ]
          },
          "metadata": {},
          "execution_count": 12
        }
      ]
    },
    {
      "cell_type": "markdown",
      "source": [
        "**Аналогичный пример был разобран на лекции, то что было рассказано примем в этом дз без доказательства**"
      ],
      "metadata": {
        "id": "hPAN6ZsstKFx"
      }
    },
    {
      "cell_type": "markdown",
      "source": [
        "**Исследуемая группа - под действием препарата**:\n",
        "\n",
        "$$ \\text{Хлорпромазин: }X^1 = (X_1^1, \\cdots ,X_{75}^1), X_i^1 \\thicksim Bern(p_1)$$\n",
        "$$\\text{Дименгидринат: } X^2 = (X_1^2, \\cdots ,X_{85}^2), X_i^2 \\thicksim Bern(p_2)$$\n",
        "$$ \\text{Пентобарбитал (100 мг): } X^3 = (X_1^3, \\cdots ,X_{67}^2), X_i^3 \\thicksim Bern(p_3)$$\n",
        "$$ \\text{Пентобарбитал (150 мг): }X^4 = (X_1^4, \\cdots ,X_{85}^2), X_i^4 \\thicksim Bern(p_4)$$\n",
        "**Контроль:**\n",
        "$$Y = (Y_1, \\cdots, Y_{80}), Y_i \\thicksim Bern(p_c) $$\n",
        "\n",
        " \n",
        "**Для каждого препарата:**\n",
        "$$\\text{Статистика критерия Вальда: }W_i = W(X^i,Y) = \\frac{\\hat{p_i} - \\hat{p_c}}{\\hat{\\sigma}} \\rightarrow \\mathcal{N}(0,1)$$\n",
        "где $$\\hat{p_i} = 1- \\bar{X^i}\\quad \\hat{p_c} = 1 -\\bar{Y}$$\n",
        "так как вероятность того что препарат работает это количество случаев, когда не возникло тошноты\n",
        "$$\\hat{\\sigma} = \\sqrt{\\frac{\\hat{p_i} (1- \\hat{p_i})}{n} + \\frac{\\hat{p_c} (1- \\hat{p_c})}{m(=80)}}$$\n",
        "$\\quad$\n",
        "**Гипотезы:**\n",
        "$$H_0^i: p_i = p_c \\text{ - эффекта нет}$$\n",
        "$$H_1^i: p_i > p_c \\text{ - препарат эффективнее плацебо}$$\n",
        "$w_i = W_i(x)$\n",
        "$$p-value: p(w) = P(W(X^i, Y) > w_i)$$"
      ],
      "metadata": {
        "id": "iqcoHb8XLmGQ"
      }
    },
    {
      "cell_type": "code",
      "metadata": {
        "id": "CaqbAwbaBb31",
        "colab": {
          "base_uri": "https://localhost:8080/"
        },
        "outputId": "39020306-b3cc-4e9a-9c20-d1d58ad981e5"
      },
      "source": [
        "p_s = 1 - np.array(data[\"Количество случаев возникновения тошноты\"]/data[\"Количество пациентов\"])\n",
        "n = np.array(data[\"Количество пациентов\"][1:])\n",
        "p_c, p_s = p_s[0], p_s[1:]\n",
        "\n",
        "sigma_s = np.sqrt((p_s*(1-p_s)/n)+ (p_c*(1-p_c)/80))\n",
        "walds = (p_s - p_c)/sigma_s\n",
        "cr_walds = {key: round(walds[i],3) for i,key in enumerate(data[\"Название\"][1:])}  #вспомогательный массив для красивого вывода \n",
        "print(f'Значения статистики критерия Вальда: {cr_walds}')\n",
        "\n",
        "p_val = sps.norm().sf(walds)\n",
        "p_val_s = {key: round(p_val[i],3) for i,key in enumerate(data[\"Название\"][1:])} \n",
        "print(f'p-values: {p_val_s}')"
      ],
      "execution_count": null,
      "outputs": [
        {
          "output_type": "stream",
          "name": "stdout",
          "text": [
            "Значения статистики критерия Вальда: {'Хлорпромазин': 2.764, 'Дименгидринат': -0.643, 'Пентобарбитал (100 мг)': 0.486, 'Пентобарбитал (150 мг)': 1.647}\n",
            "p-values: {'Хлорпромазин': 0.003, 'Дименгидринат': 0.74, 'Пентобарбитал (100 мг)': 0.313, 'Пентобарбитал (150 мг)': 0.05}\n"
          ]
        }
      ]
    },
    {
      "cell_type": "markdown",
      "source": [
        "**По методу контроля FDR Бенджамини-Иекутиели:**"
      ],
      "metadata": {
        "id": "M38dWvEQZl7y"
      }
    },
    {
      "cell_type": "code",
      "source": [
        "reject, p_val_by = multipletests(p_val, method = 'fdr_by', alpha = 0.1)[:2]\n",
        "print(*reject)"
      ],
      "metadata": {
        "colab": {
          "base_uri": "https://localhost:8080/"
        },
        "id": "17A2iSnuZlex",
        "outputId": "f9d56b47-ea22-40f0-b9df-aec524eb7dca"
      },
      "execution_count": null,
      "outputs": [
        {
          "output_type": "stream",
          "name": "stdout",
          "text": [
            "True False False False\n"
          ]
        }
      ]
    },
    {
      "cell_type": "markdown",
      "source": [
        "**Получаем, что при заданном $\\alpha = 0.05$ стоит отвергнуть гипотезу о  неэффективности Хлорпромазина, остальных лекарств - нет.**"
      ],
      "metadata": {
        "id": "UvZebz7Aepou"
      }
    },
    {
      "cell_type": "markdown",
      "source": [
        "**По методу Холма контроля FWER:**"
      ],
      "metadata": {
        "id": "DcmxPjZDXrkc"
      }
    },
    {
      "cell_type": "code",
      "source": [
        "p_corr = p_values_correct(p_val, m = 4)\n",
        "p_corr_s ={key: round(p_corr[i],3) for i,key in enumerate(data[\"Название\"][1:])} \n",
        "print(f'Cкорректированные p_value: {p_corr_s}')"
      ],
      "metadata": {
        "colab": {
          "base_uri": "https://localhost:8080/"
        },
        "id": "C2iHTxHSYN9b",
        "outputId": "87adf745-c456-4492-a25a-ceeba1df607c"
      },
      "execution_count": null,
      "outputs": [
        {
          "output_type": "stream",
          "name": "stdout",
          "text": [
            "Cкорректированные p_value: {'Хлорпромазин': 0.011, 'Дименгидринат': 2.22, 'Пентобарбитал (100 мг)': 1.0, 'Пентобарбитал (150 мг)': 1.0}\n"
          ]
        }
      ]
    },
    {
      "cell_type": "markdown",
      "source": [
        "**Сравнивая с $\\alpha = 0.05$ получаем, что скорее всего ни одно из лекарств, кроме Хлорпромазина, не эффективнее плацебо** "
      ],
      "metadata": {
        "id": "jYCMweXdZPvy"
      }
    },
    {
      "cell_type": "markdown",
      "metadata": {
        "id": "khwfRfpXQ7Ze"
      },
      "source": [
        "**Вывод:**\n",
        "\n",
        "**В данной задаче значения статистики критерия Вальда для различных выборок весьма различаются, при этом сам критерий имеет вид:**\n",
        "$$S = \\{x^i\\in X^i: W(x^i,y) > z_{1-\\alpha} \\}$$ \n",
        "$$\\alpha = 0.05 \\Rightarrow z_{1-\\alpha} = 1.64$$\n",
        "**Из полученных значений $W(x^i,y)$ не превосходит это $z_{1-\\alpha}$ только для Пентобарбитала (150 мг) и Хлопромазина, отстальные результаты статистически не значимы. При переходе к p-value получили нормированную метрику уверенности в гипотезе, p-value не привосходит $\\alpha$ (что следовало ожидать) для тех же лекарств.** \n",
        "\n",
        "**Однако этому результату нельзя доверять и требуется провести контроль ошибок путем МПГ. Анализируя FDR и FWER получаем, что скорее всего, наиболее эффективным препаратом против тошноты по отношению к плацебо будет только Хлопромазин. При этом, если бы не применяли МПГ, то при $\\alpha = 0.05$ могли бы отвергнуть нулевую гипотезу и для Пентобарбитала(150 мг)**"
      ]
    }
  ]
}